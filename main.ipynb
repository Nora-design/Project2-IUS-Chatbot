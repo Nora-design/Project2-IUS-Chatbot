{
 "cells": [
  {
   "cell_type": "markdown",
   "id": "8dba6a0a",
   "metadata": {},
   "source": [
    "## PIP INSTALLS"
   ]
  },
  {
   "cell_type": "code",
   "execution_count": null,
   "id": "9c0045f0",
   "metadata": {},
   "outputs": [
    {
     "name": "stdout",
     "output_type": "stream",
     "text": [
      "Collecting groq\n",
      "  Downloading groq-0.25.0-py3-none-any.whl.metadata (15 kB)\n",
      "Requirement already satisfied: anyio<5,>=3.5.0 in c:\\users\\emre sevinç\\projects\\project2-ius-chatbot\\venv\\lib\\site-packages (from groq) (4.9.0)\n",
      "Requirement already satisfied: distro<2,>=1.7.0 in c:\\users\\emre sevinç\\projects\\project2-ius-chatbot\\venv\\lib\\site-packages (from groq) (1.9.0)\n",
      "Requirement already satisfied: httpx<1,>=0.23.0 in c:\\users\\emre sevinç\\projects\\project2-ius-chatbot\\venv\\lib\\site-packages (from groq) (0.28.1)\n",
      "Requirement already satisfied: pydantic<3,>=1.9.0 in c:\\users\\emre sevinç\\projects\\project2-ius-chatbot\\venv\\lib\\site-packages (from groq) (2.11.5)\n",
      "Requirement already satisfied: sniffio in c:\\users\\emre sevinç\\projects\\project2-ius-chatbot\\venv\\lib\\site-packages (from groq) (1.3.1)\n",
      "Requirement already satisfied: typing-extensions<5,>=4.10 in c:\\users\\emre sevinç\\projects\\project2-ius-chatbot\\venv\\lib\\site-packages (from groq) (4.13.2)\n",
      "Requirement already satisfied: idna>=2.8 in c:\\users\\emre sevinç\\projects\\project2-ius-chatbot\\venv\\lib\\site-packages (from anyio<5,>=3.5.0->groq) (3.10)\n",
      "Requirement already satisfied: certifi in c:\\users\\emre sevinç\\projects\\project2-ius-chatbot\\venv\\lib\\site-packages (from httpx<1,>=0.23.0->groq) (2025.4.26)\n",
      "Requirement already satisfied: httpcore==1.* in c:\\users\\emre sevinç\\projects\\project2-ius-chatbot\\venv\\lib\\site-packages (from httpx<1,>=0.23.0->groq) (1.0.9)\n",
      "Requirement already satisfied: h11>=0.16 in c:\\users\\emre sevinç\\projects\\project2-ius-chatbot\\venv\\lib\\site-packages (from httpcore==1.*->httpx<1,>=0.23.0->groq) (0.16.0)\n",
      "Requirement already satisfied: annotated-types>=0.6.0 in c:\\users\\emre sevinç\\projects\\project2-ius-chatbot\\venv\\lib\\site-packages (from pydantic<3,>=1.9.0->groq) (0.7.0)\n",
      "Requirement already satisfied: pydantic-core==2.33.2 in c:\\users\\emre sevinç\\projects\\project2-ius-chatbot\\venv\\lib\\site-packages (from pydantic<3,>=1.9.0->groq) (2.33.2)\n",
      "Requirement already satisfied: typing-inspection>=0.4.0 in c:\\users\\emre sevinç\\projects\\project2-ius-chatbot\\venv\\lib\\site-packages (from pydantic<3,>=1.9.0->groq) (0.4.1)\n",
      "Downloading groq-0.25.0-py3-none-any.whl (129 kB)\n",
      "   ---------------------------------------- 0.0/129.4 kB ? eta -:--:--\n",
      "   --- ------------------------------------ 10.2/129.4 kB ? eta -:--:--\n",
      "   ------------------------------- -------- 102.4/129.4 kB 1.5 MB/s eta 0:00:01\n",
      "   ---------------------------------------- 129.4/129.4 kB 1.5 MB/s eta 0:00:00\n",
      "Installing collected packages: groq\n",
      "Successfully installed groq-0.25.0\n"
     ]
    },
    {
     "name": "stderr",
     "output_type": "stream",
     "text": [
      "\n",
      "[notice] A new release of pip is available: 24.0 -> 25.1.1\n",
      "[notice] To update, run: python.exe -m pip install --upgrade pip\n"
     ]
    }
   ],
   "source": [
    "!pip install chromadb\n",
    "!pip install groq"
   ]
  },
  {
   "cell_type": "code",
   "execution_count": 8,
   "id": "c4f3b831",
   "metadata": {},
   "outputs": [
    {
     "name": "stdout",
     "output_type": "stream",
     "text": [
      "Requirement already satisfied: pytesseract in c:\\users\\emre sevinç\\projects\\project2-ius-chatbot\\venv\\lib\\site-packages (0.3.13)\n",
      "Requirement already satisfied: packaging>=21.3 in c:\\users\\emre sevinç\\projects\\project2-ius-chatbot\\venv\\lib\\site-packages (from pytesseract) (24.2)\n",
      "Requirement already satisfied: Pillow>=8.0.0 in c:\\users\\emre sevinç\\projects\\project2-ius-chatbot\\venv\\lib\\site-packages (from pytesseract) (11.2.1)\n"
     ]
    },
    {
     "name": "stderr",
     "output_type": "stream",
     "text": [
      "\n",
      "[notice] A new release of pip is available: 24.0 -> 25.1.1\n",
      "[notice] To update, run: python.exe -m pip install --upgrade pip\n"
     ]
    },
    {
     "name": "stdout",
     "output_type": "stream",
     "text": [
      "Collecting tesseract\n",
      "  Downloading tesseract-0.1.3.tar.gz (45.6 MB)\n",
      "     ---------------------------------------- 0.0/45.6 MB ? eta -:--:--\n",
      "     ---------------------------------------- 0.0/45.6 MB ? eta -:--:--\n",
      "     --------------------------------------- 0.1/45.6 MB 660.6 kB/s eta 0:01:09\n",
      "     ---------------------------------------- 0.2/45.6 MB 1.8 MB/s eta 0:00:26\n",
      "     ---------------------------------------- 0.5/45.6 MB 3.7 MB/s eta 0:00:13\n",
      "     - -------------------------------------- 1.2/45.6 MB 6.4 MB/s eta 0:00:07\n",
      "     - -------------------------------------- 2.2/45.6 MB 10.2 MB/s eta 0:00:05\n",
      "     -- ------------------------------------- 2.7/45.6 MB 10.7 MB/s eta 0:00:05\n",
      "     --- ------------------------------------ 3.5/45.6 MB 11.2 MB/s eta 0:00:04\n",
      "     ---- ----------------------------------- 5.3/45.6 MB 15.5 MB/s eta 0:00:03\n",
      "     ----- ---------------------------------- 5.9/45.6 MB 15.7 MB/s eta 0:00:03\n",
      "     ----- ---------------------------------- 6.5/45.6 MB 15.9 MB/s eta 0:00:03\n",
      "     ------- -------------------------------- 8.0/45.6 MB 17.0 MB/s eta 0:00:03\n",
      "     ------- -------------------------------- 8.9/45.6 MB 17.3 MB/s eta 0:00:03\n",
      "     -------- ------------------------------- 9.9/45.6 MB 18.1 MB/s eta 0:00:02\n",
      "     --------- ----------------------------- 10.9/45.6 MB 24.2 MB/s eta 0:00:02\n",
      "     ---------- ---------------------------- 11.9/45.6 MB 24.2 MB/s eta 0:00:02\n",
      "     ---------- ---------------------------- 12.8/45.6 MB 23.4 MB/s eta 0:00:02\n",
      "     ------------ -------------------------- 14.3/45.6 MB 26.2 MB/s eta 0:00:02\n",
      "     ------------ -------------------------- 15.0/45.6 MB 24.2 MB/s eta 0:00:02\n",
      "     ------------- ------------------------- 16.0/45.6 MB 25.2 MB/s eta 0:00:02\n",
      "     -------------- ------------------------ 17.0/45.6 MB 27.3 MB/s eta 0:00:02\n",
      "     --------------- ----------------------- 18.1/45.6 MB 24.2 MB/s eta 0:00:02\n",
      "     ---------------- ---------------------- 19.6/45.6 MB 26.2 MB/s eta 0:00:01\n",
      "     ----------------- --------------------- 20.2/45.6 MB 25.2 MB/s eta 0:00:02\n",
      "     ------------------ -------------------- 21.3/45.6 MB 25.2 MB/s eta 0:00:01\n",
      "     ------------------- ------------------- 22.2/45.6 MB 25.1 MB/s eta 0:00:01\n",
      "     ------------------- ------------------- 23.3/45.6 MB 25.2 MB/s eta 0:00:01\n",
      "     -------------------- ------------------ 24.1/45.6 MB 24.2 MB/s eta 0:00:01\n",
      "     --------------------- ----------------- 25.4/45.6 MB 24.2 MB/s eta 0:00:01\n",
      "     ---------------------- ---------------- 26.2/45.6 MB 24.2 MB/s eta 0:00:01\n",
      "     ----------------------- --------------- 27.1/45.6 MB 24.2 MB/s eta 0:00:01\n",
      "     ------------------------ -------------- 28.1/45.6 MB 24.2 MB/s eta 0:00:01\n",
      "     ------------------------- ------------- 29.2/45.6 MB 24.3 MB/s eta 0:00:01\n",
      "     ------------------------- ------------- 30.1/45.6 MB 23.4 MB/s eta 0:00:01\n",
      "     -------------------------- ------------ 31.1/45.6 MB 23.4 MB/s eta 0:00:01\n",
      "     --------------------------- ----------- 32.2/45.6 MB 23.4 MB/s eta 0:00:01\n",
      "     ---------------------------- ---------- 33.1/45.6 MB 24.2 MB/s eta 0:00:01\n",
      "     ----------------------------- --------- 34.1/45.6 MB 24.2 MB/s eta 0:00:01\n",
      "     ----------------------------- --------- 34.9/45.6 MB 24.2 MB/s eta 0:00:01\n",
      "     ------------------------------ -------- 35.8/45.6 MB 24.2 MB/s eta 0:00:01\n",
      "     ------------------------------- ------- 36.8/45.6 MB 24.2 MB/s eta 0:00:01\n",
      "     -------------------------------- ------ 37.7/45.6 MB 24.2 MB/s eta 0:00:01\n",
      "     --------------------------------- ----- 39.0/45.6 MB 25.2 MB/s eta 0:00:01\n",
      "     ---------------------------------- ---- 39.9/45.6 MB 25.2 MB/s eta 0:00:01\n",
      "     ---------------------------------- ---- 40.8/45.6 MB 24.2 MB/s eta 0:00:01\n",
      "     ------------------------------------ -- 42.1/45.6 MB 25.2 MB/s eta 0:00:01\n",
      "     ------------------------------------ -- 43.2/45.6 MB 26.2 MB/s eta 0:00:01\n",
      "     ------------------------------------- - 44.2/45.6 MB 25.2 MB/s eta 0:00:01\n",
      "     --------------------------------------  44.9/45.6 MB 25.2 MB/s eta 0:00:01\n",
      "     --------------------------------------  45.5/45.6 MB 25.1 MB/s eta 0:00:01\n",
      "     --------------------------------------  45.5/45.6 MB 25.1 MB/s eta 0:00:01\n",
      "     --------------------------------------  45.5/45.6 MB 25.1 MB/s eta 0:00:01\n",
      "     --------------------------------------  45.5/45.6 MB 25.1 MB/s eta 0:00:01\n",
      "     --------------------------------------  45.5/45.6 MB 25.1 MB/s eta 0:00:01\n",
      "     --------------------------------------  45.5/45.6 MB 25.1 MB/s eta 0:00:01\n",
      "     --------------------------------------- 45.6/45.6 MB 16.4 MB/s eta 0:00:00\n",
      "  Installing build dependencies: started\n",
      "  Installing build dependencies: finished with status 'done'\n",
      "  Getting requirements to build wheel: started\n",
      "  Getting requirements to build wheel: finished with status 'done'\n",
      "  Preparing metadata (pyproject.toml): started\n",
      "  Preparing metadata (pyproject.toml): finished with status 'done'\n",
      "Building wheels for collected packages: tesseract\n",
      "  Building wheel for tesseract (pyproject.toml): started\n",
      "  Building wheel for tesseract (pyproject.toml): finished with status 'done'\n",
      "  Created wheel for tesseract: filename=tesseract-0.1.3-py3-none-any.whl size=45562602 sha256=94f762fe876f29244b4e89e7374f9dc767164659e78266feffb99e13d79a9a2d\n",
      "  Stored in directory: c:\\users\\emre sevinç\\appdata\\local\\pip\\cache\\wheels\\13\\1f\\8e\\2d6c0e358fd6d01ca80ecd9185a374bcda35879f4fec727242\n",
      "Successfully built tesseract\n",
      "Installing collected packages: tesseract\n",
      "Successfully installed tesseract-0.1.3\n"
     ]
    },
    {
     "name": "stderr",
     "output_type": "stream",
     "text": [
      "\n",
      "[notice] A new release of pip is available: 24.0 -> 25.1.1\n",
      "[notice] To update, run: python.exe -m pip install --upgrade pip\n"
     ]
    }
   ],
   "source": [
    "!pip install pytesseract\n",
    "!pip install tesseract"
   ]
  },
  {
   "cell_type": "markdown",
   "id": "82ffee23",
   "metadata": {},
   "source": [
    "## Data collection and ChromaDB Vector Database"
   ]
  },
  {
   "cell_type": "markdown",
   "id": "3fd91133",
   "metadata": {},
   "source": [
    "### Data Collection"
   ]
  },
  {
   "cell_type": "markdown",
   "id": "99091adc",
   "metadata": {},
   "source": [
    "#### Data Download"
   ]
  },
  {
   "cell_type": "code",
   "execution_count": 11,
   "id": "d2d68ca5",
   "metadata": {},
   "outputs": [],
   "source": [
    "# PDF\n",
    "import fitz\n",
    "\n",
    "def extract_text_from_pdf(path):\n",
    "    doc = fitz.open(path)\n",
    "    return \"\\n\".join([page.get_text() for page in doc])\n",
    "\n",
    "# DOCX\n",
    "from docx import Document\n",
    "\n",
    "def extract_text_from_docx(path):\n",
    "    doc = Document(path)\n",
    "    return \"\\n\".join([p.text for p in doc.paragraphs])\n",
    "\n",
    "# URL\n",
    "import trafilatura\n",
    "\n",
    "def extract_text_from_url(url):\n",
    "    downloaded = trafilatura.fetch_url(url)\n",
    "    return trafilatura.extract(downloaded)\n"
   ]
  },
  {
   "cell_type": "code",
   "execution_count": 1,
   "id": "79ba97df",
   "metadata": {},
   "outputs": [
    {
     "ename": "ImportError",
     "evalue": "cannot import name 'run_all' from 'scripts.web_scraper' (c:\\Users\\Emre Sevinç\\Projects\\Project2-IUS-Chatbot\\scripts\\web_scraper.py)",
     "output_type": "error",
     "traceback": [
      "\u001b[31m---------------------------------------------------------------------------\u001b[39m",
      "\u001b[31mImportError\u001b[39m                               Traceback (most recent call last)",
      "\u001b[36mCell\u001b[39m\u001b[36m \u001b[39m\u001b[32mIn[1]\u001b[39m\u001b[32m, line 1\u001b[39m\n\u001b[32m----> \u001b[39m\u001b[32m1\u001b[39m \u001b[38;5;28;01mfrom\u001b[39;00m\u001b[38;5;250m \u001b[39m\u001b[34;01mscripts\u001b[39;00m\u001b[34;01m.\u001b[39;00m\u001b[34;01mweb_scraper\u001b[39;00m\u001b[38;5;250m \u001b[39m\u001b[38;5;28;01mimport\u001b[39;00m run_all\n\u001b[32m      2\u001b[39m run_all()\n",
      "\u001b[31mImportError\u001b[39m: cannot import name 'run_all' from 'scripts.web_scraper' (c:\\Users\\Emre Sevinç\\Projects\\Project2-IUS-Chatbot\\scripts\\web_scraper.py)"
     ]
    }
   ],
   "source": [
    "from scripts.web_scraper import run_all\n",
    "run_all()\n"
   ]
  },
  {
   "cell_type": "markdown",
   "id": "5b0fb616",
   "metadata": {},
   "source": [
    "#### Data Generation and Preparing it for DB"
   ]
  },
  {
   "cell_type": "code",
   "execution_count": 1,
   "id": "eac8b277",
   "metadata": {},
   "outputs": [
    {
     "name": "stdout",
     "output_type": "stream",
     "text": [
      "✅ Metadata saved for: 02-policy-regulations-on-public-relations-and-communication1.pdf\n",
      "✅ Metadata saved for: 04-international-university-of-sarajevo-communications-strategy-eng1.pdf\n",
      "✅ Metadata saved for: 11.-academic-promotion-artistic-fields.pdf\n",
      "✅ Metadata saved for: 11.-academic-promotion-scientific-fields.pdf\n",
      "✅ Metadata saved for: 1a_-quality-assurance-office-policy-bot1.pdf\n",
      "✅ Metadata saved for: 23_11_23_ius-senat-11-2916-23_odluka_o_usvajanju_preciscenje_verzije_nastavnih_planova_i_programa.pdf\n",
      "✅ Metadata saved for: 7-odluka-o-razvoju-i-implementaciji-ius-strategije-engl-bot1.pdf\n",
      "✅ Metadata saved for: 715_-_decision_on_amendements_to_the_study_rules_-_minor_degree-_change_of_the_article_431.pdf\n",
      "✅ Metadata saved for: action-plan-for-internationalisation-strategy-2024-2029.pdf\n",
      "✅ Metadata saved for: action-plan-for-quality-improvement-2024-2029-eng-version.pdf\n",
      "✅ Metadata saved for: AIDE_Curriculum_I_Cycle.pdf\n",
      "✅ Metadata saved for: amendment-i-to-study-rules-on-first-study-cycle-article-26-2024.pdf\n",
      "✅ Metadata saved for: amendment_ii_to_study_rules_on_first_study_cycle_article_23_2024.pdf\n",
      "✅ Metadata saved for: ARCH_Curriculum_II_Cycle.pdf\n",
      "✅ Metadata saved for: ARCH_Curriculum_I_Cycle.pdf\n",
      "✅ Metadata saved for: bilgisayar-muhendisligi-mu_compressed.pdf\n",
      "✅ Metadata saved for: bioengineering-mu.pdf\n",
      "✅ Metadata saved for: BIO_Curriculum_III_Cycle.pdf\n",
      "✅ Metadata saved for: BIO_Curriculum_II_Cycle.pdf\n",
      "✅ Metadata saved for: BIO_Curriculum_I_Cycle.pdf\n",
      "✅ Metadata saved for: book-of-rules-on-bsc.pdf\n",
      "✅ Metadata saved for: book_of_rules_on_accepting_implementation_and_evaluation_of_study_programs_at_ius1.pdf\n",
      "✅ Metadata saved for: book_of_rules_on_labor_relations_of_ius_april_2025.pdf\n",
      "✅ Metadata saved for: book_of_rules_on_maternity_ans_paternity_leave1.pdf\n",
      "✅ Metadata saved for: book_of_rules_on_participation_in_exchange_programs1.pdf\n",
      "✅ Metadata saved for: book_of_rules_on_procedure-effective_taching_processes_of_the_academic_staff-1.pdf\n",
      "✅ Metadata saved for: book_of_rules_on_procedures_relating_to_attendance_at_academic_conferances_1.pdf\n",
      "✅ Metadata saved for: book_of_rules_on_procedure_effective_teaching_processes_of_the_academic_staff_at_ius_201411.pdf\n",
      "✅ Metadata saved for: book_of_rules_on_publishing_activities_at_ius_002-20161.pdf\n",
      "✅ Metadata saved for: book_of_rules_on_recognition_of_passed_courses_and_of_their_equivalence_at_ius1.pdf\n",
      "✅ Metadata saved for: bot-decision-on-estab.-of-new-professional-administrative-unite-ddcc.pdf\n",
      "✅ Metadata saved for: CEIT_Curriculum_I_Cycle.pdf\n",
      "✅ Metadata saved for: code_of_ethics1.pdf\n",
      "✅ Metadata saved for: CSE_Curriculum_III_Cycle.pdf\n",
      "✅ Metadata saved for: CSE_Curriculum_II_Cycle.pdf\n",
      "✅ Metadata saved for: CSE_Curriculum_I_Cycle.pdf\n",
      "✅ Metadata saved for: CULT_Curriculum_III_Cycle.pdf\n",
      "✅ Metadata saved for: CULT_Curriculum_II_Cycle.pdf\n",
      "✅ Metadata saved for: CULT_Curriculum_I_Cycle.pdf\n",
      "✅ Metadata saved for: decision-on-adoption-of-the-new-internatioalization-strategy-2024.pdf\n",
      "✅ Metadata saved for: decision-on-amendment-to-the-decision-on-appointment-of-curricula-committee.pdf\n",
      "✅ Metadata saved for: decision-on-establishment-of-sbm-at-ius-2022.pdf\n",
      "✅ Metadata saved for: decision-on-establishment-of-strategic-management-body-at-ius-2024.pdf\n",
      "✅ Metadata saved for: decision-on-forming-the-team-for-developing-guidlines-and-procedures-for-inclusion-of-students-with-disabilities-2023-.pdf\n",
      "✅ Metadata saved for: decision-sdg-executive-committee.pdf\n",
      "✅ Metadata saved for: decision_of_amended_list_of_ius_publications_register_data_bases1.pdf\n",
      "✅ Metadata saved for: decision_on_adoption_of_the_action_plan_20201.pdf\n",
      "✅ Metadata saved for: decision_on_amendments_of_the_study_rules_for_ii_and_iii_cycle_of_studies1.pdf\n",
      "✅ Metadata saved for: decision_on_cancelation_of_scholarship_in_case_of_transfer_to_another_program1.pdf\n",
      "✅ Metadata saved for: decision_on_establishing_minors_advisory_committee_mac1.pdf\n",
      "✅ Metadata saved for: decision_on_internal_transfer_quotas_for_spring_semester1.pdf\n",
      "✅ Metadata saved for: decision_on_issuing_diploma_and_diploma_supplement_to_ius_graduate_students1.pdf\n",
      "✅ Metadata saved for: decision_on_shifting_of_all_mobility_programs_until_spring_20211.pdf\n",
      "✅ Metadata saved for: decision_on_the_cumulative_criteria_for_internal_student_transfers_at_ius1.pdf\n",
      "✅ Metadata saved for: doc006081201710190825041.pdf\n",
      "✅ Metadata saved for: ECON_Curriculum_III_Cycle.pdf\n",
      "✅ Metadata saved for: ECON_Curriculum_II_Cycle.pdf\n",
      "✅ Metadata saved for: ECON_Curriculum_I_Cycle.pdf\n",
      "✅ Metadata saved for: EE_Curriculum_III_Cycle.pdf\n",
      "✅ Metadata saved for: EE_Curriculum_II_Cycle.pdf\n",
      "✅ Metadata saved for: EE_Curriculum_I_Cycle.pdf\n",
      "✅ Metadata saved for: elaborate_form_-new_sp_eng_f_166_ver.1._23.12.23_qa.pdf\n",
      "✅ Metadata saved for: ELIT_Curriculum_III_Cycle.pdf\n",
      "✅ Metadata saved for: ELIT_Curriculum_II_Cycle.pdf\n",
      "✅ Metadata saved for: ELIT_Curriculum_I_Cycle.pdf\n",
      "✅ Metadata saved for: ELT_Curriculum_III_Cycle.pdf\n",
      "✅ Metadata saved for: ELT_Curriculum_I_Cycle.pdf\n",
      "✅ Metadata saved for: exit_interview_procedure1.pdf\n",
      "✅ Metadata saved for: fass_fedu_-2022_2023_course-catalogue_undergraduate_qa-copy.pdf\n",
      "✅ Metadata saved for: fba_2022_2023_course-catalogue-undergraduate_qa-copy.pdf\n",
      "✅ Metadata saved for: fens-2022_2023_-course-catalog-undergrad.pdf\n",
      "✅ Metadata saved for: final_english_qa_rule_book1.pdf\n",
      "✅ Metadata saved for: final_ius_first_cycle_catalogue_ay_2017-20181.pdf\n",
      "✅ Metadata saved for: first-cycle-study-rules-final-ver.1-1.pdf\n",
      "✅ Metadata saved for: flw-2022_2023_course-catalog-undergraduate_qa-copy.pdf\n",
      "✅ Metadata saved for: graduate-manual-2024.pdf\n",
      "✅ Metadata saved for: guidelines-on-professional-development-during-the-covid-19-pandemic.pdf\n",
      "✅ Metadata saved for: HTM_Curriculum_I_Cycle.pdf\n",
      "✅ Metadata saved for: hukuk-mu.pdf\n",
      "✅ Metadata saved for: IBF_Curriculum_III_Cycle_Finance.pdf\n",
      "✅ Metadata saved for: IBF_Curriculum_III_Cycle_IB.pdf\n",
      "✅ Metadata saved for: IBF_Curriculum_II_Cycle_Module_1.pdf\n",
      "✅ Metadata saved for: IBF_Curriculum_II_Cycle_Module_3.pdf\n",
      "✅ Metadata saved for: IBF_Curriculum_II_Cycle_Two-Year_IB.pdf\n",
      "✅ Metadata saved for: IBF_Curriculum_II_Cycle_Two-Year_IF.pdf\n",
      "✅ Metadata saved for: IBF_Curriculum_I_Cycle.pdf\n",
      "✅ Metadata saved for: IE_Curriculum_III_Cycle.pdf\n",
      "✅ Metadata saved for: IE_Curriculum_II_Cycle.pdf\n",
      "✅ Metadata saved for: IE_Curriculum_I_Cycle.pdf\n",
      "✅ Metadata saved for: induction_policy1.pdf\n",
      "✅ Metadata saved for: inglizce-ogretmenligi-mu_compressed.pdf\n",
      "✅ Metadata saved for: instruction-on-establishment-and-maintenance-of-electronic-registry-of-curricula-and-syllabuses.pdf\n",
      "✅ Metadata saved for: instruction_on_keeping_records_on_the_realization_of_teaching_process_exams_and_completion_of_records1.pdf\n",
      "✅ Metadata saved for: internship_rules_and_regulation1.pdf\n",
      "✅ Metadata saved for: IR_Curriculum_III_Cycle.pdf\n",
      "✅ Metadata saved for: IR_Curriculum_II_Cycle.pdf\n",
      "✅ Metadata saved for: IR_Curriculum_I_Cycle.pdf\n",
      "✅ Metadata saved for: ITU-IUS_BIO_Curriculum_I_Cycle_DOUBLE_DEGREE.pdf\n",
      "✅ Metadata saved for: ITU-IUS_CE_Curriculum_I_Cycle_DOUBLE_DEGREE.pdf\n",
      "✅ Metadata saved for: itu-ius_mecanical_protokol1.pdf\n",
      "✅ Metadata saved for: ITU-IUS_Mechanical_Curriculum_I_Cycle_DOUBLE_DEGREE.pdf\n",
      "✅ Metadata saved for: ITU_IUS_ARCH_Curriculum_I_Cycle_DOUBLE_DEGREE.pdf\n",
      "✅ Metadata saved for: itu_ius_arch_protokol1.pdf\n",
      "✅ Metadata saved for: ITU_IUS_Economics_Curriculum_I_Cycle_DOUBLE_DEGREE.pdf\n",
      "✅ Metadata saved for: itu_ius_economics_protokol1.pdf\n",
      "✅ Metadata saved for: ITU_IUS_EHB_DDP_Curriculum_I_Cycle_DOUBLE_DEGREE.pdf\n",
      "✅ Metadata saved for: itu_ius_electronics_and_communication_engeenering_protocol1.pdf\n",
      "✅ Metadata saved for: IU-IUS_CE_Curriculum_I_Cycle_DOUBLE_DEGREE.pdf\n",
      "✅ Metadata saved for: IU-IUS_Economics_Curriculum_I_Cycle_DOUBLE_DEGREE.pdf\n",
      "✅ Metadata saved for: iu-ius_economics_protokol1_0.pdf\n",
      "✅ Metadata saved for: IU-IUS_ELIT_Curriculum_I_Cycle_DOUBLE_DEGREE.pdf\n",
      "✅ Metadata saved for: IU-IUS_Intern. Relations_Curriculum_I_Cycle_DOUBLE_DEGREE.pdf\n",
      "✅ Metadata saved for: iu-ius_intern._relations_protokol1.pdf\n",
      "✅ Metadata saved for: IU-IUS_LAW_Curriculum_I_Cycle_DOUBLE_DEGREE.pdf\n",
      "✅ Metadata saved for: IU-IUS_Management_Curriculum_I_Cycle_DOUBLE_DEGREE.pdf\n",
      "✅ Metadata saved for: iu-ius_management_protokol1.pdf\n",
      "✅ Metadata saved for: ius-academic-staff-evaluation-2023.pdf\n",
      "✅ Metadata saved for: ius-covid19-plan1.pdf\n",
      "✅ Metadata saved for: ius_-_ludwigshafen_university_of_business_and_society_protocol1.pdf\n",
      "✅ Metadata saved for: ius_gep-2.pdf\n",
      "✅ Metadata saved for: ius_occupational_safety_rulebook1.pdf\n",
      "✅ Metadata saved for: ius_publication_registry_decision1.pdf\n",
      "✅ Metadata saved for: ius_strategic_plan_2022_20261.pdf\n",
      "✅ Metadata saved for: ius_strategic_plan_english.pdf\n",
      "✅ Metadata saved for: ius_university_pool.pdf\n",
      "✅ Metadata saved for: leaves_procedures_for_academic_staff1.pdf\n",
      "✅ Metadata saved for: leaves_procedures_for_administrative_staff1.pdf\n",
      "✅ Metadata saved for: MAC_Curriculum_I_Cycle.pdf\n",
      "✅ Metadata saved for: MAN_Curriculum_III_Cycle.pdf\n",
      "✅ Metadata saved for: MAN_Curriculum_II_Cycle.pdf\n",
      "✅ Metadata saved for: MAN_Curriculum_II_Cycle_DOUBLE_DEGREE (1).pdf\n",
      "✅ Metadata saved for: MAN_Curriculum_II_Cycle_DOUBLE_DEGREE.pdf\n",
      "✅ Metadata saved for: MAN_Curriculum_II_Cycle_Two-Year.pdf\n",
      "✅ Metadata saved for: MAN_Curriculum_I_Cycle.pdf\n",
      "✅ Metadata saved for: matrix_1_sample_correspondence-between-bhqf-i-cycle-and-sp-learning-outcomes.pdf\n",
      "✅ Metadata saved for: ME_Curriculum_III_Cycle.pdf\n",
      "✅ Metadata saved for: ME_Curriculum_II_Cycle.pdf\n",
      "✅ Metadata saved for: ME_Curriculum_I_Cycle.pdf\n",
      "✅ Metadata saved for: ME_Curriculum_I_Cycle_BETWEEN_AY_2022-2023_AND_AY_2023-2024.pdf\n",
      "✅ Metadata saved for: Minor_in_ARCH_I_Cycle.pdf\n",
      "✅ Metadata saved for: Minor_in_CS_I_Cycle.pdf\n",
      "✅ Metadata saved for: Minor_in_ECON_I_Cycle.pdf\n",
      "✅ Metadata saved for: Minor_in_EEE_I_Cycle.pdf\n",
      "✅ Metadata saved for: Minor_in_ELIT_I_Cycle.pdf\n",
      "✅ Metadata saved for: Minor_in_ELT_I_Cycle.pdf\n",
      "✅ Metadata saved for: Minor_in_GBE_I_Cycle.pdf\n",
      "✅ Metadata saved for: Minor_in_IBF_I_Cycle.pdf\n",
      "✅ Metadata saved for: Minor_in_IR_I_Cycle.pdf\n",
      "✅ Metadata saved for: Minor_in_MAN_I_Cycle.pdf\n",
      "✅ Metadata saved for: Minor_in_ME_I_Cycle.pdf\n",
      "✅ Metadata saved for: Minor_in_PSIR_I_Cycle.pdf\n",
      "✅ Metadata saved for: Minor_in_PSY_I_Cycle.pdf\n",
      "✅ Metadata saved for: Minor_in_PS_I_Cycle.pdf\n",
      "✅ Metadata saved for: Minor_in_SE_I_Cycle.pdf\n",
      "✅ Metadata saved for: Minor_in_TLT_I_Cycle.pdf\n",
      "✅ Metadata saved for: Minor_in_VACD_I_Cycle.pdf\n",
      "✅ Metadata saved for: MU-IUS_BIO_Curriculum_I_Cycle_DOUBLE_DEGREE.pdf\n",
      "✅ Metadata saved for: MU-IUS_CE_Curriculum_I_Cycle_DOUBLE_DEGREE.pdf\n",
      "✅ Metadata saved for: MU-IUS_ELT_Curriculum_I_Cycle_DOUBLE_DEGREE.pdf\n",
      "✅ Metadata saved for: MU-IUS_LAW_Curriculum_I_Cycle_DOUBLE_DEGREE.pdf\n",
      "✅ Metadata saved for: policy_on_drugs_and_alcohol_abuse1.pdf\n",
      "✅ Metadata saved for: potpisana-verzija-strategije-o-internacionalizaciji.pdf\n",
      "✅ Metadata saved for: pravilnik-o-priznavanju-inostranih-visokoskolskih-kvalifikacija.pdf\n",
      "✅ Metadata saved for: procedure_on_academic_promotion_at_ius-all1.pdf\n",
      "✅ Metadata saved for: protocol_on_the_establishment_of_international_joint_undergraduate_program_in_law_iu.pdf\n",
      "✅ Metadata saved for: PSIR_Curriculum_III_Cycle.pdf\n",
      "✅ Metadata saved for: PSIR_Curriculum_II_Cycle.pdf\n",
      "✅ Metadata saved for: PSIR_Curriculum_II_Cycle_Two-Year.pdf\n",
      "✅ Metadata saved for: PSIR_Curriculum_I_Cycle.pdf\n",
      "✅ Metadata saved for: PSY_Curriculum_III_Cycle.pdf\n",
      "✅ Metadata saved for: PSY_Curriculum_II_Cycle.pdf\n",
      "✅ Metadata saved for: PSY_Curriculum_I_Cycle.pdf\n",
      "✅ Metadata saved for: qa-pravilnik-bos.pdf\n",
      "✅ Metadata saved for: rdc_rules_and_procedures1.pdf\n",
      "✅ Metadata saved for: rectors_decision_on_student_survey1.pdf\n",
      "✅ Metadata saved for: report-for-mobility-final.pdf\n",
      "✅ Metadata saved for: rulebook_on_organization_of_the_distance_learning_at_ius1.pdf\n",
      "✅ Metadata saved for: rules_and_procedures_of_the_project_management_office1.pdf\n",
      "✅ Metadata saved for: rules_of_procedure_of_the_committee_for_monitoring_study_programs_curriculum_committee1.pdf\n",
      "✅ Metadata saved for: rules_on_academic_failure_at_ius1.pdf\n",
      "✅ Metadata saved for: sample_matrix_2_annex_xx_courses_impact_on_los_gbe.pdf\n",
      "✅ Metadata saved for: sdg-executive-committee-sdg-policy.pdf\n",
      "✅ Metadata saved for: sdg-policy.pdf\n",
      "✅ Metadata saved for: section_of_statut_regulating_students_disciplinary_matters_-_english1.pdf\n",
      "✅ Metadata saved for: senate-decision-incomplete-grade0011.pdf\n",
      "✅ Metadata saved for: senate-decision-on-extended-admission-deadlines-for-foreign-students-2024.pdf\n",
      "✅ Metadata saved for: senate_decision_on_extension_of_definition_on_published_scientific_papers1.pdf\n",
      "✅ Metadata saved for: sexual_harassment_policy1.pdf\n",
      "✅ Metadata saved for: SE_Curriculum_II_Cycle.pdf\n",
      "✅ Metadata saved for: SE_Curriculum_I_Cycle.pdf\n",
      "✅ Metadata saved for: SPS_Curriculum_III_Cycle.pdf\n",
      "✅ Metadata saved for: SPS_Curriculum_II_Cycle.pdf\n",
      "✅ Metadata saved for: SPS_Curriculum_I_Cycle.pdf\n",
      "✅ Metadata saved for: study-rules-for-the-second-cycle-studies-revised-text-2024.pdf\n",
      "✅ Metadata saved for: study-rules-for-third-study-cycle-revised-text-2024.pdf\n",
      "✅ Metadata saved for: the-policy-on-part-time-lecturers-at-ius.pdf\n",
      "✅ Metadata saved for: TLT_Curriculum_I_Cycle.pdf\n",
      "✅ Metadata saved for: uo-odluka-o-kriterijima-za-dodjelu-stipendija-za-2-ciklus-studija.pdf\n",
      "✅ Metadata saved for: uo_33-2011_-_odluka_o_proceduri_razvoja_donosenja_i_implementacije_strategije_ius1.pdf\n",
      "✅ Metadata saved for: VACD_Curriculum_II_Cycle.pdf\n",
      "✅ Metadata saved for: VACD_Curriculum_I_Cycle.pdf\n"
     ]
    }
   ],
   "source": [
    "from scripts.generate_metadata import run_for_all_pdfs\n",
    "run_for_all_pdfs()"
   ]
  },
  {
   "cell_type": "code",
   "execution_count": 1,
   "id": "8090ec9c",
   "metadata": {},
   "outputs": [
    {
     "name": "stdout",
     "output_type": "stream",
     "text": [
      "{'ids': [['doc1']], 'distances': [[1.3172736]], 'embeddings': None, 'metadatas': [[{'source': 'test'}]], 'documents': [['Test document for v2 API']], 'uris': None, 'data': None, 'included': ['metadatas', 'documents', 'distances']}\n"
     ]
    }
   ],
   "source": [
    "#test\n",
    "import chromadb\n",
    "\n",
    "client = chromadb.HttpClient(host=\"localhost\", port=8000)\n",
    "\n",
    "collection = client.get_or_create_collection(\"ius_documents\")\n",
    "\n",
    "# Add a document\n",
    "collection.add(\n",
    "    documents=[\"Test document for v2 API\"],\n",
    "    metadatas=[{\"source\": \"test\"}],\n",
    "    ids=[\"doc1\"]\n",
    ")\n",
    "\n",
    "# Query it\n",
    "results = collection.query(\n",
    "    query_texts=[\"test\"],\n",
    "    n_results=1\n",
    ")\n",
    "\n",
    "print(results)\n"
   ]
  },
  {
   "cell_type": "code",
   "execution_count": 2,
   "id": "fedc16cf",
   "metadata": {},
   "outputs": [
    {
     "name": "stderr",
     "output_type": "stream",
     "text": [
      "c:\\Users\\Emre Sevinç\\Projects\\Project2-IUS-Chatbot\\venv\\Lib\\site-packages\\tqdm\\auto.py:21: TqdmWarning: IProgress not found. Please update jupyter and ipywidgets. See https://ipywidgets.readthedocs.io/en/stable/user_install.html\n",
      "  from .autonotebook import tqdm as notebook_tqdm\n",
      "Created a chunk of size 1885, which is longer than the specified 500\n",
      "Created a chunk of size 2469, which is longer than the specified 500\n",
      "Created a chunk of size 2774, which is longer than the specified 500\n",
      "Created a chunk of size 2382, which is longer than the specified 500\n"
     ]
    },
    {
     "name": "stdout",
     "output_type": "stream",
     "text": [
      "📄 Processing: 02-policy-regulations-on-public-relations-and-communication1.pdf\n"
     ]
    },
    {
     "name": "stderr",
     "output_type": "stream",
     "text": [
      "Created a chunk of size 2723, which is longer than the specified 500\n",
      "Created a chunk of size 3235, which is longer than the specified 500\n",
      "Created a chunk of size 3032, which is longer than the specified 500\n",
      "Created a chunk of size 1551, which is longer than the specified 500\n",
      "Created a chunk of size 2248, which is longer than the specified 500\n",
      "Created a chunk of size 2728, which is longer than the specified 500\n",
      "Created a chunk of size 2185, which is longer than the specified 500\n",
      "Created a chunk of size 2828, which is longer than the specified 500\n",
      "Created a chunk of size 2358, which is longer than the specified 500\n",
      "Created a chunk of size 2453, which is longer than the specified 500\n",
      "Created a chunk of size 1106, which is longer than the specified 500\n",
      "Created a chunk of size 1475, which is longer than the specified 500\n",
      "Created a chunk of size 784, which is longer than the specified 500\n",
      "Created a chunk of size 1314, which is longer than the specified 500\n",
      "Created a chunk of size 1468, which is longer than the specified 500\n",
      "Created a chunk of size 1644, which is longer than the specified 500\n",
      "Created a chunk of size 2227, which is longer than the specified 500\n",
      "Created a chunk of size 1920, which is longer than the specified 500\n",
      "Created a chunk of size 1126, which is longer than the specified 500\n",
      "Created a chunk of size 1170, which is longer than the specified 500\n",
      "Created a chunk of size 1271, which is longer than the specified 500\n",
      "Created a chunk of size 1302, which is longer than the specified 500\n",
      "Created a chunk of size 1066, which is longer than the specified 500\n",
      "Created a chunk of size 1098, which is longer than the specified 500\n",
      "Created a chunk of size 1105, which is longer than the specified 500\n",
      "Created a chunk of size 1199, which is longer than the specified 500\n",
      "Created a chunk of size 1220, which is longer than the specified 500\n"
     ]
    },
    {
     "name": "stdout",
     "output_type": "stream",
     "text": [
      "✅ Stored 5 chunks for 02-policy-regulations-on-public-relations-and-communication1.pdf\n",
      "📄 Processing: 04-international-university-of-sarajevo-communications-strategy-eng1.pdf\n",
      "✅ Stored 0 chunks for 04-international-university-of-sarajevo-communications-strategy-eng1.pdf\n",
      "📄 Processing: 11.-academic-promotion-artistic-fields.pdf\n"
     ]
    },
    {
     "name": "stderr",
     "output_type": "stream",
     "text": [
      "Created a chunk of size 2796, which is longer than the specified 500\n",
      "Created a chunk of size 2987, which is longer than the specified 500\n",
      "Created a chunk of size 2662, which is longer than the specified 500\n",
      "Created a chunk of size 2566, which is longer than the specified 500\n",
      "Created a chunk of size 2406, which is longer than the specified 500\n",
      "Created a chunk of size 2761, which is longer than the specified 500\n",
      "Created a chunk of size 1635, which is longer than the specified 500\n",
      "Created a chunk of size 1453, which is longer than the specified 500\n",
      "Created a chunk of size 1066, which is longer than the specified 500\n",
      "Created a chunk of size 3931, which is longer than the specified 500\n",
      "Created a chunk of size 1433, which is longer than the specified 500\n",
      "Created a chunk of size 1715, which is longer than the specified 500\n",
      "Created a chunk of size 2201, which is longer than the specified 500\n",
      "Created a chunk of size 2620, which is longer than the specified 500\n",
      "Created a chunk of size 1508, which is longer than the specified 500\n",
      "Created a chunk of size 1346, which is longer than the specified 500\n",
      "Created a chunk of size 1126, which is longer than the specified 500\n",
      "Created a chunk of size 1218, which is longer than the specified 500\n",
      "Created a chunk of size 1271, which is longer than the specified 500\n",
      "Created a chunk of size 1302, which is longer than the specified 500\n",
      "Created a chunk of size 1066, which is longer than the specified 500\n",
      "Created a chunk of size 1159, which is longer than the specified 500\n",
      "Created a chunk of size 1105, which is longer than the specified 500\n",
      "Created a chunk of size 1275, which is longer than the specified 500\n",
      "Created a chunk of size 1265, which is longer than the specified 500\n"
     ]
    },
    {
     "name": "stdout",
     "output_type": "stream",
     "text": [
      "✅ Stored 31 chunks for 11.-academic-promotion-artistic-fields.pdf\n",
      "📄 Processing: 11.-academic-promotion-scientific-fields.pdf\n"
     ]
    },
    {
     "name": "stderr",
     "output_type": "stream",
     "text": [
      "Created a chunk of size 1910, which is longer than the specified 500\n"
     ]
    },
    {
     "name": "stdout",
     "output_type": "stream",
     "text": [
      "✅ Stored 28 chunks for 11.-academic-promotion-scientific-fields.pdf\n",
      "📄 Processing: 1a_-quality-assurance-office-policy-bot1.pdf\n",
      "✅ Stored 2 chunks for 1a_-quality-assurance-office-policy-bot1.pdf\n",
      "📄 Processing: 23_11_23_ius-senat-11-2916-23_odluka_o_usvajanju_preciscenje_verzije_nastavnih_planova_i_programa.pdf\n",
      "✅ Stored 0 chunks for 23_11_23_ius-senat-11-2916-23_odluka_o_usvajanju_preciscenje_verzije_nastavnih_planova_i_programa.pdf\n",
      "📄 Processing: 7-odluka-o-razvoju-i-implementaciji-ius-strategije-engl-bot1.pdf\n"
     ]
    },
    {
     "name": "stderr",
     "output_type": "stream",
     "text": [
      "Created a chunk of size 2169, which is longer than the specified 500\n",
      "Created a chunk of size 1967, which is longer than the specified 500\n",
      "Created a chunk of size 1302, which is longer than the specified 500\n",
      "Created a chunk of size 2637, which is longer than the specified 500\n",
      "Created a chunk of size 2633, which is longer than the specified 500\n"
     ]
    },
    {
     "name": "stdout",
     "output_type": "stream",
     "text": [
      "✅ Stored 2 chunks for 7-odluka-o-razvoju-i-implementaciji-ius-strategije-engl-bot1.pdf\n",
      "📄 Processing: 715_-_decision_on_amendements_to_the_study_rules_-_minor_degree-_change_of_the_article_431.pdf\n",
      "✅ Stored 2 chunks for 715_-_decision_on_amendements_to_the_study_rules_-_minor_degree-_change_of_the_article_431.pdf\n",
      "📄 Processing: action-plan-for-internationalisation-strategy-2024-2029.pdf\n"
     ]
    },
    {
     "name": "stderr",
     "output_type": "stream",
     "text": [
      "Created a chunk of size 551, which is longer than the specified 500\n",
      "Created a chunk of size 3220, which is longer than the specified 500\n",
      "Created a chunk of size 1937, which is longer than the specified 500\n",
      "Created a chunk of size 1926, which is longer than the specified 500\n",
      "Created a chunk of size 2501, which is longer than the specified 500\n",
      "Created a chunk of size 2088, which is longer than the specified 500\n",
      "Created a chunk of size 1879, which is longer than the specified 500\n",
      "Created a chunk of size 2328, which is longer than the specified 500\n",
      "Created a chunk of size 1611, which is longer than the specified 500\n",
      "Created a chunk of size 2496, which is longer than the specified 500\n",
      "Created a chunk of size 1664, which is longer than the specified 500\n",
      "Created a chunk of size 2369, which is longer than the specified 500\n",
      "Created a chunk of size 2405, which is longer than the specified 500\n",
      "Created a chunk of size 1976, which is longer than the specified 500\n"
     ]
    },
    {
     "name": "stdout",
     "output_type": "stream",
     "text": [
      "✅ Stored 4 chunks for action-plan-for-internationalisation-strategy-2024-2029.pdf\n",
      "📄 Processing: action-plan-for-quality-improvement-2024-2029-eng-version.pdf\n"
     ]
    },
    {
     "name": "stderr",
     "output_type": "stream",
     "text": [
      "Created a chunk of size 4240, which is longer than the specified 500\n"
     ]
    },
    {
     "name": "stdout",
     "output_type": "stream",
     "text": [
      "✅ Stored 15 chunks for action-plan-for-quality-improvement-2024-2029-eng-version.pdf\n",
      "📄 Processing: AIDE_Curriculum_I_Cycle.pdf\n"
     ]
    },
    {
     "name": "stderr",
     "output_type": "stream",
     "text": [
      "Created a chunk of size 1993, which is longer than the specified 500\n",
      "Created a chunk of size 667, which is longer than the specified 500\n",
      "Created a chunk of size 1976, which is longer than the specified 500\n"
     ]
    },
    {
     "name": "stdout",
     "output_type": "stream",
     "text": [
      "✅ Stored 2 chunks for AIDE_Curriculum_I_Cycle.pdf\n",
      "📄 Processing: amendment-i-to-study-rules-on-first-study-cycle-article-26-2024.pdf\n"
     ]
    },
    {
     "name": "stderr",
     "output_type": "stream",
     "text": [
      "Created a chunk of size 2099, which is longer than the specified 500\n",
      "Created a chunk of size 730, which is longer than the specified 500\n",
      "Created a chunk of size 2157, which is longer than the specified 500\n"
     ]
    },
    {
     "name": "stdout",
     "output_type": "stream",
     "text": [
      "✅ Stored 4 chunks for amendment-i-to-study-rules-on-first-study-cycle-article-26-2024.pdf\n",
      "📄 Processing: amendment_ii_to_study_rules_on_first_study_cycle_article_23_2024.pdf\n",
      "✅ Stored 4 chunks for amendment_ii_to_study_rules_on_first_study_cycle_article_23_2024.pdf\n",
      "📄 Processing: ARCH_Curriculum_II_Cycle.pdf\n",
      "✅ Stored 1 chunks for ARCH_Curriculum_II_Cycle.pdf\n",
      "📄 Processing: ARCH_Curriculum_I_Cycle.pdf\n",
      "✅ Stored 1 chunks for ARCH_Curriculum_I_Cycle.pdf\n",
      "📄 Processing: bilgisayar-muhendisligi-mu_compressed.pdf\n",
      "✅ Stored 0 chunks for bilgisayar-muhendisligi-mu_compressed.pdf\n",
      "📄 Processing: bioengineering-mu.pdf\n",
      "✅ Stored 0 chunks for bioengineering-mu.pdf\n",
      "📄 Processing: BIO_Curriculum_III_Cycle.pdf\n"
     ]
    },
    {
     "name": "stderr",
     "output_type": "stream",
     "text": [
      "Created a chunk of size 4018, which is longer than the specified 500\n"
     ]
    },
    {
     "name": "stdout",
     "output_type": "stream",
     "text": [
      "✅ Stored 1 chunks for BIO_Curriculum_III_Cycle.pdf\n",
      "📄 Processing: BIO_Curriculum_II_Cycle.pdf\n",
      "✅ Stored 1 chunks for BIO_Curriculum_II_Cycle.pdf\n",
      "📄 Processing: BIO_Curriculum_I_Cycle.pdf\n"
     ]
    },
    {
     "name": "stderr",
     "output_type": "stream",
     "text": [
      "Created a chunk of size 1992, which is longer than the specified 500\n",
      "Created a chunk of size 2385, which is longer than the specified 500\n",
      "Created a chunk of size 2759, which is longer than the specified 500\n",
      "Created a chunk of size 2639, which is longer than the specified 500\n",
      "Created a chunk of size 2847, which is longer than the specified 500\n",
      "Created a chunk of size 2402, which is longer than the specified 500\n",
      "Created a chunk of size 1653, which is longer than the specified 500\n",
      "Created a chunk of size 2136, which is longer than the specified 500\n",
      "Created a chunk of size 2155, which is longer than the specified 500\n",
      "Created a chunk of size 1999, which is longer than the specified 500\n",
      "Created a chunk of size 2314, which is longer than the specified 500\n",
      "Created a chunk of size 2094, which is longer than the specified 500\n",
      "Created a chunk of size 1537, which is longer than the specified 500\n"
     ]
    },
    {
     "name": "stdout",
     "output_type": "stream",
     "text": [
      "✅ Stored 2 chunks for BIO_Curriculum_I_Cycle.pdf\n",
      "📄 Processing: book-of-rules-on-bsc.pdf\n",
      "✅ Stored 0 chunks for book-of-rules-on-bsc.pdf\n",
      "📄 Processing: book_of_rules_on_accepting_implementation_and_evaluation_of_study_programs_at_ius1.pdf\n"
     ]
    },
    {
     "name": "stderr",
     "output_type": "stream",
     "text": [
      "Created a chunk of size 3085, which is longer than the specified 500\n",
      "Created a chunk of size 2838, which is longer than the specified 500\n",
      "Created a chunk of size 3364, which is longer than the specified 500\n",
      "Created a chunk of size 2750, which is longer than the specified 500\n",
      "Created a chunk of size 2906, which is longer than the specified 500\n",
      "Created a chunk of size 3007, which is longer than the specified 500\n",
      "Created a chunk of size 2863, which is longer than the specified 500\n",
      "Created a chunk of size 2706, which is longer than the specified 500\n",
      "Created a chunk of size 3742, which is longer than the specified 500\n",
      "Created a chunk of size 2993, which is longer than the specified 500\n",
      "Created a chunk of size 3008, which is longer than the specified 500\n",
      "Created a chunk of size 2385, which is longer than the specified 500\n",
      "Created a chunk of size 3062, which is longer than the specified 500\n",
      "Created a chunk of size 3509, which is longer than the specified 500\n",
      "Created a chunk of size 2511, which is longer than the specified 500\n",
      "Created a chunk of size 2821, which is longer than the specified 500\n",
      "Created a chunk of size 2856, which is longer than the specified 500\n",
      "Created a chunk of size 3431, which is longer than the specified 500\n",
      "Created a chunk of size 3012, which is longer than the specified 500\n",
      "Created a chunk of size 2701, which is longer than the specified 500\n",
      "Created a chunk of size 2278, which is longer than the specified 500\n",
      "Created a chunk of size 2893, which is longer than the specified 500\n",
      "Created a chunk of size 2887, which is longer than the specified 500\n",
      "Created a chunk of size 2624, which is longer than the specified 500\n",
      "Created a chunk of size 2631, which is longer than the specified 500\n"
     ]
    },
    {
     "name": "stdout",
     "output_type": "stream",
     "text": [
      "✅ Stored 15 chunks for book_of_rules_on_accepting_implementation_and_evaluation_of_study_programs_at_ius1.pdf\n",
      "📄 Processing: book_of_rules_on_labor_relations_of_ius_april_2025.pdf\n"
     ]
    },
    {
     "name": "stderr",
     "output_type": "stream",
     "text": [
      "Created a chunk of size 1854, which is longer than the specified 500\n",
      "Created a chunk of size 2348, which is longer than the specified 500\n",
      "Created a chunk of size 2611, which is longer than the specified 500\n",
      "Created a chunk of size 2785, which is longer than the specified 500\n",
      "Created a chunk of size 2429, which is longer than the specified 500\n",
      "Created a chunk of size 2627, which is longer than the specified 500\n",
      "Created a chunk of size 2619, which is longer than the specified 500\n",
      "Created a chunk of size 2332, which is longer than the specified 500\n",
      "Created a chunk of size 2883, which is longer than the specified 500\n",
      "Created a chunk of size 2400, which is longer than the specified 500\n",
      "Created a chunk of size 2090, which is longer than the specified 500\n",
      "Created a chunk of size 623, which is longer than the specified 500\n",
      "Created a chunk of size 1939, which is longer than the specified 500\n",
      "Created a chunk of size 3974, which is longer than the specified 500\n",
      "Created a chunk of size 2320, which is longer than the specified 500\n",
      "Created a chunk of size 3076, which is longer than the specified 500\n",
      "Created a chunk of size 2160, which is longer than the specified 500\n",
      "Created a chunk of size 4020, which is longer than the specified 500\n",
      "Created a chunk of size 2184, which is longer than the specified 500\n",
      "Created a chunk of size 1372, which is longer than the specified 500\n",
      "Created a chunk of size 1071, which is longer than the specified 500\n",
      "Created a chunk of size 924, which is longer than the specified 500\n",
      "Created a chunk of size 1319, which is longer than the specified 500\n",
      "Created a chunk of size 1023, which is longer than the specified 500\n",
      "Created a chunk of size 554, which is longer than the specified 500\n",
      "Created a chunk of size 1259, which is longer than the specified 500\n",
      "Created a chunk of size 1115, which is longer than the specified 500\n"
     ]
    },
    {
     "name": "stdout",
     "output_type": "stream",
     "text": [
      "✅ Stored 27 chunks for book_of_rules_on_labor_relations_of_ius_april_2025.pdf\n",
      "📄 Processing: book_of_rules_on_maternity_ans_paternity_leave1.pdf\n",
      "✅ Stored 0 chunks for book_of_rules_on_maternity_ans_paternity_leave1.pdf\n",
      "📄 Processing: book_of_rules_on_participation_in_exchange_programs1.pdf\n"
     ]
    },
    {
     "name": "stderr",
     "output_type": "stream",
     "text": [
      "Created a chunk of size 2098, which is longer than the specified 500\n",
      "Created a chunk of size 907, which is longer than the specified 500\n",
      "Created a chunk of size 1551, which is longer than the specified 500\n",
      "Created a chunk of size 1302, which is longer than the specified 500\n",
      "Created a chunk of size 1999, which is longer than the specified 500\n",
      "Created a chunk of size 946, which is longer than the specified 500\n",
      "Created a chunk of size 1869, which is longer than the specified 500\n"
     ]
    },
    {
     "name": "stdout",
     "output_type": "stream",
     "text": [
      "✅ Stored 31 chunks for book_of_rules_on_participation_in_exchange_programs1.pdf\n",
      "📄 Processing: book_of_rules_on_procedure-effective_taching_processes_of_the_academic_staff-1.pdf\n"
     ]
    },
    {
     "name": "stderr",
     "output_type": "stream",
     "text": [
      "Created a chunk of size 1093, which is longer than the specified 500\n",
      "Created a chunk of size 1895, which is longer than the specified 500\n",
      "Created a chunk of size 1761, which is longer than the specified 500\n",
      "Created a chunk of size 1010, which is longer than the specified 500\n"
     ]
    },
    {
     "name": "stdout",
     "output_type": "stream",
     "text": [
      "✅ Stored 8 chunks for book_of_rules_on_procedure-effective_taching_processes_of_the_academic_staff-1.pdf\n",
      "📄 Processing: book_of_rules_on_procedures_relating_to_attendance_at_academic_conferances_1.pdf\n"
     ]
    },
    {
     "name": "stderr",
     "output_type": "stream",
     "text": [
      "Created a chunk of size 2098, which is longer than the specified 500\n",
      "Created a chunk of size 907, which is longer than the specified 500\n",
      "Created a chunk of size 1551, which is longer than the specified 500\n",
      "Created a chunk of size 1302, which is longer than the specified 500\n",
      "Created a chunk of size 1999, which is longer than the specified 500\n",
      "Created a chunk of size 946, which is longer than the specified 500\n",
      "Created a chunk of size 1869, which is longer than the specified 500\n"
     ]
    },
    {
     "name": "stdout",
     "output_type": "stream",
     "text": [
      "✅ Stored 5 chunks for book_of_rules_on_procedures_relating_to_attendance_at_academic_conferances_1.pdf\n",
      "📄 Processing: book_of_rules_on_procedure_effective_teaching_processes_of_the_academic_staff_at_ius_201411.pdf\n"
     ]
    },
    {
     "name": "stderr",
     "output_type": "stream",
     "text": [
      "Created a chunk of size 1870, which is longer than the specified 500\n",
      "Created a chunk of size 2456, which is longer than the specified 500\n",
      "Created a chunk of size 920, which is longer than the specified 500\n",
      "Created a chunk of size 2677, which is longer than the specified 500\n",
      "Created a chunk of size 2945, which is longer than the specified 500\n",
      "Created a chunk of size 3206, which is longer than the specified 500\n",
      "Created a chunk of size 2590, which is longer than the specified 500\n",
      "Created a chunk of size 557, which is longer than the specified 500\n",
      "Created a chunk of size 1812, which is longer than the specified 500\n",
      "Created a chunk of size 2192, which is longer than the specified 500\n",
      "Created a chunk of size 2008, which is longer than the specified 500\n",
      "Created a chunk of size 2444, which is longer than the specified 500\n",
      "Created a chunk of size 2257, which is longer than the specified 500\n",
      "Created a chunk of size 2402, which is longer than the specified 500\n",
      "Created a chunk of size 1582, which is longer than the specified 500\n",
      "Created a chunk of size 1164, which is longer than the specified 500\n",
      "Created a chunk of size 1362, which is longer than the specified 500\n",
      "Created a chunk of size 2085, which is longer than the specified 500\n",
      "Created a chunk of size 1951, which is longer than the specified 500\n"
     ]
    },
    {
     "name": "stdout",
     "output_type": "stream",
     "text": [
      "✅ Stored 8 chunks for book_of_rules_on_procedure_effective_teaching_processes_of_the_academic_staff_at_ius_201411.pdf\n",
      "📄 Processing: book_of_rules_on_publishing_activities_at_ius_002-20161.pdf\n"
     ]
    },
    {
     "name": "stderr",
     "output_type": "stream",
     "text": [
      "Created a chunk of size 3366, which is longer than the specified 500\n"
     ]
    },
    {
     "name": "stdout",
     "output_type": "stream",
     "text": [
      "✅ Stored 21 chunks for book_of_rules_on_publishing_activities_at_ius_002-20161.pdf\n",
      "📄 Processing: book_of_rules_on_recognition_of_passed_courses_and_of_their_equivalence_at_ius1.pdf\n",
      "✅ Stored 0 chunks for book_of_rules_on_recognition_of_passed_courses_and_of_their_equivalence_at_ius1.pdf\n",
      "📄 Processing: bot-decision-on-estab.-of-new-professional-administrative-unite-ddcc.pdf\n",
      "✅ Stored 0 chunks for bot-decision-on-estab.-of-new-professional-administrative-unite-ddcc.pdf\n",
      "📄 Processing: CEIT_Curriculum_I_Cycle.pdf\n"
     ]
    },
    {
     "name": "stderr",
     "output_type": "stream",
     "text": [
      "Created a chunk of size 2367, which is longer than the specified 500\n",
      "Created a chunk of size 2676, which is longer than the specified 500\n",
      "Created a chunk of size 2935, which is longer than the specified 500\n",
      "Created a chunk of size 2624, which is longer than the specified 500\n",
      "Created a chunk of size 2774, which is longer than the specified 500\n",
      "Created a chunk of size 2691, which is longer than the specified 500\n",
      "Created a chunk of size 2645, which is longer than the specified 500\n",
      "Created a chunk of size 3248, which is longer than the specified 500\n",
      "Created a chunk of size 2358, which is longer than the specified 500\n"
     ]
    },
    {
     "name": "stdout",
     "output_type": "stream",
     "text": [
      "✅ Stored 2 chunks for CEIT_Curriculum_I_Cycle.pdf\n",
      "📄 Processing: code_of_ethics1.pdf\n"
     ]
    },
    {
     "name": "stderr",
     "output_type": "stream",
     "text": [
      "Created a chunk of size 1872, which is longer than the specified 500\n"
     ]
    },
    {
     "name": "stdout",
     "output_type": "stream",
     "text": [
      "✅ Stored 10 chunks for code_of_ethics1.pdf\n",
      "📄 Processing: CSE_Curriculum_III_Cycle.pdf\n",
      "✅ Stored 2 chunks for CSE_Curriculum_III_Cycle.pdf\n",
      "📄 Processing: CSE_Curriculum_II_Cycle.pdf\n"
     ]
    },
    {
     "name": "stderr",
     "output_type": "stream",
     "text": [
      "Created a chunk of size 4572, which is longer than the specified 500\n"
     ]
    },
    {
     "name": "stdout",
     "output_type": "stream",
     "text": [
      "✅ Stored 1 chunks for CSE_Curriculum_II_Cycle.pdf\n",
      "📄 Processing: CSE_Curriculum_I_Cycle.pdf\n",
      "✅ Stored 2 chunks for CSE_Curriculum_I_Cycle.pdf\n",
      "📄 Processing: CULT_Curriculum_III_Cycle.pdf\n",
      "✅ Stored 1 chunks for CULT_Curriculum_III_Cycle.pdf\n",
      "📄 Processing: CULT_Curriculum_II_Cycle.pdf\n"
     ]
    },
    {
     "name": "stderr",
     "output_type": "stream",
     "text": [
      "Created a chunk of size 1972, which is longer than the specified 500\n",
      "Created a chunk of size 1911, which is longer than the specified 500\n",
      "Created a chunk of size 561, which is longer than the specified 500\n",
      "Created a chunk of size 547, which is longer than the specified 500\n",
      "Created a chunk of size 707, which is longer than the specified 500\n",
      "Created a chunk of size 772, which is longer than the specified 500\n",
      "Created a chunk of size 682, which is longer than the specified 500\n",
      "Created a chunk of size 716, which is longer than the specified 500\n",
      "Created a chunk of size 1089, which is longer than the specified 500\n"
     ]
    },
    {
     "name": "stdout",
     "output_type": "stream",
     "text": [
      "✅ Stored 1 chunks for CULT_Curriculum_II_Cycle.pdf\n",
      "📄 Processing: CULT_Curriculum_I_Cycle.pdf\n"
     ]
    },
    {
     "name": "stderr",
     "output_type": "stream",
     "text": [
      "Created a chunk of size 1112, which is longer than the specified 500\n"
     ]
    },
    {
     "name": "stdout",
     "output_type": "stream",
     "text": [
      "✅ Stored 10 chunks for CULT_Curriculum_I_Cycle.pdf\n",
      "📄 Processing: decision-on-adoption-of-the-new-internatioalization-strategy-2024.pdf\n"
     ]
    },
    {
     "name": "stderr",
     "output_type": "stream",
     "text": [
      "Created a chunk of size 1442, which is longer than the specified 500\n",
      "Created a chunk of size 1361, which is longer than the specified 500\n",
      "Created a chunk of size 1463, which is longer than the specified 500\n",
      "Created a chunk of size 1166, which is longer than the specified 500\n",
      "Created a chunk of size 1288, which is longer than the specified 500\n",
      "Created a chunk of size 1324, which is longer than the specified 500\n",
      "Created a chunk of size 1328, which is longer than the specified 500\n",
      "Created a chunk of size 1390, which is longer than the specified 500\n",
      "Created a chunk of size 1310, which is longer than the specified 500\n",
      "Created a chunk of size 1477, which is longer than the specified 500\n",
      "Created a chunk of size 1153, which is longer than the specified 500\n",
      "Created a chunk of size 1314, which is longer than the specified 500\n",
      "Created a chunk of size 1308, which is longer than the specified 500\n",
      "Created a chunk of size 1296, which is longer than the specified 500\n"
     ]
    },
    {
     "name": "stdout",
     "output_type": "stream",
     "text": [
      "✅ Stored 2 chunks for decision-on-adoption-of-the-new-internatioalization-strategy-2024.pdf\n",
      "📄 Processing: decision-on-amendment-to-the-decision-on-appointment-of-curricula-committee.pdf\n",
      "✅ Stored 0 chunks for decision-on-amendment-to-the-decision-on-appointment-of-curricula-committee.pdf\n",
      "📄 Processing: decision-on-establishment-of-sbm-at-ius-2022.pdf\n",
      "✅ Stored 0 chunks for decision-on-establishment-of-sbm-at-ius-2022.pdf\n",
      "📄 Processing: decision-on-establishment-of-strategic-management-body-at-ius-2024.pdf\n",
      "✅ Stored 0 chunks for decision-on-establishment-of-strategic-management-body-at-ius-2024.pdf\n",
      "📄 Processing: decision-on-forming-the-team-for-developing-guidlines-and-procedures-for-inclusion-of-students-with-disabilities-2023-.pdf\n",
      "✅ Stored 0 chunks for decision-on-forming-the-team-for-developing-guidlines-and-procedures-for-inclusion-of-students-with-disabilities-2023-.pdf\n",
      "📄 Processing: decision-sdg-executive-committee.pdf\n",
      "✅ Stored 0 chunks for decision-sdg-executive-committee.pdf\n",
      "📄 Processing: decision_of_amended_list_of_ius_publications_register_data_bases1.pdf\n"
     ]
    },
    {
     "name": "stderr",
     "output_type": "stream",
     "text": [
      "Created a chunk of size 1747, which is longer than the specified 500\n",
      "Created a chunk of size 920, which is longer than the specified 500\n",
      "Created a chunk of size 1927, which is longer than the specified 500\n"
     ]
    },
    {
     "name": "stdout",
     "output_type": "stream",
     "text": [
      "✅ Stored 16 chunks for decision_of_amended_list_of_ius_publications_register_data_bases1.pdf\n",
      "📄 Processing: decision_on_adoption_of_the_action_plan_20201.pdf\n",
      "✅ Stored 0 chunks for decision_on_adoption_of_the_action_plan_20201.pdf\n",
      "📄 Processing: decision_on_amendments_of_the_study_rules_for_ii_and_iii_cycle_of_studies1.pdf\n"
     ]
    },
    {
     "name": "stderr",
     "output_type": "stream",
     "text": [
      "Created a chunk of size 938, which is longer than the specified 500\n",
      "Created a chunk of size 1267, which is longer than the specified 500\n",
      "Created a chunk of size 1303, which is longer than the specified 500\n",
      "Created a chunk of size 1359, which is longer than the specified 500\n"
     ]
    },
    {
     "name": "stdout",
     "output_type": "stream",
     "text": [
      "✅ Stored 4 chunks for decision_on_amendments_of_the_study_rules_for_ii_and_iii_cycle_of_studies1.pdf\n",
      "📄 Processing: decision_on_cancelation_of_scholarship_in_case_of_transfer_to_another_program1.pdf\n",
      "✅ Stored 0 chunks for decision_on_cancelation_of_scholarship_in_case_of_transfer_to_another_program1.pdf\n",
      "📄 Processing: decision_on_establishing_minors_advisory_committee_mac1.pdf\n",
      "✅ Stored 0 chunks for decision_on_establishing_minors_advisory_committee_mac1.pdf\n",
      "📄 Processing: decision_on_internal_transfer_quotas_for_spring_semester1.pdf\n"
     ]
    },
    {
     "name": "stderr",
     "output_type": "stream",
     "text": [
      "Created a chunk of size 1931, which is longer than the specified 500\n"
     ]
    },
    {
     "name": "stdout",
     "output_type": "stream",
     "text": [
      "✅ Stored 5 chunks for decision_on_internal_transfer_quotas_for_spring_semester1.pdf\n",
      "📄 Processing: decision_on_issuing_diploma_and_diploma_supplement_to_ius_graduate_students1.pdf\n",
      "✅ Stored 0 chunks for decision_on_issuing_diploma_and_diploma_supplement_to_ius_graduate_students1.pdf\n",
      "📄 Processing: decision_on_shifting_of_all_mobility_programs_until_spring_20211.pdf\n",
      "✅ Stored 1 chunks for decision_on_shifting_of_all_mobility_programs_until_spring_20211.pdf\n",
      "📄 Processing: decision_on_the_cumulative_criteria_for_internal_student_transfers_at_ius1.pdf\n"
     ]
    },
    {
     "name": "stderr",
     "output_type": "stream",
     "text": [
      "Created a chunk of size 1841, which is longer than the specified 500\n",
      "Created a chunk of size 2031, which is longer than the specified 500\n",
      "Created a chunk of size 1457, which is longer than the specified 500\n",
      "Created a chunk of size 1380, which is longer than the specified 500\n",
      "Created a chunk of size 2095, which is longer than the specified 500\n",
      "Created a chunk of size 517, which is longer than the specified 500\n",
      "Created a chunk of size 1852, which is longer than the specified 500\n",
      "Created a chunk of size 1951, which is longer than the specified 500\n",
      "Created a chunk of size 1265, which is longer than the specified 500\n"
     ]
    },
    {
     "name": "stdout",
     "output_type": "stream",
     "text": [
      "✅ Stored 2 chunks for decision_on_the_cumulative_criteria_for_internal_student_transfers_at_ius1.pdf\n",
      "📄 Processing: doc006081201710190825041.pdf\n",
      "✅ Stored 13 chunks for doc006081201710190825041.pdf\n",
      "📄 Processing: ECON_Curriculum_III_Cycle.pdf\n",
      "✅ Stored 1 chunks for ECON_Curriculum_III_Cycle.pdf\n",
      "📄 Processing: ECON_Curriculum_II_Cycle.pdf\n"
     ]
    },
    {
     "name": "stderr",
     "output_type": "stream",
     "text": [
      "Created a chunk of size 3755, which is longer than the specified 500\n"
     ]
    },
    {
     "name": "stdout",
     "output_type": "stream",
     "text": [
      "✅ Stored 1 chunks for ECON_Curriculum_II_Cycle.pdf\n",
      "📄 Processing: ECON_Curriculum_I_Cycle.pdf\n",
      "✅ Stored 2 chunks for ECON_Curriculum_I_Cycle.pdf\n",
      "📄 Processing: EE_Curriculum_III_Cycle.pdf\n"
     ]
    },
    {
     "name": "stderr",
     "output_type": "stream",
     "text": [
      "Created a chunk of size 1133, which is longer than the specified 500\n",
      "Created a chunk of size 4201, which is longer than the specified 500\n"
     ]
    },
    {
     "name": "stdout",
     "output_type": "stream",
     "text": [
      "✅ Stored 2 chunks for EE_Curriculum_III_Cycle.pdf\n",
      "📄 Processing: EE_Curriculum_II_Cycle.pdf\n",
      "✅ Stored 1 chunks for EE_Curriculum_II_Cycle.pdf\n",
      "📄 Processing: EE_Curriculum_I_Cycle.pdf\n"
     ]
    },
    {
     "name": "stderr",
     "output_type": "stream",
     "text": [
      "Created a chunk of size 2787, which is longer than the specified 500\n",
      "Created a chunk of size 1408, which is longer than the specified 500\n",
      "Created a chunk of size 2282, which is longer than the specified 500\n",
      "Created a chunk of size 2635, which is longer than the specified 500\n",
      "Created a chunk of size 1664, which is longer than the specified 500\n",
      "Created a chunk of size 2750, which is longer than the specified 500\n"
     ]
    },
    {
     "name": "stdout",
     "output_type": "stream",
     "text": [
      "✅ Stored 2 chunks for EE_Curriculum_I_Cycle.pdf\n",
      "📄 Processing: elaborate_form_-new_sp_eng_f_166_ver.1._23.12.23_qa.pdf\n",
      "✅ Stored 8 chunks for elaborate_form_-new_sp_eng_f_166_ver.1._23.12.23_qa.pdf\n",
      "📄 Processing: ELIT_Curriculum_III_Cycle.pdf\n",
      "✅ Stored 1 chunks for ELIT_Curriculum_III_Cycle.pdf\n",
      "📄 Processing: ELIT_Curriculum_II_Cycle.pdf\n"
     ]
    },
    {
     "name": "stderr",
     "output_type": "stream",
     "text": [
      "Created a chunk of size 3647, which is longer than the specified 500\n"
     ]
    },
    {
     "name": "stdout",
     "output_type": "stream",
     "text": [
      "✅ Stored 1 chunks for ELIT_Curriculum_II_Cycle.pdf\n",
      "📄 Processing: ELIT_Curriculum_I_Cycle.pdf\n"
     ]
    },
    {
     "name": "stderr",
     "output_type": "stream",
     "text": [
      "Created a chunk of size 4029, which is longer than the specified 500\n"
     ]
    },
    {
     "name": "stdout",
     "output_type": "stream",
     "text": [
      "✅ Stored 2 chunks for ELIT_Curriculum_I_Cycle.pdf\n",
      "📄 Processing: ELT_Curriculum_III_Cycle.pdf\n",
      "✅ Stored 1 chunks for ELT_Curriculum_III_Cycle.pdf\n",
      "📄 Processing: ELT_Curriculum_I_Cycle.pdf\n"
     ]
    },
    {
     "name": "stderr",
     "output_type": "stream",
     "text": [
      "Created a chunk of size 6057, which is longer than the specified 500\n",
      "Created a chunk of size 2340, which is longer than the specified 500\n",
      "Created a chunk of size 2955, which is longer than the specified 500\n",
      "Created a chunk of size 3151, which is longer than the specified 500\n",
      "Created a chunk of size 2971, which is longer than the specified 500\n",
      "Created a chunk of size 3240, which is longer than the specified 500\n",
      "Created a chunk of size 3257, which is longer than the specified 500\n",
      "Created a chunk of size 3146, which is longer than the specified 500\n",
      "Created a chunk of size 2942, which is longer than the specified 500\n",
      "Created a chunk of size 3184, which is longer than the specified 500\n",
      "Created a chunk of size 3553, which is longer than the specified 500\n",
      "Created a chunk of size 3224, which is longer than the specified 500\n",
      "Created a chunk of size 3418, which is longer than the specified 500\n",
      "Created a chunk of size 3106, which is longer than the specified 500\n",
      "Created a chunk of size 3160, which is longer than the specified 500\n",
      "Created a chunk of size 3139, which is longer than the specified 500\n",
      "Created a chunk of size 2947, which is longer than the specified 500\n",
      "Created a chunk of size 3415, which is longer than the specified 500\n",
      "Created a chunk of size 3175, which is longer than the specified 500\n",
      "Created a chunk of size 3382, which is longer than the specified 500\n",
      "Created a chunk of size 2853, which is longer than the specified 500\n",
      "Created a chunk of size 3238, which is longer than the specified 500\n",
      "Created a chunk of size 3284, which is longer than the specified 500\n",
      "Created a chunk of size 3149, which is longer than the specified 500\n",
      "Created a chunk of size 3053, which is longer than the specified 500\n",
      "Created a chunk of size 3044, which is longer than the specified 500\n",
      "Created a chunk of size 3132, which is longer than the specified 500\n",
      "Created a chunk of size 3035, which is longer than the specified 500\n",
      "Created a chunk of size 3057, which is longer than the specified 500\n",
      "Created a chunk of size 3029, which is longer than the specified 500\n",
      "Created a chunk of size 2852, which is longer than the specified 500\n",
      "Created a chunk of size 3066, which is longer than the specified 500\n",
      "Created a chunk of size 3335, which is longer than the specified 500\n",
      "Created a chunk of size 2702, which is longer than the specified 500\n",
      "Created a chunk of size 3117, which is longer than the specified 500\n",
      "Created a chunk of size 3015, which is longer than the specified 500\n",
      "Created a chunk of size 2655, which is longer than the specified 500\n",
      "Created a chunk of size 2683, which is longer than the specified 500\n",
      "Created a chunk of size 2904, which is longer than the specified 500\n",
      "Created a chunk of size 3273, which is longer than the specified 500\n",
      "Created a chunk of size 3059, which is longer than the specified 500\n",
      "Created a chunk of size 3145, which is longer than the specified 500\n",
      "Created a chunk of size 3116, which is longer than the specified 500\n",
      "Created a chunk of size 2918, which is longer than the specified 500\n",
      "Created a chunk of size 2739, which is longer than the specified 500\n",
      "Created a chunk of size 2830, which is longer than the specified 500\n"
     ]
    },
    {
     "name": "stdout",
     "output_type": "stream",
     "text": [
      "✅ Stored 3 chunks for ELT_Curriculum_I_Cycle.pdf\n",
      "📄 Processing: exit_interview_procedure1.pdf\n",
      "✅ Stored 0 chunks for exit_interview_procedure1.pdf\n",
      "📄 Processing: fass_fedu_-2022_2023_course-catalogue_undergraduate_qa-copy.pdf\n"
     ]
    },
    {
     "name": "stderr",
     "output_type": "stream",
     "text": [
      "Created a chunk of size 3089, which is longer than the specified 500\n",
      "Created a chunk of size 3761, which is longer than the specified 500\n",
      "Created a chunk of size 3589, which is longer than the specified 500\n",
      "Created a chunk of size 3809, which is longer than the specified 500\n",
      "Created a chunk of size 3449, which is longer than the specified 500\n",
      "Created a chunk of size 3084, which is longer than the specified 500\n",
      "Created a chunk of size 3112, which is longer than the specified 500\n",
      "Created a chunk of size 3376, which is longer than the specified 500\n",
      "Created a chunk of size 3216, which is longer than the specified 500\n",
      "Created a chunk of size 3133, which is longer than the specified 500\n",
      "Created a chunk of size 3869, which is longer than the specified 500\n",
      "Created a chunk of size 3954, which is longer than the specified 500\n",
      "Created a chunk of size 3855, which is longer than the specified 500\n",
      "Created a chunk of size 3602, which is longer than the specified 500\n",
      "Created a chunk of size 3443, which is longer than the specified 500\n",
      "Created a chunk of size 3470, which is longer than the specified 500\n",
      "Created a chunk of size 3779, which is longer than the specified 500\n",
      "Created a chunk of size 3664, which is longer than the specified 500\n",
      "Created a chunk of size 3722, which is longer than the specified 500\n",
      "Created a chunk of size 3749, which is longer than the specified 500\n",
      "Created a chunk of size 3667, which is longer than the specified 500\n",
      "Created a chunk of size 3838, which is longer than the specified 500\n",
      "Created a chunk of size 3443, which is longer than the specified 500\n"
     ]
    },
    {
     "name": "stdout",
     "output_type": "stream",
     "text": [
      "✅ Stored 46 chunks for fass_fedu_-2022_2023_course-catalogue_undergraduate_qa-copy.pdf\n",
      "📄 Processing: fba_2022_2023_course-catalogue-undergraduate_qa-copy.pdf\n"
     ]
    },
    {
     "name": "stderr",
     "output_type": "stream",
     "text": [
      "Created a chunk of size 2479, which is longer than the specified 500\n",
      "Created a chunk of size 2857, which is longer than the specified 500\n",
      "Created a chunk of size 3315, which is longer than the specified 500\n",
      "Created a chunk of size 3477, which is longer than the specified 500\n",
      "Created a chunk of size 3071, which is longer than the specified 500\n",
      "Created a chunk of size 3237, which is longer than the specified 500\n",
      "Created a chunk of size 3982, which is longer than the specified 500\n",
      "Created a chunk of size 3111, which is longer than the specified 500\n",
      "Created a chunk of size 3042, which is longer than the specified 500\n",
      "Created a chunk of size 3532, which is longer than the specified 500\n",
      "Created a chunk of size 3385, which is longer than the specified 500\n",
      "Created a chunk of size 3735, which is longer than the specified 500\n",
      "Created a chunk of size 3486, which is longer than the specified 500\n",
      "Created a chunk of size 3521, which is longer than the specified 500\n",
      "Created a chunk of size 3108, which is longer than the specified 500\n",
      "Created a chunk of size 3348, which is longer than the specified 500\n",
      "Created a chunk of size 3642, which is longer than the specified 500\n",
      "Created a chunk of size 3950, which is longer than the specified 500\n",
      "Created a chunk of size 3307, which is longer than the specified 500\n",
      "Created a chunk of size 3403, which is longer than the specified 500\n",
      "Created a chunk of size 3176, which is longer than the specified 500\n",
      "Created a chunk of size 3122, which is longer than the specified 500\n",
      "Created a chunk of size 3181, which is longer than the specified 500\n",
      "Created a chunk of size 3898, which is longer than the specified 500\n",
      "Created a chunk of size 3278, which is longer than the specified 500\n",
      "Created a chunk of size 2753, which is longer than the specified 500\n",
      "Created a chunk of size 3651, which is longer than the specified 500\n",
      "Created a chunk of size 3705, which is longer than the specified 500\n",
      "Created a chunk of size 3575, which is longer than the specified 500\n",
      "Created a chunk of size 3542, which is longer than the specified 500\n",
      "Created a chunk of size 3258, which is longer than the specified 500\n",
      "Created a chunk of size 3319, which is longer than the specified 500\n",
      "Created a chunk of size 3992, which is longer than the specified 500\n",
      "Created a chunk of size 3354, which is longer than the specified 500\n",
      "Created a chunk of size 3506, which is longer than the specified 500\n",
      "Created a chunk of size 3253, which is longer than the specified 500\n",
      "Created a chunk of size 3422, which is longer than the specified 500\n",
      "Created a chunk of size 3444, which is longer than the specified 500\n",
      "Created a chunk of size 3572, which is longer than the specified 500\n",
      "Created a chunk of size 3552, which is longer than the specified 500\n",
      "Created a chunk of size 3466, which is longer than the specified 500\n",
      "Created a chunk of size 3361, which is longer than the specified 500\n",
      "Created a chunk of size 3125, which is longer than the specified 500\n",
      "Created a chunk of size 2885, which is longer than the specified 500\n",
      "Created a chunk of size 3211, which is longer than the specified 500\n",
      "Created a chunk of size 3778, which is longer than the specified 500\n",
      "Created a chunk of size 3832, which is longer than the specified 500\n"
     ]
    },
    {
     "name": "stdout",
     "output_type": "stream",
     "text": [
      "✅ Stored 24 chunks for fba_2022_2023_course-catalogue-undergraduate_qa-copy.pdf\n",
      "📄 Processing: fens-2022_2023_-course-catalog-undergrad.pdf\n"
     ]
    },
    {
     "name": "stderr",
     "output_type": "stream",
     "text": [
      "Created a chunk of size 782, which is longer than the specified 500\n",
      "Created a chunk of size 2991, which is longer than the specified 500\n",
      "Created a chunk of size 3063, which is longer than the specified 500\n",
      "Created a chunk of size 2470, which is longer than the specified 500\n",
      "Created a chunk of size 2278, which is longer than the specified 500\n",
      "Created a chunk of size 1758, which is longer than the specified 500\n",
      "Created a chunk of size 2158, which is longer than the specified 500\n",
      "Created a chunk of size 2326, which is longer than the specified 500\n"
     ]
    },
    {
     "name": "stdout",
     "output_type": "stream",
     "text": [
      "✅ Stored 48 chunks for fens-2022_2023_-course-catalog-undergrad.pdf\n",
      "📄 Processing: final_english_qa_rule_book1.pdf\n"
     ]
    },
    {
     "name": "stderr",
     "output_type": "stream",
     "text": [
      "Created a chunk of size 4734, which is longer than the specified 500\n",
      "Created a chunk of size 4811, which is longer than the specified 500\n",
      "Created a chunk of size 4855, which is longer than the specified 500\n",
      "Created a chunk of size 1262, which is longer than the specified 500\n",
      "Created a chunk of size 1655, which is longer than the specified 500\n",
      "Created a chunk of size 2199, which is longer than the specified 500\n",
      "Created a chunk of size 2119, which is longer than the specified 500\n",
      "Created a chunk of size 2060, which is longer than the specified 500\n",
      "Created a chunk of size 2281, which is longer than the specified 500\n",
      "Created a chunk of size 2253, which is longer than the specified 500\n",
      "Created a chunk of size 2021, which is longer than the specified 500\n",
      "Created a chunk of size 2058, which is longer than the specified 500\n",
      "Created a chunk of size 1671, which is longer than the specified 500\n",
      "Created a chunk of size 2408, which is longer than the specified 500\n",
      "Created a chunk of size 1460, which is longer than the specified 500\n",
      "Created a chunk of size 930, which is longer than the specified 500\n",
      "Created a chunk of size 2012, which is longer than the specified 500\n",
      "Created a chunk of size 2133, which is longer than the specified 500\n",
      "Created a chunk of size 2319, which is longer than the specified 500\n",
      "Created a chunk of size 727, which is longer than the specified 500\n",
      "Created a chunk of size 1713, which is longer than the specified 500\n",
      "Created a chunk of size 3481, which is longer than the specified 500\n",
      "Created a chunk of size 1241, which is longer than the specified 500\n",
      "Created a chunk of size 2587, which is longer than the specified 500\n",
      "Created a chunk of size 2050, which is longer than the specified 500\n",
      "Created a chunk of size 2971, which is longer than the specified 500\n"
     ]
    },
    {
     "name": "stdout",
     "output_type": "stream",
     "text": [
      "✅ Stored 10 chunks for final_english_qa_rule_book1.pdf\n",
      "📄 Processing: final_ius_first_cycle_catalogue_ay_2017-20181.pdf\n"
     ]
    },
    {
     "name": "stderr",
     "output_type": "stream",
     "text": [
      "Created a chunk of size 1443, which is longer than the specified 500\n",
      "Created a chunk of size 1306, which is longer than the specified 500\n",
      "Created a chunk of size 1552, which is longer than the specified 500\n",
      "Created a chunk of size 1338, which is longer than the specified 500\n",
      "Created a chunk of size 2843, which is longer than the specified 500\n",
      "Created a chunk of size 1192, which is longer than the specified 500\n",
      "Created a chunk of size 1822, which is longer than the specified 500\n",
      "Created a chunk of size 606, which is longer than the specified 500\n",
      "Created a chunk of size 3040, which is longer than the specified 500\n",
      "Created a chunk of size 1473, which is longer than the specified 500\n",
      "Created a chunk of size 1951, which is longer than the specified 500\n",
      "Created a chunk of size 2382, which is longer than the specified 500\n",
      "Created a chunk of size 1745, which is longer than the specified 500\n",
      "Created a chunk of size 1929, which is longer than the specified 500\n",
      "Created a chunk of size 2828, which is longer than the specified 500\n",
      "Created a chunk of size 1492, which is longer than the specified 500\n",
      "Created a chunk of size 1539, which is longer than the specified 500\n",
      "Created a chunk of size 1223, which is longer than the specified 500\n",
      "Created a chunk of size 2287, which is longer than the specified 500\n",
      "Created a chunk of size 1050, which is longer than the specified 500\n",
      "Created a chunk of size 2227, which is longer than the specified 500\n",
      "Created a chunk of size 3038, which is longer than the specified 500\n",
      "Created a chunk of size 1391, which is longer than the specified 500\n",
      "Created a chunk of size 1278, which is longer than the specified 500\n",
      "Created a chunk of size 1005, which is longer than the specified 500\n",
      "Created a chunk of size 2811, which is longer than the specified 500\n",
      "Created a chunk of size 868, which is longer than the specified 500\n",
      "Created a chunk of size 2323, which is longer than the specified 500\n",
      "Created a chunk of size 2972, which is longer than the specified 500\n",
      "Created a chunk of size 2386, which is longer than the specified 500\n",
      "Created a chunk of size 2863, which is longer than the specified 500\n",
      "Created a chunk of size 884, which is longer than the specified 500\n",
      "Created a chunk of size 1106, which is longer than the specified 500\n",
      "Created a chunk of size 2749, which is longer than the specified 500\n",
      "Created a chunk of size 1454, which is longer than the specified 500\n",
      "Created a chunk of size 1485, which is longer than the specified 500\n",
      "Created a chunk of size 1595, which is longer than the specified 500\n",
      "Created a chunk of size 2090, which is longer than the specified 500\n",
      "Created a chunk of size 949, which is longer than the specified 500\n",
      "Created a chunk of size 1707, which is longer than the specified 500\n",
      "Created a chunk of size 2153, which is longer than the specified 500\n",
      "Created a chunk of size 1392, which is longer than the specified 500\n",
      "Created a chunk of size 1395, which is longer than the specified 500\n",
      "Created a chunk of size 988, which is longer than the specified 500\n",
      "Created a chunk of size 2166, which is longer than the specified 500\n",
      "Created a chunk of size 2818, which is longer than the specified 500\n",
      "Created a chunk of size 1508, which is longer than the specified 500\n",
      "Created a chunk of size 1052, which is longer than the specified 500\n",
      "Created a chunk of size 2229, which is longer than the specified 500\n",
      "Created a chunk of size 936, which is longer than the specified 500\n",
      "Created a chunk of size 2256, which is longer than the specified 500\n",
      "Created a chunk of size 2156, which is longer than the specified 500\n",
      "Created a chunk of size 1655, which is longer than the specified 500\n",
      "Created a chunk of size 2646, which is longer than the specified 500\n",
      "Created a chunk of size 1479, which is longer than the specified 500\n",
      "Created a chunk of size 1240, which is longer than the specified 500\n",
      "Created a chunk of size 1054, which is longer than the specified 500\n",
      "Created a chunk of size 704, which is longer than the specified 500\n",
      "Created a chunk of size 2572, which is longer than the specified 500\n",
      "Created a chunk of size 1695, which is longer than the specified 500\n",
      "Created a chunk of size 1526, which is longer than the specified 500\n",
      "Created a chunk of size 2329, which is longer than the specified 500\n",
      "Created a chunk of size 1479, which is longer than the specified 500\n",
      "Created a chunk of size 1735, which is longer than the specified 500\n",
      "Created a chunk of size 2771, which is longer than the specified 500\n",
      "Created a chunk of size 2242, which is longer than the specified 500\n",
      "Created a chunk of size 3010, which is longer than the specified 500\n",
      "Created a chunk of size 1322, which is longer than the specified 500\n",
      "Created a chunk of size 905, which is longer than the specified 500\n",
      "Created a chunk of size 2343, which is longer than the specified 500\n",
      "Created a chunk of size 2607, which is longer than the specified 500\n",
      "Created a chunk of size 2938, which is longer than the specified 500\n",
      "Created a chunk of size 1324, which is longer than the specified 500\n",
      "Created a chunk of size 1836, which is longer than the specified 500\n",
      "Created a chunk of size 1936, which is longer than the specified 500\n",
      "Created a chunk of size 1008, which is longer than the specified 500\n",
      "Created a chunk of size 2276, which is longer than the specified 500\n",
      "Created a chunk of size 559, which is longer than the specified 500\n",
      "Created a chunk of size 2934, which is longer than the specified 500\n",
      "Created a chunk of size 1274, which is longer than the specified 500\n",
      "Created a chunk of size 851, which is longer than the specified 500\n",
      "Created a chunk of size 2476, which is longer than the specified 500\n",
      "Created a chunk of size 980, which is longer than the specified 500\n",
      "Created a chunk of size 1433, which is longer than the specified 500\n",
      "Created a chunk of size 2786, which is longer than the specified 500\n",
      "Created a chunk of size 1291, which is longer than the specified 500\n",
      "Created a chunk of size 1852, which is longer than the specified 500\n",
      "Created a chunk of size 2663, which is longer than the specified 500\n",
      "Created a chunk of size 1118, which is longer than the specified 500\n",
      "Created a chunk of size 1393, which is longer than the specified 500\n",
      "Created a chunk of size 3254, which is longer than the specified 500\n",
      "Created a chunk of size 1322, which is longer than the specified 500\n",
      "Created a chunk of size 2977, which is longer than the specified 500\n",
      "Created a chunk of size 2205, which is longer than the specified 500\n",
      "Created a chunk of size 2363, which is longer than the specified 500\n",
      "Created a chunk of size 2888, which is longer than the specified 500\n",
      "Created a chunk of size 2773, which is longer than the specified 500\n",
      "Created a chunk of size 2618, which is longer than the specified 500\n",
      "Created a chunk of size 2823, which is longer than the specified 500\n",
      "Created a chunk of size 3218, which is longer than the specified 500\n",
      "Created a chunk of size 2896, which is longer than the specified 500\n",
      "Created a chunk of size 3537, which is longer than the specified 500\n",
      "Created a chunk of size 2687, which is longer than the specified 500\n",
      "Created a chunk of size 2996, which is longer than the specified 500\n",
      "Created a chunk of size 2856, which is longer than the specified 500\n",
      "Created a chunk of size 2698, which is longer than the specified 500\n",
      "Created a chunk of size 2619, which is longer than the specified 500\n",
      "Created a chunk of size 2295, which is longer than the specified 500\n",
      "Created a chunk of size 2363, which is longer than the specified 500\n",
      "Created a chunk of size 2726, which is longer than the specified 500\n",
      "Created a chunk of size 3031, which is longer than the specified 500\n",
      "Created a chunk of size 2903, which is longer than the specified 500\n",
      "Created a chunk of size 2596, which is longer than the specified 500\n",
      "Created a chunk of size 2593, which is longer than the specified 500\n"
     ]
    },
    {
     "name": "stdout",
     "output_type": "stream",
     "text": [
      "✅ Stored 138 chunks for final_ius_first_cycle_catalogue_ay_2017-20181.pdf\n",
      "📄 Processing: first-cycle-study-rules-final-ver.1-1.pdf\n"
     ]
    },
    {
     "name": "stderr",
     "output_type": "stream",
     "text": [
      "Created a chunk of size 2239, which is longer than the specified 500\n",
      "Created a chunk of size 2814, which is longer than the specified 500\n",
      "Created a chunk of size 2626, which is longer than the specified 500\n",
      "Created a chunk of size 3218, which is longer than the specified 500\n",
      "Created a chunk of size 3496, which is longer than the specified 500\n",
      "Created a chunk of size 2822, which is longer than the specified 500\n",
      "Created a chunk of size 3535, which is longer than the specified 500\n",
      "Created a chunk of size 3350, which is longer than the specified 500\n",
      "Created a chunk of size 2995, which is longer than the specified 500\n",
      "Created a chunk of size 2908, which is longer than the specified 500\n",
      "Created a chunk of size 3310, which is longer than the specified 500\n"
     ]
    },
    {
     "name": "stdout",
     "output_type": "stream",
     "text": [
      "✅ Stored 23 chunks for first-cycle-study-rules-final-ver.1-1.pdf\n",
      "📄 Processing: flw-2022_2023_course-catalog-undergraduate_qa-copy.pdf\n"
     ]
    },
    {
     "name": "stderr",
     "output_type": "stream",
     "text": [
      "Created a chunk of size 1871, which is longer than the specified 500\n",
      "Created a chunk of size 993, which is longer than the specified 500\n",
      "Created a chunk of size 1953, which is longer than the specified 500\n",
      "Created a chunk of size 1453, which is longer than the specified 500\n",
      "Created a chunk of size 1266, which is longer than the specified 500\n",
      "Created a chunk of size 1366, which is longer than the specified 500\n",
      "Created a chunk of size 1265, which is longer than the specified 500\n",
      "Created a chunk of size 935, which is longer than the specified 500\n",
      "Created a chunk of size 612, which is longer than the specified 500\n",
      "Created a chunk of size 748, which is longer than the specified 500\n",
      "Created a chunk of size 755, which is longer than the specified 500\n"
     ]
    },
    {
     "name": "stdout",
     "output_type": "stream",
     "text": [
      "✅ Stored 12 chunks for flw-2022_2023_course-catalog-undergraduate_qa-copy.pdf\n",
      "📄 Processing: graduate-manual-2024.pdf\n"
     ]
    },
    {
     "name": "stderr",
     "output_type": "stream",
     "text": [
      "Created a chunk of size 3509, which is longer than the specified 500\n"
     ]
    },
    {
     "name": "stdout",
     "output_type": "stream",
     "text": [
      "✅ Stored 19 chunks for graduate-manual-2024.pdf\n",
      "📄 Processing: guidelines-on-professional-development-during-the-covid-19-pandemic.pdf\n",
      "✅ Stored 0 chunks for guidelines-on-professional-development-during-the-covid-19-pandemic.pdf\n",
      "📄 Processing: HTM_Curriculum_I_Cycle.pdf\n",
      "✅ Stored 2 chunks for HTM_Curriculum_I_Cycle.pdf\n",
      "📄 Processing: hukuk-mu.pdf\n",
      "✅ Stored 0 chunks for hukuk-mu.pdf\n",
      "📄 Processing: IBF_Curriculum_III_Cycle_Finance.pdf\n",
      "✅ Stored 1 chunks for IBF_Curriculum_III_Cycle_Finance.pdf\n",
      "📄 Processing: IBF_Curriculum_III_Cycle_IB.pdf\n",
      "✅ Stored 1 chunks for IBF_Curriculum_III_Cycle_IB.pdf\n",
      "📄 Processing: IBF_Curriculum_II_Cycle_Module_1.pdf\n",
      "✅ Stored 1 chunks for IBF_Curriculum_II_Cycle_Module_1.pdf\n",
      "📄 Processing: IBF_Curriculum_II_Cycle_Module_3.pdf\n",
      "✅ Stored 1 chunks for IBF_Curriculum_II_Cycle_Module_3.pdf\n",
      "📄 Processing: IBF_Curriculum_II_Cycle_Two-Year_IB.pdf\n",
      "✅ Stored 1 chunks for IBF_Curriculum_II_Cycle_Two-Year_IB.pdf\n",
      "📄 Processing: IBF_Curriculum_II_Cycle_Two-Year_IF.pdf\n"
     ]
    },
    {
     "name": "stderr",
     "output_type": "stream",
     "text": [
      "Created a chunk of size 3767, which is longer than the specified 500\n"
     ]
    },
    {
     "name": "stdout",
     "output_type": "stream",
     "text": [
      "✅ Stored 1 chunks for IBF_Curriculum_II_Cycle_Two-Year_IF.pdf\n",
      "📄 Processing: IBF_Curriculum_I_Cycle.pdf\n",
      "✅ Stored 2 chunks for IBF_Curriculum_I_Cycle.pdf\n",
      "📄 Processing: IE_Curriculum_III_Cycle.pdf\n",
      "✅ Stored 1 chunks for IE_Curriculum_III_Cycle.pdf\n",
      "📄 Processing: IE_Curriculum_II_Cycle.pdf\n",
      "✅ Stored 1 chunks for IE_Curriculum_II_Cycle.pdf\n",
      "📄 Processing: IE_Curriculum_I_Cycle.pdf\n"
     ]
    },
    {
     "name": "stderr",
     "output_type": "stream",
     "text": [
      "Created a chunk of size 3461, which is longer than the specified 500\n",
      "Created a chunk of size 4250, which is longer than the specified 500\n",
      "Created a chunk of size 2234, which is longer than the specified 500\n",
      "Created a chunk of size 2168, which is longer than the specified 500\n",
      "Created a chunk of size 3126, which is longer than the specified 500\n",
      "Created a chunk of size 758, which is longer than the specified 500\n",
      "Created a chunk of size 1132, which is longer than the specified 500\n"
     ]
    },
    {
     "name": "stdout",
     "output_type": "stream",
     "text": [
      "✅ Stored 2 chunks for IE_Curriculum_I_Cycle.pdf\n",
      "📄 Processing: induction_policy1.pdf\n"
     ]
    },
    {
     "name": "stderr",
     "output_type": "stream",
     "text": [
      "Created a chunk of size 1835, which is longer than the specified 500\n",
      "Created a chunk of size 1542, which is longer than the specified 500\n",
      "Created a chunk of size 2055, which is longer than the specified 500\n",
      "Created a chunk of size 1829, which is longer than the specified 500\n"
     ]
    },
    {
     "name": "stdout",
     "output_type": "stream",
     "text": [
      "✅ Stored 7 chunks for induction_policy1.pdf\n",
      "📄 Processing: inglizce-ogretmenligi-mu_compressed.pdf\n",
      "✅ Stored 0 chunks for inglizce-ogretmenligi-mu_compressed.pdf\n",
      "📄 Processing: instruction-on-establishment-and-maintenance-of-electronic-registry-of-curricula-and-syllabuses.pdf\n",
      "✅ Stored 0 chunks for instruction-on-establishment-and-maintenance-of-electronic-registry-of-curricula-and-syllabuses.pdf\n",
      "📄 Processing: instruction_on_keeping_records_on_the_realization_of_teaching_process_exams_and_completion_of_records1.pdf\n",
      "✅ Stored 5 chunks for instruction_on_keeping_records_on_the_realization_of_teaching_process_exams_and_completion_of_records1.pdf\n",
      "📄 Processing: internship_rules_and_regulation1.pdf\n",
      "✅ Stored 0 chunks for internship_rules_and_regulation1.pdf\n",
      "📄 Processing: IR_Curriculum_III_Cycle.pdf\n",
      "✅ Stored 1 chunks for IR_Curriculum_III_Cycle.pdf\n",
      "📄 Processing: IR_Curriculum_II_Cycle.pdf\n"
     ]
    },
    {
     "name": "stderr",
     "output_type": "stream",
     "text": [
      "Created a chunk of size 3705, which is longer than the specified 500\n"
     ]
    },
    {
     "name": "stdout",
     "output_type": "stream",
     "text": [
      "✅ Stored 1 chunks for IR_Curriculum_II_Cycle.pdf\n",
      "📄 Processing: IR_Curriculum_I_Cycle.pdf\n",
      "✅ Stored 2 chunks for IR_Curriculum_I_Cycle.pdf\n",
      "📄 Processing: ITU-IUS_BIO_Curriculum_I_Cycle_DOUBLE_DEGREE.pdf\n",
      "✅ Stored 0 chunks for ITU-IUS_BIO_Curriculum_I_Cycle_DOUBLE_DEGREE.pdf\n",
      "📄 Processing: ITU-IUS_CE_Curriculum_I_Cycle_DOUBLE_DEGREE.pdf\n"
     ]
    },
    {
     "name": "stderr",
     "output_type": "stream",
     "text": [
      "Created a chunk of size 1562, which is longer than the specified 500\n",
      "Created a chunk of size 2524, which is longer than the specified 500\n",
      "Created a chunk of size 1328, which is longer than the specified 500\n",
      "Created a chunk of size 1681, which is longer than the specified 500\n",
      "Created a chunk of size 1866, which is longer than the specified 500\n",
      "Created a chunk of size 2352, which is longer than the specified 500\n",
      "Created a chunk of size 2206, which is longer than the specified 500\n",
      "Created a chunk of size 2321, which is longer than the specified 500\n",
      "Created a chunk of size 2470, which is longer than the specified 500\n",
      "Created a chunk of size 2232, which is longer than the specified 500\n",
      "Created a chunk of size 2122, which is longer than the specified 500\n",
      "Created a chunk of size 2213, which is longer than the specified 500\n",
      "Created a chunk of size 2350, which is longer than the specified 500\n",
      "Created a chunk of size 2068, which is longer than the specified 500\n",
      "Created a chunk of size 2432, which is longer than the specified 500\n",
      "Created a chunk of size 2524, which is longer than the specified 500\n",
      "Created a chunk of size 2102, which is longer than the specified 500\n",
      "Created a chunk of size 1215, which is longer than the specified 500\n",
      "Created a chunk of size 2700, which is longer than the specified 500\n",
      "Created a chunk of size 2348, which is longer than the specified 500\n",
      "Created a chunk of size 2246, which is longer than the specified 500\n",
      "Created a chunk of size 2193, which is longer than the specified 500\n",
      "Created a chunk of size 2024, which is longer than the specified 500\n",
      "Created a chunk of size 2104, which is longer than the specified 500\n",
      "Created a chunk of size 3198, which is longer than the specified 500\n",
      "Created a chunk of size 3500, which is longer than the specified 500\n",
      "Created a chunk of size 3257, which is longer than the specified 500\n",
      "Created a chunk of size 3126, which is longer than the specified 500\n",
      "Created a chunk of size 3432, which is longer than the specified 500\n"
     ]
    },
    {
     "name": "stdout",
     "output_type": "stream",
     "text": [
      "✅ Stored 6 chunks for ITU-IUS_CE_Curriculum_I_Cycle_DOUBLE_DEGREE.pdf\n",
      "📄 Processing: itu-ius_mecanical_protokol1.pdf\n"
     ]
    },
    {
     "name": "stderr",
     "output_type": "stream",
     "text": [
      "Created a chunk of size 2282, which is longer than the specified 500\n",
      "Created a chunk of size 1764, which is longer than the specified 500\n",
      "Created a chunk of size 2246, which is longer than the specified 500\n",
      "Created a chunk of size 2193, which is longer than the specified 500\n",
      "Created a chunk of size 2024, which is longer than the specified 500\n",
      "Created a chunk of size 2104, which is longer than the specified 500\n",
      "Created a chunk of size 3182, which is longer than the specified 500\n",
      "Created a chunk of size 3500, which is longer than the specified 500\n",
      "Created a chunk of size 3241, which is longer than the specified 500\n",
      "Created a chunk of size 3118, which is longer than the specified 500\n",
      "Created a chunk of size 3432, which is longer than the specified 500\n"
     ]
    },
    {
     "name": "stdout",
     "output_type": "stream",
     "text": [
      "✅ Stored 27 chunks for itu-ius_mecanical_protokol1.pdf\n",
      "📄 Processing: ITU-IUS_Mechanical_Curriculum_I_Cycle_DOUBLE_DEGREE.pdf\n"
     ]
    },
    {
     "name": "stderr",
     "output_type": "stream",
     "text": [
      "Created a chunk of size 1407, which is longer than the specified 500\n",
      "Created a chunk of size 1485, which is longer than the specified 500\n",
      "Created a chunk of size 1136, which is longer than the specified 500\n",
      "Created a chunk of size 2403, which is longer than the specified 500\n",
      "Created a chunk of size 3435, which is longer than the specified 500\n",
      "Created a chunk of size 3503, which is longer than the specified 500\n",
      "Created a chunk of size 3733, which is longer than the specified 500\n",
      "Created a chunk of size 3992, which is longer than the specified 500\n",
      "Created a chunk of size 3538, which is longer than the specified 500\n",
      "Created a chunk of size 3585, which is longer than the specified 500\n",
      "Created a chunk of size 3807, which is longer than the specified 500\n",
      "Created a chunk of size 4031, which is longer than the specified 500\n"
     ]
    },
    {
     "name": "stdout",
     "output_type": "stream",
     "text": [
      "✅ Stored 12 chunks for ITU-IUS_Mechanical_Curriculum_I_Cycle_DOUBLE_DEGREE.pdf\n",
      "📄 Processing: ITU_IUS_ARCH_Curriculum_I_Cycle_DOUBLE_DEGREE.pdf\n"
     ]
    },
    {
     "name": "stderr",
     "output_type": "stream",
     "text": [
      "Created a chunk of size 2420, which is longer than the specified 500\n",
      "Created a chunk of size 2286, which is longer than the specified 500\n",
      "Created a chunk of size 2437, which is longer than the specified 500\n",
      "Created a chunk of size 2529, which is longer than the specified 500\n",
      "Created a chunk of size 2305, which is longer than the specified 500\n",
      "Created a chunk of size 2176, which is longer than the specified 500\n",
      "Created a chunk of size 2350, which is longer than the specified 500\n",
      "Created a chunk of size 2392, which is longer than the specified 500\n",
      "Created a chunk of size 2147, which is longer than the specified 500\n",
      "Created a chunk of size 2453, which is longer than the specified 500\n",
      "Created a chunk of size 2736, which is longer than the specified 500\n",
      "Created a chunk of size 778, which is longer than the specified 500\n",
      "Created a chunk of size 1025, which is longer than the specified 500\n",
      "Created a chunk of size 1135, which is longer than the specified 500\n",
      "Created a chunk of size 1346, which is longer than the specified 500\n",
      "Created a chunk of size 1157, which is longer than the specified 500\n",
      "Created a chunk of size 1174, which is longer than the specified 500\n",
      "Created a chunk of size 2917, which is longer than the specified 500\n",
      "Created a chunk of size 3311, which is longer than the specified 500\n",
      "Created a chunk of size 3406, which is longer than the specified 500\n",
      "Created a chunk of size 3730, which is longer than the specified 500\n",
      "Created a chunk of size 3997, which is longer than the specified 500\n",
      "Created a chunk of size 3243, which is longer than the specified 500\n",
      "Created a chunk of size 3235, which is longer than the specified 500\n",
      "Created a chunk of size 3716, which is longer than the specified 500\n",
      "Created a chunk of size 4108, which is longer than the specified 500\n",
      "Created a chunk of size 2696, which is longer than the specified 500\n"
     ]
    },
    {
     "name": "stdout",
     "output_type": "stream",
     "text": [
      "✅ Stored 13 chunks for ITU_IUS_ARCH_Curriculum_I_Cycle_DOUBLE_DEGREE.pdf\n",
      "📄 Processing: itu_ius_arch_protokol1.pdf\n"
     ]
    },
    {
     "name": "stderr",
     "output_type": "stream",
     "text": [
      "Created a chunk of size 1656, which is longer than the specified 500\n",
      "Created a chunk of size 801, which is longer than the specified 500\n",
      "Created a chunk of size 3323, which is longer than the specified 500\n",
      "Created a chunk of size 3478, which is longer than the specified 500\n",
      "Created a chunk of size 3411, which is longer than the specified 500\n",
      "Created a chunk of size 3466, which is longer than the specified 500\n",
      "Created a chunk of size 3160, which is longer than the specified 500\n",
      "Created a chunk of size 2387, which is longer than the specified 500\n",
      "Created a chunk of size 2612, which is longer than the specified 500\n"
     ]
    },
    {
     "name": "stdout",
     "output_type": "stream",
     "text": [
      "✅ Stored 31 chunks for itu_ius_arch_protokol1.pdf\n",
      "📄 Processing: ITU_IUS_Economics_Curriculum_I_Cycle_DOUBLE_DEGREE.pdf\n"
     ]
    },
    {
     "name": "stderr",
     "output_type": "stream",
     "text": [
      "Created a chunk of size 2338, which is longer than the specified 500\n",
      "Created a chunk of size 2154, which is longer than the specified 500\n",
      "Created a chunk of size 2213, which is longer than the specified 500\n",
      "Created a chunk of size 2393, which is longer than the specified 500\n",
      "Created a chunk of size 2120, which is longer than the specified 500\n",
      "Created a chunk of size 1980, which is longer than the specified 500\n",
      "Created a chunk of size 2244, which is longer than the specified 500\n",
      "Created a chunk of size 2167, which is longer than the specified 500\n",
      "Created a chunk of size 1968, which is longer than the specified 500\n",
      "Created a chunk of size 2036, which is longer than the specified 500\n",
      "Created a chunk of size 2267, which is longer than the specified 500\n",
      "Created a chunk of size 2378, which is longer than the specified 500\n",
      "Created a chunk of size 1304, which is longer than the specified 500\n",
      "Created a chunk of size 1015, which is longer than the specified 500\n",
      "Created a chunk of size 1656, which is longer than the specified 500\n",
      "Created a chunk of size 801, which is longer than the specified 500\n",
      "Created a chunk of size 3323, which is longer than the specified 500\n",
      "Created a chunk of size 3478, which is longer than the specified 500\n",
      "Created a chunk of size 3411, which is longer than the specified 500\n",
      "Created a chunk of size 3466, which is longer than the specified 500\n",
      "Created a chunk of size 3160, which is longer than the specified 500\n",
      "Created a chunk of size 2387, which is longer than the specified 500\n",
      "Created a chunk of size 2612, which is longer than the specified 500\n",
      "Created a chunk of size 1179, which is longer than the specified 500\n"
     ]
    },
    {
     "name": "stdout",
     "output_type": "stream",
     "text": [
      "✅ Stored 10 chunks for ITU_IUS_Economics_Curriculum_I_Cycle_DOUBLE_DEGREE.pdf\n",
      "📄 Processing: itu_ius_economics_protokol1.pdf\n"
     ]
    },
    {
     "name": "stderr",
     "output_type": "stream",
     "text": [
      "Created a chunk of size 2514, which is longer than the specified 500\n",
      "Created a chunk of size 4987, which is longer than the specified 500\n",
      "Created a chunk of size 5010, which is longer than the specified 500\n",
      "Created a chunk of size 4654, which is longer than the specified 500\n",
      "Created a chunk of size 4801, which is longer than the specified 500\n",
      "Created a chunk of size 2121, which is longer than the specified 500\n"
     ]
    },
    {
     "name": "stdout",
     "output_type": "stream",
     "text": [
      "✅ Stored 28 chunks for itu_ius_economics_protokol1.pdf\n",
      "📄 Processing: ITU_IUS_EHB_DDP_Curriculum_I_Cycle_DOUBLE_DEGREE.pdf\n"
     ]
    },
    {
     "name": "stderr",
     "output_type": "stream",
     "text": [
      "Created a chunk of size 3055, which is longer than the specified 500\n",
      "Created a chunk of size 2440, which is longer than the specified 500\n",
      "Created a chunk of size 2434, which is longer than the specified 500\n",
      "Created a chunk of size 2565, which is longer than the specified 500\n",
      "Created a chunk of size 2533, which is longer than the specified 500\n",
      "Created a chunk of size 2458, which is longer than the specified 500\n",
      "Created a chunk of size 2729, which is longer than the specified 500\n",
      "Created a chunk of size 2565, which is longer than the specified 500\n",
      "Created a chunk of size 2756, which is longer than the specified 500\n",
      "Created a chunk of size 3195, which is longer than the specified 500\n",
      "Created a chunk of size 1810, which is longer than the specified 500\n",
      "Created a chunk of size 2514, which is longer than the specified 500\n",
      "Created a chunk of size 4987, which is longer than the specified 500\n",
      "Created a chunk of size 5010, which is longer than the specified 500\n",
      "Created a chunk of size 4654, which is longer than the specified 500\n",
      "Created a chunk of size 4801, which is longer than the specified 500\n",
      "Created a chunk of size 2121, which is longer than the specified 500\n",
      "Created a chunk of size 1549, which is longer than the specified 500\n"
     ]
    },
    {
     "name": "stdout",
     "output_type": "stream",
     "text": [
      "✅ Stored 7 chunks for ITU_IUS_EHB_DDP_Curriculum_I_Cycle_DOUBLE_DEGREE.pdf\n",
      "📄 Processing: itu_ius_electronics_and_communication_engeenering_protocol1.pdf\n"
     ]
    },
    {
     "name": "stderr",
     "output_type": "stream",
     "text": [
      "Created a chunk of size 1664, which is longer than the specified 500\n",
      "Created a chunk of size 1181, which is longer than the specified 500\n"
     ]
    },
    {
     "name": "stdout",
     "output_type": "stream",
     "text": [
      "✅ Stored 22 chunks for itu_ius_electronics_and_communication_engeenering_protocol1.pdf\n",
      "📄 Processing: IU-IUS_CE_Curriculum_I_Cycle_DOUBLE_DEGREE.pdf\n"
     ]
    },
    {
     "name": "stderr",
     "output_type": "stream",
     "text": [
      "Created a chunk of size 1627, which is longer than the specified 500\n",
      "Created a chunk of size 1466, which is longer than the specified 500\n",
      "Created a chunk of size 2889, which is longer than the specified 500\n",
      "Created a chunk of size 3160, which is longer than the specified 500\n",
      "Created a chunk of size 2919, which is longer than the specified 500\n",
      "Created a chunk of size 3197, which is longer than the specified 500\n",
      "Created a chunk of size 2286, which is longer than the specified 500\n",
      "Created a chunk of size 3436, which is longer than the specified 500\n",
      "Created a chunk of size 2613, which is longer than the specified 500\n",
      "Created a chunk of size 2750, which is longer than the specified 500\n"
     ]
    },
    {
     "name": "stdout",
     "output_type": "stream",
     "text": [
      "✅ Stored 3 chunks for IU-IUS_CE_Curriculum_I_Cycle_DOUBLE_DEGREE.pdf\n",
      "📄 Processing: IU-IUS_Economics_Curriculum_I_Cycle_DOUBLE_DEGREE.pdf\n"
     ]
    },
    {
     "name": "stderr",
     "output_type": "stream",
     "text": [
      "Created a chunk of size 2095, which is longer than the specified 500\n",
      "Created a chunk of size 1975, which is longer than the specified 500\n",
      "Created a chunk of size 2053, which is longer than the specified 500\n",
      "Created a chunk of size 2244, which is longer than the specified 500\n",
      "Created a chunk of size 2030, which is longer than the specified 500\n",
      "Created a chunk of size 2093, which is longer than the specified 500\n",
      "Created a chunk of size 2192, which is longer than the specified 500\n",
      "Created a chunk of size 2135, which is longer than the specified 500\n",
      "Created a chunk of size 2090, which is longer than the specified 500\n",
      "Created a chunk of size 1924, which is longer than the specified 500\n",
      "Created a chunk of size 2318, which is longer than the specified 500\n",
      "Created a chunk of size 2068, which is longer than the specified 500\n",
      "Created a chunk of size 2357, which is longer than the specified 500\n",
      "Created a chunk of size 890, which is longer than the specified 500\n",
      "Created a chunk of size 677, which is longer than the specified 500\n",
      "Created a chunk of size 1627, which is longer than the specified 500\n",
      "Created a chunk of size 1466, which is longer than the specified 500\n",
      "Created a chunk of size 2889, which is longer than the specified 500\n",
      "Created a chunk of size 3160, which is longer than the specified 500\n",
      "Created a chunk of size 2919, which is longer than the specified 500\n",
      "Created a chunk of size 3197, which is longer than the specified 500\n",
      "Created a chunk of size 2286, which is longer than the specified 500\n",
      "Created a chunk of size 3436, which is longer than the specified 500\n",
      "Created a chunk of size 2613, which is longer than the specified 500\n",
      "Created a chunk of size 2750, which is longer than the specified 500\n",
      "Created a chunk of size 2527, which is longer than the specified 500\n"
     ]
    },
    {
     "name": "stdout",
     "output_type": "stream",
     "text": [
      "✅ Stored 11 chunks for IU-IUS_Economics_Curriculum_I_Cycle_DOUBLE_DEGREE.pdf\n",
      "📄 Processing: iu-ius_economics_protokol1_0.pdf\n"
     ]
    },
    {
     "name": "stderr",
     "output_type": "stream",
     "text": [
      "Created a chunk of size 2634, which is longer than the specified 500\n",
      "Created a chunk of size 2307, which is longer than the specified 500\n",
      "Created a chunk of size 3008, which is longer than the specified 500\n",
      "Created a chunk of size 3987, which is longer than the specified 500\n",
      "Created a chunk of size 2159, which is longer than the specified 500\n",
      "Created a chunk of size 1721, which is longer than the specified 500\n"
     ]
    },
    {
     "name": "stdout",
     "output_type": "stream",
     "text": [
      "✅ Stored 32 chunks for iu-ius_economics_protokol1_0.pdf\n",
      "📄 Processing: IU-IUS_ELIT_Curriculum_I_Cycle_DOUBLE_DEGREE.pdf\n"
     ]
    },
    {
     "name": "stderr",
     "output_type": "stream",
     "text": [
      "Created a chunk of size 1584, which is longer than the specified 500\n",
      "Created a chunk of size 1469, which is longer than the specified 500\n",
      "Created a chunk of size 2983, which is longer than the specified 500\n",
      "Created a chunk of size 3121, which is longer than the specified 500\n",
      "Created a chunk of size 2915, which is longer than the specified 500\n",
      "Created a chunk of size 2770, which is longer than the specified 500\n",
      "Created a chunk of size 2605, which is longer than the specified 500\n",
      "Created a chunk of size 2318, which is longer than the specified 500\n",
      "Created a chunk of size 2807, which is longer than the specified 500\n"
     ]
    },
    {
     "name": "stdout",
     "output_type": "stream",
     "text": [
      "✅ Stored 7 chunks for IU-IUS_ELIT_Curriculum_I_Cycle_DOUBLE_DEGREE.pdf\n",
      "📄 Processing: IU-IUS_Intern. Relations_Curriculum_I_Cycle_DOUBLE_DEGREE.pdf\n"
     ]
    },
    {
     "name": "stderr",
     "output_type": "stream",
     "text": [
      "Created a chunk of size 2168, which is longer than the specified 500\n",
      "Created a chunk of size 2018, which is longer than the specified 500\n",
      "Created a chunk of size 2184, which is longer than the specified 500\n",
      "Created a chunk of size 2196, which is longer than the specified 500\n",
      "Created a chunk of size 2062, which is longer than the specified 500\n",
      "Created a chunk of size 2131, which is longer than the specified 500\n",
      "Created a chunk of size 2190, which is longer than the specified 500\n",
      "Created a chunk of size 2109, which is longer than the specified 500\n",
      "Created a chunk of size 1924, which is longer than the specified 500\n",
      "Created a chunk of size 1932, which is longer than the specified 500\n",
      "Created a chunk of size 2128, which is longer than the specified 500\n",
      "Created a chunk of size 2457, which is longer than the specified 500\n",
      "Created a chunk of size 2321, which is longer than the specified 500\n",
      "Created a chunk of size 1114, which is longer than the specified 500\n",
      "Created a chunk of size 730, which is longer than the specified 500\n",
      "Created a chunk of size 1584, which is longer than the specified 500\n",
      "Created a chunk of size 1469, which is longer than the specified 500\n",
      "Created a chunk of size 2983, which is longer than the specified 500\n",
      "Created a chunk of size 3121, which is longer than the specified 500\n",
      "Created a chunk of size 2915, which is longer than the specified 500\n",
      "Created a chunk of size 2770, which is longer than the specified 500\n",
      "Created a chunk of size 2605, which is longer than the specified 500\n",
      "Created a chunk of size 2318, which is longer than the specified 500\n",
      "Created a chunk of size 2807, which is longer than the specified 500\n",
      "Created a chunk of size 1016, which is longer than the specified 500\n"
     ]
    },
    {
     "name": "stdout",
     "output_type": "stream",
     "text": [
      "✅ Stored 10 chunks for IU-IUS_Intern. Relations_Curriculum_I_Cycle_DOUBLE_DEGREE.pdf\n",
      "📄 Processing: iu-ius_intern._relations_protokol1.pdf\n"
     ]
    },
    {
     "name": "stderr",
     "output_type": "stream",
     "text": [
      "Created a chunk of size 1410, which is longer than the specified 500\n",
      "Created a chunk of size 1212, which is longer than the specified 500\n",
      "Created a chunk of size 531, which is longer than the specified 500\n",
      "Created a chunk of size 2617, which is longer than the specified 500\n",
      "Created a chunk of size 3295, which is longer than the specified 500\n",
      "Created a chunk of size 2661, which is longer than the specified 500\n",
      "Created a chunk of size 2840, which is longer than the specified 500\n",
      "Created a chunk of size 2485, which is longer than the specified 500\n",
      "Created a chunk of size 2693, which is longer than the specified 500\n",
      "Created a chunk of size 2659, which is longer than the specified 500\n",
      "Created a chunk of size 3091, which is longer than the specified 500\n",
      "Created a chunk of size 3257, which is longer than the specified 500\n",
      "Created a chunk of size 3152, which is longer than the specified 500\n",
      "Created a chunk of size 2888, which is longer than the specified 500\n"
     ]
    },
    {
     "name": "stdout",
     "output_type": "stream",
     "text": [
      "✅ Stored 30 chunks for iu-ius_intern._relations_protokol1.pdf\n",
      "📄 Processing: IU-IUS_LAW_Curriculum_I_Cycle_DOUBLE_DEGREE.pdf\n",
      "✅ Stored 0 chunks for IU-IUS_LAW_Curriculum_I_Cycle_DOUBLE_DEGREE.pdf\n",
      "📄 Processing: IU-IUS_Management_Curriculum_I_Cycle_DOUBLE_DEGREE.pdf\n"
     ]
    },
    {
     "name": "stderr",
     "output_type": "stream",
     "text": [
      "Created a chunk of size 2083, which is longer than the specified 500\n",
      "Created a chunk of size 1981, which is longer than the specified 500\n",
      "Created a chunk of size 2130, which is longer than the specified 500\n",
      "Created a chunk of size 2153, which is longer than the specified 500\n",
      "Created a chunk of size 2058, which is longer than the specified 500\n",
      "Created a chunk of size 2089, which is longer than the specified 500\n",
      "Created a chunk of size 2196, which is longer than the specified 500\n",
      "Created a chunk of size 2145, which is longer than the specified 500\n",
      "Created a chunk of size 2106, which is longer than the specified 500\n",
      "Created a chunk of size 2001, which is longer than the specified 500\n",
      "Created a chunk of size 2255, which is longer than the specified 500\n",
      "Created a chunk of size 2068, which is longer than the specified 500\n",
      "Created a chunk of size 2366, which is longer than the specified 500\n",
      "Created a chunk of size 863, which is longer than the specified 500\n",
      "Created a chunk of size 851, which is longer than the specified 500\n",
      "Created a chunk of size 1410, which is longer than the specified 500\n",
      "Created a chunk of size 1212, which is longer than the specified 500\n",
      "Created a chunk of size 531, which is longer than the specified 500\n",
      "Created a chunk of size 2617, which is longer than the specified 500\n",
      "Created a chunk of size 3295, which is longer than the specified 500\n",
      "Created a chunk of size 2661, which is longer than the specified 500\n",
      "Created a chunk of size 2840, which is longer than the specified 500\n",
      "Created a chunk of size 2485, which is longer than the specified 500\n",
      "Created a chunk of size 2693, which is longer than the specified 500\n",
      "Created a chunk of size 2659, which is longer than the specified 500\n",
      "Created a chunk of size 3091, which is longer than the specified 500\n",
      "Created a chunk of size 3257, which is longer than the specified 500\n",
      "Created a chunk of size 3152, which is longer than the specified 500\n",
      "Created a chunk of size 2888, which is longer than the specified 500\n",
      "Created a chunk of size 3580, which is longer than the specified 500\n"
     ]
    },
    {
     "name": "stdout",
     "output_type": "stream",
     "text": [
      "✅ Stored 15 chunks for IU-IUS_Management_Curriculum_I_Cycle_DOUBLE_DEGREE.pdf\n",
      "📄 Processing: iu-ius_management_protokol1.pdf\n"
     ]
    },
    {
     "name": "stderr",
     "output_type": "stream",
     "text": [
      "Created a chunk of size 987, which is longer than the specified 500\n",
      "Created a chunk of size 906, which is longer than the specified 500\n",
      "Created a chunk of size 2637, which is longer than the specified 500\n",
      "Created a chunk of size 2906, which is longer than the specified 500\n",
      "Created a chunk of size 3062, which is longer than the specified 500\n",
      "Created a chunk of size 2870, which is longer than the specified 500\n",
      "Created a chunk of size 2464, which is longer than the specified 500\n",
      "Created a chunk of size 3096, which is longer than the specified 500\n",
      "Created a chunk of size 3415, which is longer than the specified 500\n",
      "Created a chunk of size 3157, which is longer than the specified 500\n",
      "Created a chunk of size 2799, which is longer than the specified 500\n"
     ]
    },
    {
     "name": "stdout",
     "output_type": "stream",
     "text": [
      "✅ Stored 35 chunks for iu-ius_management_protokol1.pdf\n",
      "📄 Processing: ius-academic-staff-evaluation-2023.pdf\n"
     ]
    },
    {
     "name": "stderr",
     "output_type": "stream",
     "text": [
      "Created a chunk of size 1640, which is longer than the specified 500\n",
      "Created a chunk of size 1638, which is longer than the specified 500\n",
      "Created a chunk of size 2105, which is longer than the specified 500\n",
      "Created a chunk of size 2466, which is longer than the specified 500\n",
      "Created a chunk of size 1944, which is longer than the specified 500\n",
      "Created a chunk of size 2231, which is longer than the specified 500\n",
      "Created a chunk of size 2927, which is longer than the specified 500\n",
      "Created a chunk of size 2990, which is longer than the specified 500\n",
      "Created a chunk of size 3345, which is longer than the specified 500\n",
      "Created a chunk of size 2922, which is longer than the specified 500\n",
      "Created a chunk of size 2974, which is longer than the specified 500\n"
     ]
    },
    {
     "name": "stdout",
     "output_type": "stream",
     "text": [
      "✅ Stored 12 chunks for ius-academic-staff-evaluation-2023.pdf\n",
      "📄 Processing: ius-covid19-plan1.pdf\n"
     ]
    },
    {
     "name": "stderr",
     "output_type": "stream",
     "text": [
      "Created a chunk of size 2000, which is longer than the specified 500\n",
      "Created a chunk of size 1674, which is longer than the specified 500\n",
      "Created a chunk of size 1087, which is longer than the specified 500\n",
      "Created a chunk of size 1558, which is longer than the specified 500\n",
      "Created a chunk of size 983, which is longer than the specified 500\n",
      "Created a chunk of size 1176, which is longer than the specified 500\n",
      "Created a chunk of size 1227, which is longer than the specified 500\n",
      "Created a chunk of size 1358, which is longer than the specified 500\n",
      "Created a chunk of size 1192, which is longer than the specified 500\n"
     ]
    },
    {
     "name": "stdout",
     "output_type": "stream",
     "text": [
      "✅ Stored 13 chunks for ius-covid19-plan1.pdf\n",
      "📄 Processing: ius_-_ludwigshafen_university_of_business_and_society_protocol1.pdf\n",
      "✅ Stored 0 chunks for ius_-_ludwigshafen_university_of_business_and_society_protocol1.pdf\n",
      "📄 Processing: ius_gep-2.pdf\n"
     ]
    },
    {
     "name": "stderr",
     "output_type": "stream",
     "text": [
      "Created a chunk of size 2571, which is longer than the specified 500\n",
      "Created a chunk of size 2913, which is longer than the specified 500\n",
      "Created a chunk of size 2058, which is longer than the specified 500\n",
      "Created a chunk of size 2708, which is longer than the specified 500\n",
      "Created a chunk of size 2182, which is longer than the specified 500\n",
      "Created a chunk of size 2913, which is longer than the specified 500\n",
      "Created a chunk of size 2496, which is longer than the specified 500\n",
      "Created a chunk of size 3004, which is longer than the specified 500\n",
      "Created a chunk of size 2819, which is longer than the specified 500\n",
      "Created a chunk of size 2849, which is longer than the specified 500\n",
      "Created a chunk of size 3182, which is longer than the specified 500\n",
      "Created a chunk of size 2977, which is longer than the specified 500\n",
      "Created a chunk of size 2847, which is longer than the specified 500\n",
      "Created a chunk of size 2972, which is longer than the specified 500\n",
      "Created a chunk of size 2789, which is longer than the specified 500\n",
      "Created a chunk of size 2538, which is longer than the specified 500\n",
      "Created a chunk of size 2889, which is longer than the specified 500\n",
      "Created a chunk of size 1781, which is longer than the specified 500\n",
      "Created a chunk of size 2312, which is longer than the specified 500\n",
      "Created a chunk of size 2065, which is longer than the specified 500\n",
      "Created a chunk of size 2486, which is longer than the specified 500\n",
      "Created a chunk of size 2280, which is longer than the specified 500\n",
      "Created a chunk of size 2769, which is longer than the specified 500\n",
      "Created a chunk of size 2444, which is longer than the specified 500\n",
      "Created a chunk of size 2670, which is longer than the specified 500\n",
      "Created a chunk of size 2220, which is longer than the specified 500\n",
      "Created a chunk of size 657, which is longer than the specified 500\n",
      "Created a chunk of size 1823, which is longer than the specified 500\n",
      "Created a chunk of size 2141, which is longer than the specified 500\n",
      "Created a chunk of size 933, which is longer than the specified 500\n"
     ]
    },
    {
     "name": "stdout",
     "output_type": "stream",
     "text": [
      "✅ Stored 10 chunks for ius_gep-2.pdf\n",
      "📄 Processing: ius_occupational_safety_rulebook1.pdf\n"
     ]
    },
    {
     "name": "stderr",
     "output_type": "stream",
     "text": [
      "Created a chunk of size 1122, which is longer than the specified 500\n",
      "Created a chunk of size 1076, which is longer than the specified 500\n",
      "Created a chunk of size 1248, which is longer than the specified 500\n",
      "Created a chunk of size 1106, which is longer than the specified 500\n"
     ]
    },
    {
     "name": "stdout",
     "output_type": "stream",
     "text": [
      "✅ Stored 32 chunks for ius_occupational_safety_rulebook1.pdf\n",
      "📄 Processing: ius_publication_registry_decision1.pdf\n"
     ]
    },
    {
     "name": "stderr",
     "output_type": "stream",
     "text": [
      "Created a chunk of size 505, which is longer than the specified 500\n",
      "Created a chunk of size 1072, which is longer than the specified 500\n",
      "Created a chunk of size 3149, which is longer than the specified 500\n",
      "Created a chunk of size 3362, which is longer than the specified 500\n",
      "Created a chunk of size 1616, which is longer than the specified 500\n",
      "Created a chunk of size 1041, which is longer than the specified 500\n",
      "Created a chunk of size 1289, which is longer than the specified 500\n",
      "Created a chunk of size 2117, which is longer than the specified 500\n",
      "Created a chunk of size 1820, which is longer than the specified 500\n",
      "Created a chunk of size 2597, which is longer than the specified 500\n",
      "Created a chunk of size 2746, which is longer than the specified 500\n",
      "Created a chunk of size 2325, which is longer than the specified 500\n",
      "Created a chunk of size 1192, which is longer than the specified 500\n",
      "Created a chunk of size 1695, which is longer than the specified 500\n",
      "Created a chunk of size 2302, which is longer than the specified 500\n",
      "Created a chunk of size 1423, which is longer than the specified 500\n",
      "Created a chunk of size 3252, which is longer than the specified 500\n",
      "Created a chunk of size 2758, which is longer than the specified 500\n",
      "Created a chunk of size 2501, which is longer than the specified 500\n",
      "Created a chunk of size 675, which is longer than the specified 500\n",
      "Created a chunk of size 1416, which is longer than the specified 500\n",
      "Created a chunk of size 1151, which is longer than the specified 500\n",
      "Created a chunk of size 1229, which is longer than the specified 500\n",
      "Created a chunk of size 1618, which is longer than the specified 500\n",
      "Created a chunk of size 1510, which is longer than the specified 500\n"
     ]
    },
    {
     "name": "stdout",
     "output_type": "stream",
     "text": [
      "✅ Stored 5 chunks for ius_publication_registry_decision1.pdf\n",
      "📄 Processing: ius_strategic_plan_2022_20261.pdf\n"
     ]
    },
    {
     "name": "stderr",
     "output_type": "stream",
     "text": [
      "Created a chunk of size 505, which is longer than the specified 500\n",
      "Created a chunk of size 1072, which is longer than the specified 500\n",
      "Created a chunk of size 3149, which is longer than the specified 500\n",
      "Created a chunk of size 3362, which is longer than the specified 500\n",
      "Created a chunk of size 1616, which is longer than the specified 500\n",
      "Created a chunk of size 1041, which is longer than the specified 500\n",
      "Created a chunk of size 1289, which is longer than the specified 500\n",
      "Created a chunk of size 2117, which is longer than the specified 500\n",
      "Created a chunk of size 1820, which is longer than the specified 500\n",
      "Created a chunk of size 2597, which is longer than the specified 500\n",
      "Created a chunk of size 2746, which is longer than the specified 500\n",
      "Created a chunk of size 2325, which is longer than the specified 500\n",
      "Created a chunk of size 1192, which is longer than the specified 500\n",
      "Created a chunk of size 1695, which is longer than the specified 500\n",
      "Created a chunk of size 2302, which is longer than the specified 500\n",
      "Created a chunk of size 1423, which is longer than the specified 500\n",
      "Created a chunk of size 3252, which is longer than the specified 500\n",
      "Created a chunk of size 2758, which is longer than the specified 500\n",
      "Created a chunk of size 2501, which is longer than the specified 500\n",
      "Created a chunk of size 675, which is longer than the specified 500\n",
      "Created a chunk of size 1416, which is longer than the specified 500\n",
      "Created a chunk of size 1151, which is longer than the specified 500\n",
      "Created a chunk of size 1229, which is longer than the specified 500\n",
      "Created a chunk of size 1618, which is longer than the specified 500\n",
      "Created a chunk of size 1510, which is longer than the specified 500\n"
     ]
    },
    {
     "name": "stdout",
     "output_type": "stream",
     "text": [
      "✅ Stored 28 chunks for ius_strategic_plan_2022_20261.pdf\n",
      "📄 Processing: ius_strategic_plan_english.pdf\n"
     ]
    },
    {
     "name": "stderr",
     "output_type": "stream",
     "text": [
      "Created a chunk of size 3876, which is longer than the specified 500\n",
      "Created a chunk of size 3355, which is longer than the specified 500\n",
      "Created a chunk of size 3125, which is longer than the specified 500\n",
      "Created a chunk of size 3434, which is longer than the specified 500\n",
      "Created a chunk of size 2920, which is longer than the specified 500\n",
      "Created a chunk of size 2877, which is longer than the specified 500\n",
      "Created a chunk of size 672, which is longer than the specified 500\n"
     ]
    },
    {
     "name": "stdout",
     "output_type": "stream",
     "text": [
      "✅ Stored 28 chunks for ius_strategic_plan_english.pdf\n",
      "📄 Processing: ius_university_pool.pdf\n",
      "✅ Stored 1 chunks for ius_university_pool.pdf\n",
      "📄 Processing: leaves_procedures_for_academic_staff1.pdf\n"
     ]
    },
    {
     "name": "stderr",
     "output_type": "stream",
     "text": [
      "Created a chunk of size 3131, which is longer than the specified 500\n",
      "Created a chunk of size 3152, which is longer than the specified 500\n",
      "Created a chunk of size 3277, which is longer than the specified 500\n",
      "Created a chunk of size 3520, which is longer than the specified 500\n",
      "Created a chunk of size 2095, which is longer than the specified 500\n",
      "Created a chunk of size 1200, which is longer than the specified 500\n"
     ]
    },
    {
     "name": "stdout",
     "output_type": "stream",
     "text": [
      "✅ Stored 8 chunks for leaves_procedures_for_academic_staff1.pdf\n",
      "📄 Processing: leaves_procedures_for_administrative_staff1.pdf\n"
     ]
    },
    {
     "name": "stderr",
     "output_type": "stream",
     "text": [
      "Created a chunk of size 3000, which is longer than the specified 500\n"
     ]
    },
    {
     "name": "stdout",
     "output_type": "stream",
     "text": [
      "✅ Stored 7 chunks for leaves_procedures_for_administrative_staff1.pdf\n",
      "📄 Processing: MAC_Curriculum_I_Cycle.pdf\n",
      "✅ Stored 2 chunks for MAC_Curriculum_I_Cycle.pdf\n",
      "📄 Processing: MAN_Curriculum_III_Cycle.pdf\n",
      "✅ Stored 1 chunks for MAN_Curriculum_III_Cycle.pdf\n",
      "📄 Processing: MAN_Curriculum_II_Cycle.pdf\n",
      "✅ Stored 1 chunks for MAN_Curriculum_II_Cycle.pdf\n",
      "📄 Processing: MAN_Curriculum_II_Cycle_DOUBLE_DEGREE (1).pdf\n",
      "✅ Stored 1 chunks for MAN_Curriculum_II_Cycle_DOUBLE_DEGREE (1).pdf\n",
      "📄 Processing: MAN_Curriculum_II_Cycle_DOUBLE_DEGREE.pdf\n",
      "✅ Stored 1 chunks for MAN_Curriculum_II_Cycle_DOUBLE_DEGREE.pdf\n",
      "📄 Processing: MAN_Curriculum_II_Cycle_Two-Year.pdf\n"
     ]
    },
    {
     "name": "stderr",
     "output_type": "stream",
     "text": [
      "Created a chunk of size 3819, which is longer than the specified 500\n"
     ]
    },
    {
     "name": "stdout",
     "output_type": "stream",
     "text": [
      "✅ Stored 1 chunks for MAN_Curriculum_II_Cycle_Two-Year.pdf\n",
      "📄 Processing: MAN_Curriculum_I_Cycle.pdf\n",
      "✅ Stored 2 chunks for MAN_Curriculum_I_Cycle.pdf\n",
      "📄 Processing: matrix_1_sample_correspondence-between-bhqf-i-cycle-and-sp-learning-outcomes.pdf\n",
      "✅ Stored 1 chunks for matrix_1_sample_correspondence-between-bhqf-i-cycle-and-sp-learning-outcomes.pdf\n",
      "📄 Processing: ME_Curriculum_III_Cycle.pdf\n"
     ]
    },
    {
     "name": "stderr",
     "output_type": "stream",
     "text": [
      "Created a chunk of size 4438, which is longer than the specified 500\n"
     ]
    },
    {
     "name": "stdout",
     "output_type": "stream",
     "text": [
      "✅ Stored 1 chunks for ME_Curriculum_III_Cycle.pdf\n",
      "📄 Processing: ME_Curriculum_II_Cycle.pdf\n",
      "✅ Stored 1 chunks for ME_Curriculum_II_Cycle.pdf\n",
      "📄 Processing: ME_Curriculum_I_Cycle.pdf\n"
     ]
    },
    {
     "name": "stderr",
     "output_type": "stream",
     "text": [
      "Created a chunk of size 4122, which is longer than the specified 500\n"
     ]
    },
    {
     "name": "stdout",
     "output_type": "stream",
     "text": [
      "✅ Stored 2 chunks for ME_Curriculum_I_Cycle.pdf\n",
      "📄 Processing: ME_Curriculum_I_Cycle_BETWEEN_AY_2022-2023_AND_AY_2023-2024.pdf\n",
      "✅ Stored 2 chunks for ME_Curriculum_I_Cycle_BETWEEN_AY_2022-2023_AND_AY_2023-2024.pdf\n",
      "📄 Processing: Minor_in_ARCH_I_Cycle.pdf\n",
      "✅ Stored 1 chunks for Minor_in_ARCH_I_Cycle.pdf\n",
      "📄 Processing: Minor_in_CS_I_Cycle.pdf\n",
      "✅ Stored 1 chunks for Minor_in_CS_I_Cycle.pdf\n",
      "📄 Processing: Minor_in_ECON_I_Cycle.pdf\n",
      "✅ Stored 1 chunks for Minor_in_ECON_I_Cycle.pdf\n",
      "📄 Processing: Minor_in_EEE_I_Cycle.pdf\n",
      "✅ Stored 1 chunks for Minor_in_EEE_I_Cycle.pdf\n",
      "📄 Processing: Minor_in_ELIT_I_Cycle.pdf\n",
      "✅ Stored 1 chunks for Minor_in_ELIT_I_Cycle.pdf\n",
      "📄 Processing: Minor_in_ELT_I_Cycle.pdf\n",
      "✅ Stored 1 chunks for Minor_in_ELT_I_Cycle.pdf\n",
      "📄 Processing: Minor_in_GBE_I_Cycle.pdf\n",
      "✅ Stored 1 chunks for Minor_in_GBE_I_Cycle.pdf\n",
      "📄 Processing: Minor_in_IBF_I_Cycle.pdf\n",
      "✅ Stored 1 chunks for Minor_in_IBF_I_Cycle.pdf\n",
      "📄 Processing: Minor_in_IR_I_Cycle.pdf\n",
      "✅ Stored 1 chunks for Minor_in_IR_I_Cycle.pdf\n",
      "📄 Processing: Minor_in_MAN_I_Cycle.pdf\n",
      "✅ Stored 1 chunks for Minor_in_MAN_I_Cycle.pdf\n",
      "📄 Processing: Minor_in_ME_I_Cycle.pdf\n",
      "✅ Stored 1 chunks for Minor_in_ME_I_Cycle.pdf\n",
      "📄 Processing: Minor_in_PSIR_I_Cycle.pdf\n",
      "✅ Stored 1 chunks for Minor_in_PSIR_I_Cycle.pdf\n",
      "📄 Processing: Minor_in_PSY_I_Cycle.pdf\n",
      "✅ Stored 1 chunks for Minor_in_PSY_I_Cycle.pdf\n",
      "📄 Processing: Minor_in_PS_I_Cycle.pdf\n",
      "✅ Stored 1 chunks for Minor_in_PS_I_Cycle.pdf\n",
      "📄 Processing: Minor_in_SE_I_Cycle.pdf\n",
      "✅ Stored 1 chunks for Minor_in_SE_I_Cycle.pdf\n",
      "📄 Processing: Minor_in_TLT_I_Cycle.pdf\n"
     ]
    },
    {
     "name": "stderr",
     "output_type": "stream",
     "text": [
      "Created a chunk of size 1464, which is longer than the specified 500\n"
     ]
    },
    {
     "name": "stdout",
     "output_type": "stream",
     "text": [
      "✅ Stored 1 chunks for Minor_in_TLT_I_Cycle.pdf\n",
      "📄 Processing: Minor_in_VACD_I_Cycle.pdf\n",
      "✅ Stored 1 chunks for Minor_in_VACD_I_Cycle.pdf\n",
      "📄 Processing: MU-IUS_BIO_Curriculum_I_Cycle_DOUBLE_DEGREE.pdf\n"
     ]
    },
    {
     "name": "stderr",
     "output_type": "stream",
     "text": [
      "Created a chunk of size 1574, which is longer than the specified 500\n"
     ]
    },
    {
     "name": "stdout",
     "output_type": "stream",
     "text": [
      "✅ Stored 2 chunks for MU-IUS_BIO_Curriculum_I_Cycle_DOUBLE_DEGREE.pdf\n",
      "📄 Processing: MU-IUS_CE_Curriculum_I_Cycle_DOUBLE_DEGREE.pdf\n"
     ]
    },
    {
     "name": "stderr",
     "output_type": "stream",
     "text": [
      "Created a chunk of size 1787, which is longer than the specified 500\n"
     ]
    },
    {
     "name": "stdout",
     "output_type": "stream",
     "text": [
      "✅ Stored 2 chunks for MU-IUS_CE_Curriculum_I_Cycle_DOUBLE_DEGREE.pdf\n",
      "📄 Processing: MU-IUS_ELT_Curriculum_I_Cycle_DOUBLE_DEGREE.pdf\n"
     ]
    },
    {
     "name": "stderr",
     "output_type": "stream",
     "text": [
      "Created a chunk of size 2453, which is longer than the specified 500\n",
      "Created a chunk of size 2613, which is longer than the specified 500\n"
     ]
    },
    {
     "name": "stdout",
     "output_type": "stream",
     "text": [
      "✅ Stored 2 chunks for MU-IUS_ELT_Curriculum_I_Cycle_DOUBLE_DEGREE.pdf\n",
      "📄 Processing: MU-IUS_LAW_Curriculum_I_Cycle_DOUBLE_DEGREE.pdf\n",
      "✅ Stored 0 chunks for MU-IUS_LAW_Curriculum_I_Cycle_DOUBLE_DEGREE.pdf\n",
      "📄 Processing: policy_on_drugs_and_alcohol_abuse1.pdf\n"
     ]
    },
    {
     "name": "stderr",
     "output_type": "stream",
     "text": [
      "Created a chunk of size 1309, which is longer than the specified 500\n",
      "Created a chunk of size 1943, which is longer than the specified 500\n",
      "Created a chunk of size 1974, which is longer than the specified 500\n",
      "Created a chunk of size 1504, which is longer than the specified 500\n",
      "Created a chunk of size 1116, which is longer than the specified 500\n",
      "Created a chunk of size 2879, which is longer than the specified 500\n",
      "Created a chunk of size 1970, which is longer than the specified 500\n"
     ]
    },
    {
     "name": "stdout",
     "output_type": "stream",
     "text": [
      "✅ Stored 3 chunks for policy_on_drugs_and_alcohol_abuse1.pdf\n",
      "📄 Processing: potpisana-verzija-strategije-o-internacionalizaciji.pdf\n"
     ]
    },
    {
     "name": "stderr",
     "output_type": "stream",
     "text": [
      "Created a chunk of size 1835, which is longer than the specified 500\n",
      "Created a chunk of size 2136, which is longer than the specified 500\n",
      "Created a chunk of size 2236, which is longer than the specified 500\n",
      "Created a chunk of size 2389, which is longer than the specified 500\n",
      "Created a chunk of size 2201, which is longer than the specified 500\n",
      "Created a chunk of size 2613, which is longer than the specified 500\n",
      "Created a chunk of size 2592, which is longer than the specified 500\n",
      "Created a chunk of size 2500, which is longer than the specified 500\n",
      "Created a chunk of size 2368, which is longer than the specified 500\n",
      "Created a chunk of size 2808, which is longer than the specified 500\n",
      "Created a chunk of size 2428, which is longer than the specified 500\n",
      "Created a chunk of size 2183, which is longer than the specified 500\n",
      "Created a chunk of size 2328, which is longer than the specified 500\n",
      "Created a chunk of size 1704, which is longer than the specified 500\n"
     ]
    },
    {
     "name": "stdout",
     "output_type": "stream",
     "text": [
      "✅ Stored 8 chunks for potpisana-verzija-strategije-o-internacionalizaciji.pdf\n",
      "📄 Processing: pravilnik-o-priznavanju-inostranih-visokoskolskih-kvalifikacija.pdf\n"
     ]
    },
    {
     "name": "stderr",
     "output_type": "stream",
     "text": [
      "Created a chunk of size 2219, which is longer than the specified 500\n",
      "Created a chunk of size 2329, which is longer than the specified 500\n",
      "Created a chunk of size 2367, which is longer than the specified 500\n",
      "Created a chunk of size 2022, which is longer than the specified 500\n",
      "Created a chunk of size 1294, which is longer than the specified 500\n",
      "Created a chunk of size 3814, which is longer than the specified 500\n",
      "Created a chunk of size 1592, which is longer than the specified 500\n",
      "Created a chunk of size 1757, which is longer than the specified 500\n",
      "Created a chunk of size 2921, which is longer than the specified 500\n",
      "Created a chunk of size 2112, which is longer than the specified 500\n",
      "Created a chunk of size 2232, which is longer than the specified 500\n",
      "Created a chunk of size 2617, which is longer than the specified 500\n",
      "Created a chunk of size 2406, which is longer than the specified 500\n",
      "Created a chunk of size 1779, which is longer than the specified 500\n",
      "Created a chunk of size 1793, which is longer than the specified 500\n",
      "Created a chunk of size 1788, which is longer than the specified 500\n",
      "Created a chunk of size 1629, which is longer than the specified 500\n",
      "Created a chunk of size 1926, which is longer than the specified 500\n",
      "Created a chunk of size 1706, which is longer than the specified 500\n"
     ]
    },
    {
     "name": "stdout",
     "output_type": "stream",
     "text": [
      "✅ Stored 17 chunks for pravilnik-o-priznavanju-inostranih-visokoskolskih-kvalifikacija.pdf\n",
      "📄 Processing: procedure_on_academic_promotion_at_ius-all1.pdf\n",
      "✅ Stored 25 chunks for procedure_on_academic_promotion_at_ius-all1.pdf\n",
      "📄 Processing: protocol_on_the_establishment_of_international_joint_undergraduate_program_in_law_iu.pdf\n",
      "✅ Stored 0 chunks for protocol_on_the_establishment_of_international_joint_undergraduate_program_in_law_iu.pdf\n",
      "📄 Processing: PSIR_Curriculum_III_Cycle.pdf\n",
      "✅ Stored 1 chunks for PSIR_Curriculum_III_Cycle.pdf\n",
      "📄 Processing: PSIR_Curriculum_II_Cycle.pdf\n"
     ]
    },
    {
     "name": "stderr",
     "output_type": "stream",
     "text": [
      "Created a chunk of size 2161, which is longer than the specified 500\n"
     ]
    },
    {
     "name": "stdout",
     "output_type": "stream",
     "text": [
      "✅ Stored 1 chunks for PSIR_Curriculum_II_Cycle.pdf\n",
      "📄 Processing: PSIR_Curriculum_II_Cycle_Two-Year.pdf\n",
      "✅ Stored 2 chunks for PSIR_Curriculum_II_Cycle_Two-Year.pdf\n",
      "📄 Processing: PSIR_Curriculum_I_Cycle.pdf\n"
     ]
    },
    {
     "name": "stderr",
     "output_type": "stream",
     "text": [
      "Created a chunk of size 3540, which is longer than the specified 500\n"
     ]
    },
    {
     "name": "stdout",
     "output_type": "stream",
     "text": [
      "✅ Stored 2 chunks for PSIR_Curriculum_I_Cycle.pdf\n",
      "📄 Processing: PSY_Curriculum_III_Cycle.pdf\n",
      "✅ Stored 1 chunks for PSY_Curriculum_III_Cycle.pdf\n",
      "📄 Processing: PSY_Curriculum_II_Cycle.pdf\n"
     ]
    },
    {
     "name": "stderr",
     "output_type": "stream",
     "text": [
      "Created a chunk of size 4531, which is longer than the specified 500\n"
     ]
    },
    {
     "name": "stdout",
     "output_type": "stream",
     "text": [
      "✅ Stored 1 chunks for PSY_Curriculum_II_Cycle.pdf\n",
      "📄 Processing: PSY_Curriculum_I_Cycle.pdf\n"
     ]
    },
    {
     "name": "stderr",
     "output_type": "stream",
     "text": [
      "Created a chunk of size 2219, which is longer than the specified 500\n",
      "Created a chunk of size 2806, which is longer than the specified 500\n",
      "Created a chunk of size 2297, which is longer than the specified 500\n",
      "Created a chunk of size 2147, which is longer than the specified 500\n",
      "Created a chunk of size 2249, which is longer than the specified 500\n",
      "Created a chunk of size 1261, which is longer than the specified 500\n",
      "Created a chunk of size 2127, which is longer than the specified 500\n",
      "Created a chunk of size 2277, which is longer than the specified 500\n"
     ]
    },
    {
     "name": "stdout",
     "output_type": "stream",
     "text": [
      "✅ Stored 2 chunks for PSY_Curriculum_I_Cycle.pdf\n",
      "📄 Processing: qa-pravilnik-bos.pdf\n"
     ]
    },
    {
     "name": "stderr",
     "output_type": "stream",
     "text": [
      "Created a chunk of size 2085, which is longer than the specified 500\n",
      "Created a chunk of size 2441, which is longer than the specified 500\n",
      "Created a chunk of size 2214, which is longer than the specified 500\n",
      "Created a chunk of size 1925, which is longer than the specified 500\n",
      "Created a chunk of size 505, which is longer than the specified 500\n"
     ]
    },
    {
     "name": "stdout",
     "output_type": "stream",
     "text": [
      "✅ Stored 10 chunks for qa-pravilnik-bos.pdf\n",
      "📄 Processing: rdc_rules_and_procedures1.pdf\n"
     ]
    },
    {
     "name": "stderr",
     "output_type": "stream",
     "text": [
      "Created a chunk of size 1128, which is longer than the specified 500\n",
      "Created a chunk of size 2452, which is longer than the specified 500\n",
      "Created a chunk of size 3001, which is longer than the specified 500\n",
      "Created a chunk of size 2345, which is longer than the specified 500\n"
     ]
    },
    {
     "name": "stdout",
     "output_type": "stream",
     "text": [
      "✅ Stored 7 chunks for rdc_rules_and_procedures1.pdf\n",
      "📄 Processing: rectors_decision_on_student_survey1.pdf\n",
      "✅ Stored 0 chunks for rectors_decision_on_student_survey1.pdf\n",
      "📄 Processing: report-for-mobility-final.pdf\n"
     ]
    },
    {
     "name": "stderr",
     "output_type": "stream",
     "text": [
      "Created a chunk of size 1416, which is longer than the specified 500\n",
      "Created a chunk of size 4285, which is longer than the specified 500\n",
      "Created a chunk of size 2349, which is longer than the specified 500\n",
      "Created a chunk of size 2336, which is longer than the specified 500\n",
      "Created a chunk of size 2599, which is longer than the specified 500\n",
      "Created a chunk of size 2313, which is longer than the specified 500\n",
      "Created a chunk of size 2071, which is longer than the specified 500\n",
      "Created a chunk of size 2044, which is longer than the specified 500\n",
      "Created a chunk of size 2467, which is longer than the specified 500\n",
      "Created a chunk of size 2230, which is longer than the specified 500\n",
      "Created a chunk of size 2365, which is longer than the specified 500\n",
      "Created a chunk of size 2348, which is longer than the specified 500\n",
      "Created a chunk of size 2337, which is longer than the specified 500\n",
      "Created a chunk of size 2149, which is longer than the specified 500\n",
      "Created a chunk of size 2297, which is longer than the specified 500\n",
      "Created a chunk of size 2643, which is longer than the specified 500\n",
      "Created a chunk of size 2138, which is longer than the specified 500\n",
      "Created a chunk of size 2029, which is longer than the specified 500\n"
     ]
    },
    {
     "name": "stdout",
     "output_type": "stream",
     "text": [
      "✅ Stored 5 chunks for report-for-mobility-final.pdf\n",
      "📄 Processing: rulebook_on_organization_of_the_distance_learning_at_ius1.pdf\n"
     ]
    },
    {
     "name": "stderr",
     "output_type": "stream",
     "text": [
      "Created a chunk of size 3012, which is longer than the specified 500\n",
      "Created a chunk of size 2618, which is longer than the specified 500\n",
      "Created a chunk of size 3421, which is longer than the specified 500\n",
      "Created a chunk of size 2741, which is longer than the specified 500\n",
      "Created a chunk of size 2446, which is longer than the specified 500\n",
      "Created a chunk of size 3232, which is longer than the specified 500\n",
      "Created a chunk of size 3472, which is longer than the specified 500\n",
      "Created a chunk of size 3106, which is longer than the specified 500\n",
      "Created a chunk of size 2838, which is longer than the specified 500\n",
      "Created a chunk of size 3076, which is longer than the specified 500\n",
      "Created a chunk of size 2242, which is longer than the specified 500\n",
      "Created a chunk of size 2656, which is longer than the specified 500\n",
      "Created a chunk of size 2765, which is longer than the specified 500\n",
      "Created a chunk of size 2401, which is longer than the specified 500\n"
     ]
    },
    {
     "name": "stdout",
     "output_type": "stream",
     "text": [
      "✅ Stored 22 chunks for rulebook_on_organization_of_the_distance_learning_at_ius1.pdf\n",
      "📄 Processing: rules_and_procedures_of_the_project_management_office1.pdf\n"
     ]
    },
    {
     "name": "stderr",
     "output_type": "stream",
     "text": [
      "Created a chunk of size 1823, which is longer than the specified 500\n",
      "Created a chunk of size 1860, which is longer than the specified 500\n",
      "Created a chunk of size 2157, which is longer than the specified 500\n",
      "Created a chunk of size 1102, which is longer than the specified 500\n",
      "Created a chunk of size 2062, which is longer than the specified 500\n",
      "Created a chunk of size 1621, which is longer than the specified 500\n"
     ]
    },
    {
     "name": "stdout",
     "output_type": "stream",
     "text": [
      "✅ Stored 16 chunks for rules_and_procedures_of_the_project_management_office1.pdf\n",
      "📄 Processing: rules_of_procedure_of_the_committee_for_monitoring_study_programs_curriculum_committee1.pdf\n",
      "✅ Stored 0 chunks for rules_of_procedure_of_the_committee_for_monitoring_study_programs_curriculum_committee1.pdf\n",
      "📄 Processing: rules_on_academic_failure_at_ius1.pdf\n"
     ]
    },
    {
     "name": "stderr",
     "output_type": "stream",
     "text": [
      "Created a chunk of size 2084, which is longer than the specified 500\n",
      "Created a chunk of size 1065, which is longer than the specified 500\n"
     ]
    },
    {
     "name": "stdout",
     "output_type": "stream",
     "text": [
      "✅ Stored 8 chunks for rules_on_academic_failure_at_ius1.pdf\n",
      "📄 Processing: sample_matrix_2_annex_xx_courses_impact_on_los_gbe.pdf\n"
     ]
    },
    {
     "name": "stderr",
     "output_type": "stream",
     "text": [
      "Created a chunk of size 2303, which is longer than the specified 500\n",
      "Created a chunk of size 2144, which is longer than the specified 500\n",
      "Created a chunk of size 2196, which is longer than the specified 500\n",
      "Created a chunk of size 2717, which is longer than the specified 500\n",
      "Created a chunk of size 2910, which is longer than the specified 500\n",
      "Created a chunk of size 2346, which is longer than the specified 500\n",
      "Created a chunk of size 2170, which is longer than the specified 500\n",
      "Created a chunk of size 1756, which is longer than the specified 500\n",
      "Created a chunk of size 2505, which is longer than the specified 500\n",
      "Created a chunk of size 2080, which is longer than the specified 500\n",
      "Created a chunk of size 2038, which is longer than the specified 500\n",
      "Created a chunk of size 2185, which is longer than the specified 500\n",
      "Created a chunk of size 1774, which is longer than the specified 500\n",
      "Created a chunk of size 662, which is longer than the specified 500\n"
     ]
    },
    {
     "name": "stdout",
     "output_type": "stream",
     "text": [
      "✅ Stored 3 chunks for sample_matrix_2_annex_xx_courses_impact_on_los_gbe.pdf\n",
      "📄 Processing: sdg-executive-committee-sdg-policy.pdf\n",
      "✅ Stored 0 chunks for sdg-executive-committee-sdg-policy.pdf\n",
      "📄 Processing: sdg-policy.pdf\n",
      "✅ Stored 0 chunks for sdg-policy.pdf\n",
      "📄 Processing: section_of_statut_regulating_students_disciplinary_matters_-_english1.pdf\n",
      "✅ Stored 16 chunks for section_of_statut_regulating_students_disciplinary_matters_-_english1.pdf\n",
      "📄 Processing: senate-decision-incomplete-grade0011.pdf\n",
      "✅ Stored 1 chunks for senate-decision-incomplete-grade0011.pdf\n",
      "📄 Processing: senate-decision-on-extended-admission-deadlines-for-foreign-students-2024.pdf\n",
      "✅ Stored 0 chunks for senate-decision-on-extended-admission-deadlines-for-foreign-students-2024.pdf\n",
      "📄 Processing: senate_decision_on_extension_of_definition_on_published_scientific_papers1.pdf\n",
      "✅ Stored 0 chunks for senate_decision_on_extension_of_definition_on_published_scientific_papers1.pdf\n",
      "📄 Processing: sexual_harassment_policy1.pdf\n",
      "✅ Stored 0 chunks for sexual_harassment_policy1.pdf\n",
      "📄 Processing: SE_Curriculum_II_Cycle.pdf\n",
      "✅ Stored 1 chunks for SE_Curriculum_II_Cycle.pdf\n",
      "📄 Processing: SE_Curriculum_I_Cycle.pdf\n"
     ]
    },
    {
     "name": "stderr",
     "output_type": "stream",
     "text": [
      "Created a chunk of size 4535, which is longer than the specified 500\n"
     ]
    },
    {
     "name": "stdout",
     "output_type": "stream",
     "text": [
      "✅ Stored 2 chunks for SE_Curriculum_I_Cycle.pdf\n",
      "📄 Processing: SPS_Curriculum_III_Cycle.pdf\n",
      "✅ Stored 1 chunks for SPS_Curriculum_III_Cycle.pdf\n",
      "📄 Processing: SPS_Curriculum_II_Cycle.pdf\n"
     ]
    },
    {
     "name": "stderr",
     "output_type": "stream",
     "text": [
      "Created a chunk of size 3509, which is longer than the specified 500\n",
      "Created a chunk of size 4078, which is longer than the specified 500\n"
     ]
    },
    {
     "name": "stdout",
     "output_type": "stream",
     "text": [
      "✅ Stored 2 chunks for SPS_Curriculum_II_Cycle.pdf\n",
      "📄 Processing: SPS_Curriculum_I_Cycle.pdf\n"
     ]
    },
    {
     "name": "stderr",
     "output_type": "stream",
     "text": [
      "Created a chunk of size 1899, which is longer than the specified 500\n",
      "Created a chunk of size 2862, which is longer than the specified 500\n",
      "Created a chunk of size 2445, which is longer than the specified 500\n",
      "Created a chunk of size 3040, which is longer than the specified 500\n",
      "Created a chunk of size 2666, which is longer than the specified 500\n",
      "Created a chunk of size 2662, which is longer than the specified 500\n",
      "Created a chunk of size 2663, which is longer than the specified 500\n",
      "Created a chunk of size 3046, which is longer than the specified 500\n",
      "Created a chunk of size 2736, which is longer than the specified 500\n",
      "Created a chunk of size 2391, which is longer than the specified 500\n",
      "Created a chunk of size 3295, which is longer than the specified 500\n"
     ]
    },
    {
     "name": "stdout",
     "output_type": "stream",
     "text": [
      "✅ Stored 2 chunks for SPS_Curriculum_I_Cycle.pdf\n",
      "📄 Processing: study-rules-for-the-second-cycle-studies-revised-text-2024.pdf\n"
     ]
    },
    {
     "name": "stderr",
     "output_type": "stream",
     "text": [
      "Created a chunk of size 1995, which is longer than the specified 500\n",
      "Created a chunk of size 2534, which is longer than the specified 500\n",
      "Created a chunk of size 2995, which is longer than the specified 500\n",
      "Created a chunk of size 2775, which is longer than the specified 500\n",
      "Created a chunk of size 2702, which is longer than the specified 500\n",
      "Created a chunk of size 2741, which is longer than the specified 500\n",
      "Created a chunk of size 2995, which is longer than the specified 500\n",
      "Created a chunk of size 3120, which is longer than the specified 500\n",
      "Created a chunk of size 3133, which is longer than the specified 500\n",
      "Created a chunk of size 2844, which is longer than the specified 500\n",
      "Created a chunk of size 2634, which is longer than the specified 500\n",
      "Created a chunk of size 2339, which is longer than the specified 500\n",
      "Created a chunk of size 3336, which is longer than the specified 500\n"
     ]
    },
    {
     "name": "stdout",
     "output_type": "stream",
     "text": [
      "✅ Stored 14 chunks for study-rules-for-the-second-cycle-studies-revised-text-2024.pdf\n",
      "📄 Processing: study-rules-for-third-study-cycle-revised-text-2024.pdf\n"
     ]
    },
    {
     "name": "stderr",
     "output_type": "stream",
     "text": [
      "Created a chunk of size 2305, which is longer than the specified 500\n",
      "Created a chunk of size 2849, which is longer than the specified 500\n",
      "Created a chunk of size 1173, which is longer than the specified 500\n"
     ]
    },
    {
     "name": "stdout",
     "output_type": "stream",
     "text": [
      "✅ Stored 14 chunks for study-rules-for-third-study-cycle-revised-text-2024.pdf\n",
      "📄 Processing: the-policy-on-part-time-lecturers-at-ius.pdf\n"
     ]
    },
    {
     "name": "stderr",
     "output_type": "stream",
     "text": [
      "Created a chunk of size 3546, which is longer than the specified 500\n"
     ]
    },
    {
     "name": "stdout",
     "output_type": "stream",
     "text": [
      "✅ Stored 4 chunks for the-policy-on-part-time-lecturers-at-ius.pdf\n",
      "📄 Processing: TLT_Curriculum_I_Cycle.pdf\n"
     ]
    },
    {
     "name": "stderr",
     "output_type": "stream",
     "text": [
      "Created a chunk of size 3503, which is longer than the specified 500\n"
     ]
    },
    {
     "name": "stdout",
     "output_type": "stream",
     "text": [
      "✅ Stored 2 chunks for TLT_Curriculum_I_Cycle.pdf\n",
      "📄 Processing: uo-odluka-o-kriterijima-za-dodjelu-stipendija-za-2-ciklus-studija.pdf\n",
      "✅ Stored 0 chunks for uo-odluka-o-kriterijima-za-dodjelu-stipendija-za-2-ciklus-studija.pdf\n",
      "📄 Processing: uo_33-2011_-_odluka_o_proceduri_razvoja_donosenja_i_implementacije_strategije_ius1.pdf\n",
      "✅ Stored 0 chunks for uo_33-2011_-_odluka_o_proceduri_razvoja_donosenja_i_implementacije_strategije_ius1.pdf\n",
      "📄 Processing: VACD_Curriculum_II_Cycle.pdf\n",
      "✅ Stored 1 chunks for VACD_Curriculum_II_Cycle.pdf\n",
      "📄 Processing: VACD_Curriculum_I_Cycle.pdf\n",
      "✅ Stored 2 chunks for VACD_Curriculum_I_Cycle.pdf\n"
     ]
    }
   ],
   "source": [
    "# data processing\n",
    "\n",
    "from scripts.processor import run_all\n",
    "run_all()\n"
   ]
  },
  {
   "cell_type": "code",
   "execution_count": null,
   "id": "1d2b6434",
   "metadata": {},
   "outputs": [
    {
     "name": "stdout",
     "output_type": "stream",
     "text": [
      "\n",
      "🔹 Result 1\n",
      "📄 Source: ius_strategic_plan_2022_20261.pdf\n",
      "📝 Content:\n",
      "Page 11 of 29 \n",
      " \n",
      "V \n",
      "Strategic Planning Activities  \n",
      " \n",
      "The process of the IUS Strategic planning for the period 2022 -2026 was initiated by the \n",
      "Rectorate in October 2020. After initial meetings and consultations, IUS Rector, Prof. Dr. Ahmet \n",
      "Yildirim, passed the Decision on Appointment of Strategic Planning Executive Committee - \n",
      "SPEC), headed by Prof. Dr. Sencer Yeralan, the Dean of the Faculty of Engineering and Natural \n",
      "Sciences (FENS)2. The SPEC, as a supportive body was tasked to “draft and...\n",
      "\n",
      "🔹 Result 2\n",
      "📄 Source: ius_strategic_plan_english.pdf\n",
      "📝 Content:\n",
      "Page 11 of 29 \n",
      " \n",
      "V \n",
      "Strategic Planning Activities  \n",
      " \n",
      "The process of the IUS Strategic planning for the period 2022 -2026 was initiated by the \n",
      "Rectorate in October 2020. After initial meetings and consultations, IUS Rector, Prof. Dr. Ahmet \n",
      "Yildirim, passed the Decision on Appointment of Strategic Planning Executive Committee - \n",
      "SPEC), headed by Prof. Dr. Sencer Yeralan, the Dean of the Faculty of Engineering and Natural \n",
      "Sciences (FENS)2. The SPEC, as a supportive body was tasked to “draft and...\n",
      "\n",
      "🔹 Result 3\n",
      "📄 Source: ius_strategic_plan_2022_20261.pdf\n",
      "📝 Content:\n",
      "Page 7 of 29 \n",
      " \n",
      "Overall, it is possible to conclude that IUS managed to turn the COVID-19 pandemic context, \n",
      "which would normally and naturally be considered as an impediment, into new opportunities \n",
      "for the higher education it provides.  \n",
      "The IUS Strategic Plan 2022-2026 sets out the 5-year university trajectory, which orbits around \n",
      "three essential and interconnected general goals, as follows: student-centric, research-centric \n",
      "and global citizenship goals. \n",
      "In order to achieve these goals, th...\n"
     ]
    }
   ],
   "source": [
    "#retriever test\n",
    "from scripts.retriever import retrieve_docs\n",
    "\n",
    "query = \"What is the IUS strategic plan for 2023?\"\n",
    "results = retrieve_docs(query)\n",
    "\n",
    "for i, (doc, meta) in enumerate(results):\n",
    "    print(f\"\\n🔹 Result {i+1}\")\n",
    "    print(f\"📄 Source: {meta['filename']}\")\n",
    "    print(f\"📝 Content:\\n{doc[:500]}...\")\n"
   ]
  },
  {
   "cell_type": "code",
   "execution_count": 8,
   "id": "e7b16f5b",
   "metadata": {},
   "outputs": [
    {
     "name": "stdout",
     "output_type": "stream",
     "text": [
      "DOC: 5 \n",
      " \n",
      "adopted corrective measures, as well as the opinions of internal and external stakeholders (e.g. \n",
      "students and/or their organizations, business representatives, professional associations, etc.). \n",
      " (3) The request is submitted to the Office for Quality Assurance in electronic form, using form \n",
      "F\n"
     ]
    },
    {
     "ename": "KeyError",
     "evalue": "slice(None, 300, None)",
     "output_type": "error",
     "traceback": [
      "\u001b[31m---------------------------------------------------------------------------\u001b[39m",
      "\u001b[31mKeyError\u001b[39m                                  Traceback (most recent call last)",
      "\u001b[36mCell\u001b[39m\u001b[36m \u001b[39m\u001b[32mIn[8]\u001b[39m\u001b[32m, line 7\u001b[39m\n\u001b[32m      5\u001b[39m \u001b[38;5;28;01mfor\u001b[39;00m doc, meta \u001b[38;5;129;01min\u001b[39;00m retrieved_docs:\n\u001b[32m      6\u001b[39m     \u001b[38;5;28mprint\u001b[39m(\u001b[33m\"\u001b[39m\u001b[33mDOC:\u001b[39m\u001b[33m\"\u001b[39m, doc[:\u001b[32m300\u001b[39m])  \u001b[38;5;66;03m# print snippet\u001b[39;00m\n\u001b[32m----> \u001b[39m\u001b[32m7\u001b[39m     \u001b[38;5;28mprint\u001b[39m(\u001b[33m\"\u001b[39m\u001b[33mSOURCE:\u001b[39m\u001b[33m\"\u001b[39m, \u001b[43mmeta\u001b[49m\u001b[43m[\u001b[49m\u001b[43m:\u001b[49m\u001b[32;43m300\u001b[39;49m\u001b[43m]\u001b[49m)  \u001b[38;5;66;03m# or whatever key you set\u001b[39;00m\n",
      "\u001b[31mKeyError\u001b[39m: slice(None, 300, None)"
     ]
    }
   ],
   "source": [
    "from scripts.retriever import retrieve_docs\n",
    "query = \"I am AIDE student and I want to get informed about my curriculum\"\n",
    "retrieved_docs = retrieve_docs(query)\n",
    "\n",
    "for doc, meta in retrieved_docs:\n",
    "    print(\"DOC:\", doc[:300])  # print snippet\n",
    "    print(\"SOURCE:\", meta[:300])  # or whatever key you set"
   ]
  },
  {
   "cell_type": "markdown",
   "id": "17441704",
   "metadata": {},
   "source": [
    "#### Checking, Moving and Creating OCR for Unreadable PDFs"
   ]
  },
  {
   "cell_type": "code",
   "execution_count": 2,
   "id": "a1bb8f50",
   "metadata": {},
   "outputs": [],
   "source": [
    "from scripts.embed_ocr_unreadables import embed_ocr_pdfs\n",
    "\n",
    "embed_ocr_pdfs(\"./data/pdfs\")"
   ]
  },
  {
   "cell_type": "markdown",
   "id": "565b3852",
   "metadata": {},
   "source": [
    "## USING GROQ for API [LLAMA]"
   ]
  },
  {
   "cell_type": "code",
   "execution_count": 1,
   "id": "7e9c7606",
   "metadata": {},
   "outputs": [],
   "source": [
    "# Setting the api key for env \n",
    "# Couldn't define it in terminal so here it is. \n",
    "# DO NOT run this code it is already implemented in chatbot.py change there if you want to change\n",
    "# This is only for step search.\n",
    "import os\n",
    "os.environ[\"GROQ_API_KEY\"] = \"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\""
   ]
  },
  {
   "cell_type": "markdown",
   "id": "37af578a",
   "metadata": {},
   "source": [
    "### Creating first Call"
   ]
  },
  {
   "cell_type": "code",
   "execution_count": 2,
   "id": "020e4fb0",
   "metadata": {},
   "outputs": [
    {
     "name": "stdout",
     "output_type": "stream",
     "text": [
      "I'm ready to assist you. However, I'd like to clarify that I don't see any relevant information or context provided for me to work with. Could you please provide more context or specify what you would like to know? As your IUS assistant, I'll do my best to provide accurate and relevant information based on the official university resources.\n"
     ]
    }
   ],
   "source": [
    "from scripts.chatbot import ask_chatbot\n",
    "\n",
    "response = ask_chatbot(\"s\")\n",
    "print(response)\n"
   ]
  },
  {
   "cell_type": "markdown",
   "id": "8e3788be",
   "metadata": {},
   "source": [
    "### Testing if GROQ API WORKS"
   ]
  },
  {
   "cell_type": "code",
   "execution_count": 3,
   "id": "a8c858e9",
   "metadata": {},
   "outputs": [
    {
     "name": "stdout",
     "output_type": "stream",
     "text": [
      "Here is a haiku about isekai:\n",
      "\n",
      "Transported to realm\n",
      "Magic and monsters await\n",
      "Worlds beyond my own"
     ]
    }
   ],
   "source": [
    "from groq import Groq\n",
    "\n",
    "client = Groq()\n",
    "completion = client.chat.completions.create(\n",
    "    model=\"meta-llama/llama-4-scout-17b-16e-instruct\",\n",
    "    messages=[\n",
    "        {\n",
    "            \"role\": \"user\",\n",
    "            \"content\": \"write me a haikyu about isekai\"\n",
    "        }\n",
    "    ],\n",
    "    temperature=1,\n",
    "    max_completion_tokens=1024,\n",
    "    top_p=1,\n",
    "    stream=True,\n",
    "    stop=None,\n",
    ")\n",
    "\n",
    "for chunk in completion:\n",
    "    print(chunk.choices[0].delta.content or \"\", end=\"\")"
   ]
  },
  {
   "cell_type": "code",
   "execution_count": null,
   "id": "7704b482",
   "metadata": {},
   "outputs": [
    {
     "name": "stdout",
     "output_type": "stream",
     "text": [
      "{'ids': [['doc1', 'doc2']], 'distances': [[0.9026352, 1.0358157]], 'embeddings': None, 'metadatas': [[{'source': 'notion'}, {'source': 'google-docs'}]], 'documents': [['This is document1', 'This is document2']], 'uris': None, 'data': None, 'included': ['metadatas', 'documents', 'distances']}\n"
     ]
    }
   ],
   "source": [
    "import chromadb\n",
    "\n",
    "client = chromadb.HttpClient(host=\"localhost\", port=8000) \n",
    "collection = client.create_collection(\"sample_collection\")\n",
    "\n",
    "collection.add(\n",
    "    documents=[\"This is document1\", \"This is document2\"],\n",
    "    metadatas=[{\"source\": \"notion\"}, {\"source\": \"google-docs\"}],\n",
    "    ids=[\"doc1\", \"doc2\"],\n",
    ")\n",
    "\n",
    "results = collection.query(\n",
    "    query_texts=[\"This is a query document\"],\n",
    "    n_results=2,\n",
    ")\n",
    "\n",
    "print(results)"
   ]
  },
  {
   "cell_type": "code",
   "execution_count": null,
   "id": "0544ee7b",
   "metadata": {},
   "outputs": [
    {
     "ename": "RateLimitError",
     "evalue": "Error code: 429 - {'error': {'message': 'You exceeded your current quota, please check your plan and billing details. For more information on this error, read the docs: https://platform.openai.com/docs/guides/error-codes/api-errors.', 'type': 'insufficient_quota', 'param': None, 'code': 'insufficient_quota'}}",
     "output_type": "error",
     "traceback": [
      "\u001b[31m---------------------------------------------------------------------------\u001b[39m",
      "\u001b[31mRateLimitError\u001b[39m                            Traceback (most recent call last)",
      "\u001b[36mCell\u001b[39m\u001b[36m \u001b[39m\u001b[32mIn[5]\u001b[39m\u001b[32m, line 8\u001b[39m\n\u001b[32m      3\u001b[39m \u001b[38;5;66;03m# Key by EmreSevinc don't use recklessly.\u001b[39;00m\n\u001b[32m      4\u001b[39m client = OpenAI(\n\u001b[32m      5\u001b[39m   api_key=\u001b[33m\"\u001b[39m\u001b[33msk-proj-KUTyOwv58Ka-NSo5O9whJjvzwdHl5PtdNkDMLI7IS6XEwgEP4sQE6jp6VLSQ7ggRD_0C-IF40uT3BlbkFJ1073V-VPz90QENAs9fnk6KZ-KPzTIHg8jO5FvGTP6ntK1V6-tQU0e7TyocMm8ffw7HHqwlPxYA\u001b[39m\u001b[33m\"\u001b[39m\n\u001b[32m      6\u001b[39m )\n\u001b[32m----> \u001b[39m\u001b[32m8\u001b[39m completion = \u001b[43mclient\u001b[49m\u001b[43m.\u001b[49m\u001b[43mchat\u001b[49m\u001b[43m.\u001b[49m\u001b[43mcompletions\u001b[49m\u001b[43m.\u001b[49m\u001b[43mcreate\u001b[49m\u001b[43m(\u001b[49m\n\u001b[32m      9\u001b[39m \u001b[43m  \u001b[49m\u001b[43mmodel\u001b[49m\u001b[43m=\u001b[49m\u001b[33;43m\"\u001b[39;49m\u001b[33;43mgpt-3.5-turbo-0125\u001b[39;49m\u001b[33;43m\"\u001b[39;49m\u001b[43m,\u001b[49m\n\u001b[32m     10\u001b[39m \u001b[43m  \u001b[49m\u001b[43mstore\u001b[49m\u001b[43m=\u001b[49m\u001b[38;5;28;43;01mTrue\u001b[39;49;00m\u001b[43m,\u001b[49m\n\u001b[32m     11\u001b[39m \u001b[43m  \u001b[49m\u001b[43mmessages\u001b[49m\u001b[43m=\u001b[49m\u001b[43m[\u001b[49m\n\u001b[32m     12\u001b[39m \u001b[43m    \u001b[49m\u001b[43m{\u001b[49m\u001b[33;43m\"\u001b[39;49m\u001b[33;43mrole\u001b[39;49m\u001b[33;43m\"\u001b[39;49m\u001b[43m:\u001b[49m\u001b[43m \u001b[49m\u001b[33;43m\"\u001b[39;49m\u001b[33;43muser\u001b[39;49m\u001b[33;43m\"\u001b[39;49m\u001b[43m,\u001b[49m\u001b[43m \u001b[49m\u001b[33;43m\"\u001b[39;49m\u001b[33;43mcontent\u001b[39;49m\u001b[33;43m\"\u001b[39;49m\u001b[43m:\u001b[49m\u001b[43m \u001b[49m\u001b[33;43m\"\u001b[39;49m\u001b[33;43mwrite a haiku about ai\u001b[39;49m\u001b[33;43m\"\u001b[39;49m\u001b[43m}\u001b[49m\n\u001b[32m     13\u001b[39m \u001b[43m  \u001b[49m\u001b[43m]\u001b[49m\n\u001b[32m     14\u001b[39m \u001b[43m)\u001b[49m\n\u001b[32m     16\u001b[39m \u001b[38;5;28mprint\u001b[39m(completion.choices[\u001b[32m0\u001b[39m].message);\n",
      "\u001b[36mFile \u001b[39m\u001b[32mc:\\Users\\Emre Sevinç\\Projects\\Project2-IUS-Chatbot\\venv\\Lib\\site-packages\\openai\\_utils\\_utils.py:287\u001b[39m, in \u001b[36mrequired_args.<locals>.inner.<locals>.wrapper\u001b[39m\u001b[34m(*args, **kwargs)\u001b[39m\n\u001b[32m    285\u001b[39m             msg = \u001b[33mf\u001b[39m\u001b[33m\"\u001b[39m\u001b[33mMissing required argument: \u001b[39m\u001b[38;5;132;01m{\u001b[39;00mquote(missing[\u001b[32m0\u001b[39m])\u001b[38;5;132;01m}\u001b[39;00m\u001b[33m\"\u001b[39m\n\u001b[32m    286\u001b[39m     \u001b[38;5;28;01mraise\u001b[39;00m \u001b[38;5;167;01mTypeError\u001b[39;00m(msg)\n\u001b[32m--> \u001b[39m\u001b[32m287\u001b[39m \u001b[38;5;28;01mreturn\u001b[39;00m \u001b[43mfunc\u001b[49m\u001b[43m(\u001b[49m\u001b[43m*\u001b[49m\u001b[43margs\u001b[49m\u001b[43m,\u001b[49m\u001b[43m \u001b[49m\u001b[43m*\u001b[49m\u001b[43m*\u001b[49m\u001b[43mkwargs\u001b[49m\u001b[43m)\u001b[49m\n",
      "\u001b[36mFile \u001b[39m\u001b[32mc:\\Users\\Emre Sevinç\\Projects\\Project2-IUS-Chatbot\\venv\\Lib\\site-packages\\openai\\resources\\chat\\completions\\completions.py:925\u001b[39m, in \u001b[36mCompletions.create\u001b[39m\u001b[34m(self, messages, model, audio, frequency_penalty, function_call, functions, logit_bias, logprobs, max_completion_tokens, max_tokens, metadata, modalities, n, parallel_tool_calls, prediction, presence_penalty, reasoning_effort, response_format, seed, service_tier, stop, store, stream, stream_options, temperature, tool_choice, tools, top_logprobs, top_p, user, web_search_options, extra_headers, extra_query, extra_body, timeout)\u001b[39m\n\u001b[32m    882\u001b[39m \u001b[38;5;129m@required_args\u001b[39m([\u001b[33m\"\u001b[39m\u001b[33mmessages\u001b[39m\u001b[33m\"\u001b[39m, \u001b[33m\"\u001b[39m\u001b[33mmodel\u001b[39m\u001b[33m\"\u001b[39m], [\u001b[33m\"\u001b[39m\u001b[33mmessages\u001b[39m\u001b[33m\"\u001b[39m, \u001b[33m\"\u001b[39m\u001b[33mmodel\u001b[39m\u001b[33m\"\u001b[39m, \u001b[33m\"\u001b[39m\u001b[33mstream\u001b[39m\u001b[33m\"\u001b[39m])\n\u001b[32m    883\u001b[39m \u001b[38;5;28;01mdef\u001b[39;00m\u001b[38;5;250m \u001b[39m\u001b[34mcreate\u001b[39m(\n\u001b[32m    884\u001b[39m     \u001b[38;5;28mself\u001b[39m,\n\u001b[32m   (...)\u001b[39m\u001b[32m    922\u001b[39m     timeout: \u001b[38;5;28mfloat\u001b[39m | httpx.Timeout | \u001b[38;5;28;01mNone\u001b[39;00m | NotGiven = NOT_GIVEN,\n\u001b[32m    923\u001b[39m ) -> ChatCompletion | Stream[ChatCompletionChunk]:\n\u001b[32m    924\u001b[39m     validate_response_format(response_format)\n\u001b[32m--> \u001b[39m\u001b[32m925\u001b[39m     \u001b[38;5;28;01mreturn\u001b[39;00m \u001b[38;5;28;43mself\u001b[39;49m\u001b[43m.\u001b[49m\u001b[43m_post\u001b[49m\u001b[43m(\u001b[49m\n\u001b[32m    926\u001b[39m \u001b[43m        \u001b[49m\u001b[33;43m\"\u001b[39;49m\u001b[33;43m/chat/completions\u001b[39;49m\u001b[33;43m\"\u001b[39;49m\u001b[43m,\u001b[49m\n\u001b[32m    927\u001b[39m \u001b[43m        \u001b[49m\u001b[43mbody\u001b[49m\u001b[43m=\u001b[49m\u001b[43mmaybe_transform\u001b[49m\u001b[43m(\u001b[49m\n\u001b[32m    928\u001b[39m \u001b[43m            \u001b[49m\u001b[43m{\u001b[49m\n\u001b[32m    929\u001b[39m \u001b[43m                \u001b[49m\u001b[33;43m\"\u001b[39;49m\u001b[33;43mmessages\u001b[39;49m\u001b[33;43m\"\u001b[39;49m\u001b[43m:\u001b[49m\u001b[43m \u001b[49m\u001b[43mmessages\u001b[49m\u001b[43m,\u001b[49m\n\u001b[32m    930\u001b[39m \u001b[43m                \u001b[49m\u001b[33;43m\"\u001b[39;49m\u001b[33;43mmodel\u001b[39;49m\u001b[33;43m\"\u001b[39;49m\u001b[43m:\u001b[49m\u001b[43m \u001b[49m\u001b[43mmodel\u001b[49m\u001b[43m,\u001b[49m\n\u001b[32m    931\u001b[39m \u001b[43m                \u001b[49m\u001b[33;43m\"\u001b[39;49m\u001b[33;43maudio\u001b[39;49m\u001b[33;43m\"\u001b[39;49m\u001b[43m:\u001b[49m\u001b[43m \u001b[49m\u001b[43maudio\u001b[49m\u001b[43m,\u001b[49m\n\u001b[32m    932\u001b[39m \u001b[43m                \u001b[49m\u001b[33;43m\"\u001b[39;49m\u001b[33;43mfrequency_penalty\u001b[39;49m\u001b[33;43m\"\u001b[39;49m\u001b[43m:\u001b[49m\u001b[43m \u001b[49m\u001b[43mfrequency_penalty\u001b[49m\u001b[43m,\u001b[49m\n\u001b[32m    933\u001b[39m \u001b[43m                \u001b[49m\u001b[33;43m\"\u001b[39;49m\u001b[33;43mfunction_call\u001b[39;49m\u001b[33;43m\"\u001b[39;49m\u001b[43m:\u001b[49m\u001b[43m \u001b[49m\u001b[43mfunction_call\u001b[49m\u001b[43m,\u001b[49m\n\u001b[32m    934\u001b[39m \u001b[43m                \u001b[49m\u001b[33;43m\"\u001b[39;49m\u001b[33;43mfunctions\u001b[39;49m\u001b[33;43m\"\u001b[39;49m\u001b[43m:\u001b[49m\u001b[43m \u001b[49m\u001b[43mfunctions\u001b[49m\u001b[43m,\u001b[49m\n\u001b[32m    935\u001b[39m \u001b[43m                \u001b[49m\u001b[33;43m\"\u001b[39;49m\u001b[33;43mlogit_bias\u001b[39;49m\u001b[33;43m\"\u001b[39;49m\u001b[43m:\u001b[49m\u001b[43m \u001b[49m\u001b[43mlogit_bias\u001b[49m\u001b[43m,\u001b[49m\n\u001b[32m    936\u001b[39m \u001b[43m                \u001b[49m\u001b[33;43m\"\u001b[39;49m\u001b[33;43mlogprobs\u001b[39;49m\u001b[33;43m\"\u001b[39;49m\u001b[43m:\u001b[49m\u001b[43m \u001b[49m\u001b[43mlogprobs\u001b[49m\u001b[43m,\u001b[49m\n\u001b[32m    937\u001b[39m \u001b[43m                \u001b[49m\u001b[33;43m\"\u001b[39;49m\u001b[33;43mmax_completion_tokens\u001b[39;49m\u001b[33;43m\"\u001b[39;49m\u001b[43m:\u001b[49m\u001b[43m \u001b[49m\u001b[43mmax_completion_tokens\u001b[49m\u001b[43m,\u001b[49m\n\u001b[32m    938\u001b[39m \u001b[43m                \u001b[49m\u001b[33;43m\"\u001b[39;49m\u001b[33;43mmax_tokens\u001b[39;49m\u001b[33;43m\"\u001b[39;49m\u001b[43m:\u001b[49m\u001b[43m \u001b[49m\u001b[43mmax_tokens\u001b[49m\u001b[43m,\u001b[49m\n\u001b[32m    939\u001b[39m \u001b[43m                \u001b[49m\u001b[33;43m\"\u001b[39;49m\u001b[33;43mmetadata\u001b[39;49m\u001b[33;43m\"\u001b[39;49m\u001b[43m:\u001b[49m\u001b[43m \u001b[49m\u001b[43mmetadata\u001b[49m\u001b[43m,\u001b[49m\n\u001b[32m    940\u001b[39m \u001b[43m                \u001b[49m\u001b[33;43m\"\u001b[39;49m\u001b[33;43mmodalities\u001b[39;49m\u001b[33;43m\"\u001b[39;49m\u001b[43m:\u001b[49m\u001b[43m \u001b[49m\u001b[43mmodalities\u001b[49m\u001b[43m,\u001b[49m\n\u001b[32m    941\u001b[39m \u001b[43m                \u001b[49m\u001b[33;43m\"\u001b[39;49m\u001b[33;43mn\u001b[39;49m\u001b[33;43m\"\u001b[39;49m\u001b[43m:\u001b[49m\u001b[43m \u001b[49m\u001b[43mn\u001b[49m\u001b[43m,\u001b[49m\n\u001b[32m    942\u001b[39m \u001b[43m                \u001b[49m\u001b[33;43m\"\u001b[39;49m\u001b[33;43mparallel_tool_calls\u001b[39;49m\u001b[33;43m\"\u001b[39;49m\u001b[43m:\u001b[49m\u001b[43m \u001b[49m\u001b[43mparallel_tool_calls\u001b[49m\u001b[43m,\u001b[49m\n\u001b[32m    943\u001b[39m \u001b[43m                \u001b[49m\u001b[33;43m\"\u001b[39;49m\u001b[33;43mprediction\u001b[39;49m\u001b[33;43m\"\u001b[39;49m\u001b[43m:\u001b[49m\u001b[43m \u001b[49m\u001b[43mprediction\u001b[49m\u001b[43m,\u001b[49m\n\u001b[32m    944\u001b[39m \u001b[43m                \u001b[49m\u001b[33;43m\"\u001b[39;49m\u001b[33;43mpresence_penalty\u001b[39;49m\u001b[33;43m\"\u001b[39;49m\u001b[43m:\u001b[49m\u001b[43m \u001b[49m\u001b[43mpresence_penalty\u001b[49m\u001b[43m,\u001b[49m\n\u001b[32m    945\u001b[39m \u001b[43m                \u001b[49m\u001b[33;43m\"\u001b[39;49m\u001b[33;43mreasoning_effort\u001b[39;49m\u001b[33;43m\"\u001b[39;49m\u001b[43m:\u001b[49m\u001b[43m \u001b[49m\u001b[43mreasoning_effort\u001b[49m\u001b[43m,\u001b[49m\n\u001b[32m    946\u001b[39m \u001b[43m                \u001b[49m\u001b[33;43m\"\u001b[39;49m\u001b[33;43mresponse_format\u001b[39;49m\u001b[33;43m\"\u001b[39;49m\u001b[43m:\u001b[49m\u001b[43m \u001b[49m\u001b[43mresponse_format\u001b[49m\u001b[43m,\u001b[49m\n\u001b[32m    947\u001b[39m \u001b[43m                \u001b[49m\u001b[33;43m\"\u001b[39;49m\u001b[33;43mseed\u001b[39;49m\u001b[33;43m\"\u001b[39;49m\u001b[43m:\u001b[49m\u001b[43m \u001b[49m\u001b[43mseed\u001b[49m\u001b[43m,\u001b[49m\n\u001b[32m    948\u001b[39m \u001b[43m                \u001b[49m\u001b[33;43m\"\u001b[39;49m\u001b[33;43mservice_tier\u001b[39;49m\u001b[33;43m\"\u001b[39;49m\u001b[43m:\u001b[49m\u001b[43m \u001b[49m\u001b[43mservice_tier\u001b[49m\u001b[43m,\u001b[49m\n\u001b[32m    949\u001b[39m \u001b[43m                \u001b[49m\u001b[33;43m\"\u001b[39;49m\u001b[33;43mstop\u001b[39;49m\u001b[33;43m\"\u001b[39;49m\u001b[43m:\u001b[49m\u001b[43m \u001b[49m\u001b[43mstop\u001b[49m\u001b[43m,\u001b[49m\n\u001b[32m    950\u001b[39m \u001b[43m                \u001b[49m\u001b[33;43m\"\u001b[39;49m\u001b[33;43mstore\u001b[39;49m\u001b[33;43m\"\u001b[39;49m\u001b[43m:\u001b[49m\u001b[43m \u001b[49m\u001b[43mstore\u001b[49m\u001b[43m,\u001b[49m\n\u001b[32m    951\u001b[39m \u001b[43m                \u001b[49m\u001b[33;43m\"\u001b[39;49m\u001b[33;43mstream\u001b[39;49m\u001b[33;43m\"\u001b[39;49m\u001b[43m:\u001b[49m\u001b[43m \u001b[49m\u001b[43mstream\u001b[49m\u001b[43m,\u001b[49m\n\u001b[32m    952\u001b[39m \u001b[43m                \u001b[49m\u001b[33;43m\"\u001b[39;49m\u001b[33;43mstream_options\u001b[39;49m\u001b[33;43m\"\u001b[39;49m\u001b[43m:\u001b[49m\u001b[43m \u001b[49m\u001b[43mstream_options\u001b[49m\u001b[43m,\u001b[49m\n\u001b[32m    953\u001b[39m \u001b[43m                \u001b[49m\u001b[33;43m\"\u001b[39;49m\u001b[33;43mtemperature\u001b[39;49m\u001b[33;43m\"\u001b[39;49m\u001b[43m:\u001b[49m\u001b[43m \u001b[49m\u001b[43mtemperature\u001b[49m\u001b[43m,\u001b[49m\n\u001b[32m    954\u001b[39m \u001b[43m                \u001b[49m\u001b[33;43m\"\u001b[39;49m\u001b[33;43mtool_choice\u001b[39;49m\u001b[33;43m\"\u001b[39;49m\u001b[43m:\u001b[49m\u001b[43m \u001b[49m\u001b[43mtool_choice\u001b[49m\u001b[43m,\u001b[49m\n\u001b[32m    955\u001b[39m \u001b[43m                \u001b[49m\u001b[33;43m\"\u001b[39;49m\u001b[33;43mtools\u001b[39;49m\u001b[33;43m\"\u001b[39;49m\u001b[43m:\u001b[49m\u001b[43m \u001b[49m\u001b[43mtools\u001b[49m\u001b[43m,\u001b[49m\n\u001b[32m    956\u001b[39m \u001b[43m                \u001b[49m\u001b[33;43m\"\u001b[39;49m\u001b[33;43mtop_logprobs\u001b[39;49m\u001b[33;43m\"\u001b[39;49m\u001b[43m:\u001b[49m\u001b[43m \u001b[49m\u001b[43mtop_logprobs\u001b[49m\u001b[43m,\u001b[49m\n\u001b[32m    957\u001b[39m \u001b[43m                \u001b[49m\u001b[33;43m\"\u001b[39;49m\u001b[33;43mtop_p\u001b[39;49m\u001b[33;43m\"\u001b[39;49m\u001b[43m:\u001b[49m\u001b[43m \u001b[49m\u001b[43mtop_p\u001b[49m\u001b[43m,\u001b[49m\n\u001b[32m    958\u001b[39m \u001b[43m                \u001b[49m\u001b[33;43m\"\u001b[39;49m\u001b[33;43muser\u001b[39;49m\u001b[33;43m\"\u001b[39;49m\u001b[43m:\u001b[49m\u001b[43m \u001b[49m\u001b[43muser\u001b[49m\u001b[43m,\u001b[49m\n\u001b[32m    959\u001b[39m \u001b[43m                \u001b[49m\u001b[33;43m\"\u001b[39;49m\u001b[33;43mweb_search_options\u001b[39;49m\u001b[33;43m\"\u001b[39;49m\u001b[43m:\u001b[49m\u001b[43m \u001b[49m\u001b[43mweb_search_options\u001b[49m\u001b[43m,\u001b[49m\n\u001b[32m    960\u001b[39m \u001b[43m            \u001b[49m\u001b[43m}\u001b[49m\u001b[43m,\u001b[49m\n\u001b[32m    961\u001b[39m \u001b[43m            \u001b[49m\u001b[43mcompletion_create_params\u001b[49m\u001b[43m.\u001b[49m\u001b[43mCompletionCreateParamsStreaming\u001b[49m\n\u001b[32m    962\u001b[39m \u001b[43m            \u001b[49m\u001b[38;5;28;43;01mif\u001b[39;49;00m\u001b[43m \u001b[49m\u001b[43mstream\u001b[49m\n\u001b[32m    963\u001b[39m \u001b[43m            \u001b[49m\u001b[38;5;28;43;01melse\u001b[39;49;00m\u001b[43m \u001b[49m\u001b[43mcompletion_create_params\u001b[49m\u001b[43m.\u001b[49m\u001b[43mCompletionCreateParamsNonStreaming\u001b[49m\u001b[43m,\u001b[49m\n\u001b[32m    964\u001b[39m \u001b[43m        \u001b[49m\u001b[43m)\u001b[49m\u001b[43m,\u001b[49m\n\u001b[32m    965\u001b[39m \u001b[43m        \u001b[49m\u001b[43moptions\u001b[49m\u001b[43m=\u001b[49m\u001b[43mmake_request_options\u001b[49m\u001b[43m(\u001b[49m\n\u001b[32m    966\u001b[39m \u001b[43m            \u001b[49m\u001b[43mextra_headers\u001b[49m\u001b[43m=\u001b[49m\u001b[43mextra_headers\u001b[49m\u001b[43m,\u001b[49m\u001b[43m \u001b[49m\u001b[43mextra_query\u001b[49m\u001b[43m=\u001b[49m\u001b[43mextra_query\u001b[49m\u001b[43m,\u001b[49m\u001b[43m \u001b[49m\u001b[43mextra_body\u001b[49m\u001b[43m=\u001b[49m\u001b[43mextra_body\u001b[49m\u001b[43m,\u001b[49m\u001b[43m \u001b[49m\u001b[43mtimeout\u001b[49m\u001b[43m=\u001b[49m\u001b[43mtimeout\u001b[49m\n\u001b[32m    967\u001b[39m \u001b[43m        \u001b[49m\u001b[43m)\u001b[49m\u001b[43m,\u001b[49m\n\u001b[32m    968\u001b[39m \u001b[43m        \u001b[49m\u001b[43mcast_to\u001b[49m\u001b[43m=\u001b[49m\u001b[43mChatCompletion\u001b[49m\u001b[43m,\u001b[49m\n\u001b[32m    969\u001b[39m \u001b[43m        \u001b[49m\u001b[43mstream\u001b[49m\u001b[43m=\u001b[49m\u001b[43mstream\u001b[49m\u001b[43m \u001b[49m\u001b[38;5;129;43;01mor\u001b[39;49;00m\u001b[43m \u001b[49m\u001b[38;5;28;43;01mFalse\u001b[39;49;00m\u001b[43m,\u001b[49m\n\u001b[32m    970\u001b[39m \u001b[43m        \u001b[49m\u001b[43mstream_cls\u001b[49m\u001b[43m=\u001b[49m\u001b[43mStream\u001b[49m\u001b[43m[\u001b[49m\u001b[43mChatCompletionChunk\u001b[49m\u001b[43m]\u001b[49m\u001b[43m,\u001b[49m\n\u001b[32m    971\u001b[39m \u001b[43m    \u001b[49m\u001b[43m)\u001b[49m\n",
      "\u001b[36mFile \u001b[39m\u001b[32mc:\\Users\\Emre Sevinç\\Projects\\Project2-IUS-Chatbot\\venv\\Lib\\site-packages\\openai\\_base_client.py:1239\u001b[39m, in \u001b[36mSyncAPIClient.post\u001b[39m\u001b[34m(self, path, cast_to, body, options, files, stream, stream_cls)\u001b[39m\n\u001b[32m   1225\u001b[39m \u001b[38;5;28;01mdef\u001b[39;00m\u001b[38;5;250m \u001b[39m\u001b[34mpost\u001b[39m(\n\u001b[32m   1226\u001b[39m     \u001b[38;5;28mself\u001b[39m,\n\u001b[32m   1227\u001b[39m     path: \u001b[38;5;28mstr\u001b[39m,\n\u001b[32m   (...)\u001b[39m\u001b[32m   1234\u001b[39m     stream_cls: \u001b[38;5;28mtype\u001b[39m[_StreamT] | \u001b[38;5;28;01mNone\u001b[39;00m = \u001b[38;5;28;01mNone\u001b[39;00m,\n\u001b[32m   1235\u001b[39m ) -> ResponseT | _StreamT:\n\u001b[32m   1236\u001b[39m     opts = FinalRequestOptions.construct(\n\u001b[32m   1237\u001b[39m         method=\u001b[33m\"\u001b[39m\u001b[33mpost\u001b[39m\u001b[33m\"\u001b[39m, url=path, json_data=body, files=to_httpx_files(files), **options\n\u001b[32m   1238\u001b[39m     )\n\u001b[32m-> \u001b[39m\u001b[32m1239\u001b[39m     \u001b[38;5;28;01mreturn\u001b[39;00m cast(ResponseT, \u001b[38;5;28;43mself\u001b[39;49m\u001b[43m.\u001b[49m\u001b[43mrequest\u001b[49m\u001b[43m(\u001b[49m\u001b[43mcast_to\u001b[49m\u001b[43m,\u001b[49m\u001b[43m \u001b[49m\u001b[43mopts\u001b[49m\u001b[43m,\u001b[49m\u001b[43m \u001b[49m\u001b[43mstream\u001b[49m\u001b[43m=\u001b[49m\u001b[43mstream\u001b[49m\u001b[43m,\u001b[49m\u001b[43m \u001b[49m\u001b[43mstream_cls\u001b[49m\u001b[43m=\u001b[49m\u001b[43mstream_cls\u001b[49m\u001b[43m)\u001b[49m)\n",
      "\u001b[36mFile \u001b[39m\u001b[32mc:\\Users\\Emre Sevinç\\Projects\\Project2-IUS-Chatbot\\venv\\Lib\\site-packages\\openai\\_base_client.py:1034\u001b[39m, in \u001b[36mSyncAPIClient.request\u001b[39m\u001b[34m(self, cast_to, options, stream, stream_cls)\u001b[39m\n\u001b[32m   1031\u001b[39m             err.response.read()\n\u001b[32m   1033\u001b[39m         log.debug(\u001b[33m\"\u001b[39m\u001b[33mRe-raising status error\u001b[39m\u001b[33m\"\u001b[39m)\n\u001b[32m-> \u001b[39m\u001b[32m1034\u001b[39m         \u001b[38;5;28;01mraise\u001b[39;00m \u001b[38;5;28mself\u001b[39m._make_status_error_from_response(err.response) \u001b[38;5;28;01mfrom\u001b[39;00m\u001b[38;5;250m \u001b[39m\u001b[38;5;28;01mNone\u001b[39;00m\n\u001b[32m   1036\u001b[39m     \u001b[38;5;28;01mbreak\u001b[39;00m\n\u001b[32m   1038\u001b[39m \u001b[38;5;28;01massert\u001b[39;00m response \u001b[38;5;129;01mis\u001b[39;00m \u001b[38;5;129;01mnot\u001b[39;00m \u001b[38;5;28;01mNone\u001b[39;00m, \u001b[33m\"\u001b[39m\u001b[33mcould not resolve response (should never happen)\u001b[39m\u001b[33m\"\u001b[39m\n",
      "\u001b[31mRateLimitError\u001b[39m: Error code: 429 - {'error': {'message': 'You exceeded your current quota, please check your plan and billing details. For more information on this error, read the docs: https://platform.openai.com/docs/guides/error-codes/api-errors.', 'type': 'insufficient_quota', 'param': None, 'code': 'insufficient_quota'}}"
     ]
    }
   ],
   "source": [
    "from openai import OpenAI\n",
    "\n",
    "# Key by EmreSevinc don't use recklessly.\n",
    "client = OpenAI(\n",
    "  api_key=\"XXXXXXXXXXXXXXXXXXXX\"\n",
    ")\n",
    "\n",
    "completion = client.chat.completions.create(\n",
    "  model=\"gpt-3.5-turbo-0125\",\n",
    "  store=True,\n",
    "  messages=[\n",
    "    {\"role\": \"user\", \"content\": \"write a haiku about ai\"}\n",
    "  ]\n",
    ")\n",
    "\n",
    "print(completion.choices[0].message);\n",
    "\n"
   ]
  },
  {
   "cell_type": "code",
   "execution_count": 6,
   "id": "565e154b",
   "metadata": {},
   "outputs": [
    {
     "data": {
      "text/plain": [
       "[('10 \\n \\na) organize a safe process of work and implementation of safety at work, and control the \\napplication of the provisions of the internal rulebook, other general acts in the field of \\noccupational safety, as well as general and special regulations regulating occupational \\nsafety procedures, \\nb) take care of periodic inspections of machines, devices, and work premises, as well as \\ntraining of workers in the field of occupational safety, \\nc) provide workers with the necessary personal protective equipment, \\nd) cooperate with the Commissioner for Occupational Safety and Health on the plan for the \\nimplementation and improvement of occupational safety, \\ne) participate in the preparation of the proposal for a program of occupational safety measures, \\nf) supervise direct supervisors in the performance of obligations in the field of occupational \\nsafety, \\ng) submit an application for the initiation of proceedings for violation of work obligations due \\nto non-compliance with the prescribed measures of safety at work, \\nh) Follow the implementation of new regulations in the field of occupational safety.  \\n \\nArticle 33 \\nImmediate Supervisor \\n \\nThe immediate supervisor (manager) is obliged to organize the work process in a way that \\nensures safe working conditions, and in particular is obliged to: \\na) to familiarize each newly hired employee with the working conditions, hazards and \\nharmfulness at the workplace, as well as with protective measures, \\nb) to ensure the provision of personal protective equipment and equipment. \\nc) to remove from the workplace a worker who is under the influence of alcohol or narcotics \\nand a worker who does not comply with safety measures at work, \\nd) in order to ensure that the workspace is properly organized, \\ne) to put out of use machines and devices that have been defective and to provide a professional \\nperson to repair them, \\nf) to provide first aid to injured workers, \\ng) to report any injuries at work, \\nh) to control the application of safety measures at work on a daily basis, the serviceability of \\nelectrical installations of devices, work equipment and work premises, \\ni) to file reports for violation of work obligations due to non-compliance with occupational \\nsafety measures.  \\n \\nIX RIGHTS, DUTIES AND RESPONSIBILITIES OF WORKERS \\n \\nArticle 34 \\nThe right to safe and healthy working conditions \\n \\nA worker has the right to safe and healthy working conditions. \\nThe working environment and the means of work must, given the nature of the work, be safe \\nfor workers and must not endanger their health. \\n \\nArticle 35 \\nThe duty of the worker not to expose him/herself and others to danger \\n \\nThe worker is obliged to perform the work in accordance with his professional qualifications \\nand completed training, as well as the instructions given by the employer, so that he/she does',\n",
       "  {'source_url': '',\n",
       "   'language': 'Unknown',\n",
       "   'category': 'occupational safety rulebook',\n",
       "   'filename': 'ius_occupational_safety_rulebook1.pdf'}),\n",
       " ('26 \\n \\nRules in total, but instead, the opposing provision of the adequate law provision or legal regulation \\nwill be applied. \\nArticle 80 \\n(Amendments to the Rulebook) \\nThis Book of Rules is amended, supplemented, and repealed in the same manner which is \\nprescribed for its adoption, in accordance to the Law. \\nArticle 81 \\n(Interpretation of the Rulebook) \\nInterpretation of the Rulebook and its individual provisions is performed but the Board of \\nthe Trustees of the University. \\nArticle 82 \\n(Right of Access to the Book of Rules)  \\nAll employees have the right to direct access to this Book of Rules and its amends and \\nsupplements. \\nArticle 83 \\n(Entering into Force) \\n(1) This Book of Rules shall enter into force on the eighth day following its publication on the IUS \\nnoticeboard. \\n(2) By the day this Book of Rules comes into force, the Rulebook on Labor Relations No. IUS-UO-08-\\n16-1/19 of December 25, 2019, No. IUS-UO 08-27/23 of December 23, 2023, No. IUS-UO 08-1/24 \\nJanuary 19, 2024, No. IUS-UO 08-3/25 of March 11, 2025 and No. IUS-UO 08-5/25 of April 15, \\n2025, will no longer be effective. \\n \\nDate: April 26, 2025 \\nNumber: IUS-UO 08-7/25 \\n \\nPRESIDENT OF THE BOARD OF TRUSTEES \\n \\n   \\n \\n \\n \\n \\n \\n          ______________________ \\n                                                                                                                       Prof. Dr. Sevgi KURTULMUŞ        \\n  \\n \\n \\n \\n \\n \\n \\nDelivered to: \\n1x Notice board \\n1x a/a',\n",
       "  {'category': 'book rules labor relations april',\n",
       "   'source_url': '',\n",
       "   'filename': 'book_of_rules_on_labor_relations_of_ius_april_2025.pdf',\n",
       "   'language': 'Unknown'}),\n",
       " ('21 \\n \\nArticle 87 \\nWork with cleaning agents that are corrosive in chemical composition should not be carried out \\nin a closed room. When working with these means, it is necessary to provide ventilation and \\nventilation. \\nArticle 88 \\n \\nWhen using hazardous and harmful substances at work, all occupational safety rules must be \\napplied in accordance with other regulations and manufacturer\\'s instructions and ensure that \\nhazardous and harmful substances are labeled in the prescribed manner.  \\nAll hazardous and harmful substances used in the teaching process must be listed.  \\n \\nArticle 89 \\n \\nThe employer is obliged to implement occupational safety and health care for workers who are \\nor may be exposed to biological hazards. \\nWhen procuring consumables that are categorized as biological agents in regulation, the \\nEmployer must require the selected supplier to provide him with written information on the \\nproperties of the substances as well as instructions for working with these substances, in order \\nto apply appropriate rules of occupational safety when working with them. \\n \\nArticle 90 \\n \\nThe employer is obliged to carry out work procedures and develop and apply work technology \\nin such a way that it does not endanger the safety and health of workers, taking into account the \\nhighest possible level of protection against risks at work and in connection with work, all in \\naccordance with the rules of occupational safety and other regulations. \\nThe employer is obliged to ensure that only workers who have received appropriate instructions \\nare allowed to have access to places where there is a serious and specific danger. \\n \\nArticle 91 \\n \\nThe employer is obliged to permanently place safety signs in a visible place at workplaces and \\ndangerous work equipment. \\nIf safety signs are not sufficient for effective notification of workers, the employer is obliged to \\nplace written notices and instructions on the conditions and manner of use of work equipment, \\nhazardous chemicals, biological hazards and sources of physical and other harmfulness at work. \\n \\nArticle 92 \\n \\nThe employer is obliged, in accordance with special regulations (Law on Fire Protection and \\nFirefighting (\"Official Gazette of FB&H\", No. 64/09)), to train workers in the aspect of fire \\nprotection, with special reference to the use of fire extinguishers, at least once every two (2) \\nyears. \\nArticle 93 \\n \\nThe employer is obliged to display instructions for safe work in a visible place.',\n",
       "  {'category': 'occupational safety rulebook',\n",
       "   'language': 'Unknown',\n",
       "   'source_url': '',\n",
       "   'filename': 'ius_occupational_safety_rulebook1.pdf'})]"
      ]
     },
     "execution_count": 6,
     "metadata": {},
     "output_type": "execute_result"
    }
   ],
   "source": [
    "from scripts.retriever import retrieve_docs\n",
    "retrieve_docs(\"Tell me about regulations\")"
   ]
  }
 ],
 "metadata": {
  "kernelspec": {
   "display_name": "venv",
   "language": "python",
   "name": "python3"
  },
  "language_info": {
   "codemirror_mode": {
    "name": "ipython",
    "version": 3
   },
   "file_extension": ".py",
   "mimetype": "text/x-python",
   "name": "python",
   "nbconvert_exporter": "python",
   "pygments_lexer": "ipython3",
   "version": "3.12.2"
  }
 },
 "nbformat": 4,
 "nbformat_minor": 5
}
